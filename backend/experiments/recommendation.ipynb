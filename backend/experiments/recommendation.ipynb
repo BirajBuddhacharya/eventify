{
 "cells": [
  {
   "cell_type": "code",
   "execution_count": null,
   "id": "97700193",
   "metadata": {},
   "outputs": [],
   "source": [
    "from ..api.models.event import Event\n",
    "from langchain_core.vectorstores import VectorStore\n",
    "from langchain_community.embeddings import HuggingFaceEmbeddings\n",
    "from langchain_core.documents import Document\n",
    "from langchain_community.vectorstores import FAISS\n",
    "from sqlalchemy import create_engine\n",
    "from sqlalchemy.orm import sessionmaker\n",
    "from pathlib import Path\n",
    "import numpy as np\n",
    "from bs4 import BeautifulSoup\n",
    "import dotenv\n",
    "dotenv.load_dotenv()\n",
    "import os\n",
    "from sqlalchemy.sql.expression import func\n",
    "\n",
    "class EventRecommendationModel: \n",
    "    def __init__(\n",
    "            self, \n",
    "            vector_store_path: Path = Path('models/eventsVectorStore'), \n",
    "            session: sessionmaker = sessionmaker(bind=create_engine(os.getenv(\"DATABASE_URL\")))()\n",
    "        ): \n",
    "        self.session = session\n",
    "        self.embedding_model = HuggingFaceEmbeddings(model_name=\"all-MiniLM-L6-v2\")\n",
    "        self.vector_store_path = vector_store_path\n",
    "        self.vector_store = self.loadVectorStore()\n",
    "\n",
    "    def loadVectorStore(self):\n",
    "        if not self.vector_store_path.exists():\n",
    "            self.vector_store_path.parent.mkdir(parents=True, exist_ok=True)\n",
    "            self.saveVectorStoreEvent()\n",
    "            \n",
    "        vectorStore = FAISS.load_local(\n",
    "            self.vector_store_path, \n",
    "            embeddings=self.embedding_model, \n",
    "            allow_dangerous_deserialization=True\n",
    "        )\n",
    "        return vectorStore\n",
    "\n",
    "    def saveVectorStoreEvent(self):\n",
    "        # load events \n",
    "        events = self.session.query(Event).all()\n",
    "\n",
    "        # preprocess Description\n",
    "        for event in events:\n",
    "            event.description = self._preprocess_description(event.description)\n",
    "\n",
    "        # convert to documents\n",
    "        documents = [Document(page_content=event.description, metadata={\"event_id\": event.event_id}) for event in events]\n",
    "\n",
    "        # create vector store\n",
    "        vector_store = FAISS.from_documents(documents, self.embedding_model)\n",
    "        vector_store.save_local(self.vector_store_path)\n",
    "\n",
    "    def _preprocess_description(self, description):\n",
    "        soup = BeautifulSoup(description, \"html.parser\")\n",
    "        text = soup.get_text()\n",
    "        return text\n",
    "\n",
    "    def recommend_events(self, pastEvents: list[Event], k: int = 5):\n",
    "        if not pastEvents:\n",
    "            # select random value if no pastEvents\n",
    "            pastEvents = [self.session.query(Event).order_by(func.random()).first()]\n",
    "\n",
    "        # get embeddings for past events\n",
    "        pastEventsDescription = [event.description for event in pastEvents]\n",
    "        processedPastEventsDescription = [self._preprocess_description(desc) for desc in pastEventsDescription]\n",
    "        pastEventEmbeddings = self.embedding_model.embed_documents(processedPastEventsDescription)\n",
    "\n",
    "        # average embeddigns to get prefrence vector\n",
    "        preferenceVector = np.mean(pastEventEmbeddings, axis=0)\n",
    "        \n",
    "        # find similar events\n",
    "        similar_events = self.vector_store.similarity_search_by_vector(preferenceVector, k=k)\n",
    "        return similar_events"
   ]
  },
  {
   "cell_type": "code",
   "execution_count": 3,
   "id": "fd8dc475",
   "metadata": {},
   "outputs": [
    {
     "name": "stderr",
     "output_type": "stream",
     "text": [
      "C:\\Users\\Otaku\\AppData\\Local\\Temp\\ipykernel_24740\\2082330493.py:24: LangChainDeprecationWarning: The class `HuggingFaceEmbeddings` was deprecated in LangChain 0.2.2 and will be removed in 1.0. An updated version of the class exists in the :class:`~langchain-huggingface package and should be used instead. To use it run `pip install -U :class:`~langchain-huggingface` and import as `from :class:`~langchain_huggingface import HuggingFaceEmbeddings``.\n",
      "  self.embedding_model = HuggingFaceEmbeddings(model_name=\"all-MiniLM-L6-v2\")\n",
      "d:\\repos\\Eventify\\backend\\.venv\\Lib\\site-packages\\tqdm\\auto.py:21: TqdmWarning: IProgress not found. Please update jupyter and ipywidgets. See https://ipywidgets.readthedocs.io/en/stable/user_install.html\n",
      "  from .autonotebook import tqdm as notebook_tqdm\n"
     ]
    },
    {
     "name": "stdout",
     "output_type": "stream",
     "text": [
      "3.4 s ± 509 ms per loop (mean ± std. dev. of 7 runs, 1 loop each)\n"
     ]
    }
   ],
   "source": [
    "%%timeit\n",
    "model = EventRecommendationModel()"
   ]
  },
  {
   "cell_type": "code",
   "execution_count": 7,
   "id": "919c6efd",
   "metadata": {},
   "outputs": [],
   "source": [
    "model = EventRecommendationModel()"
   ]
  },
  {
   "cell_type": "code",
   "execution_count": 9,
   "id": "1ab247e0",
   "metadata": {},
   "outputs": [
    {
     "name": "stdout",
     "output_type": "stream",
     "text": [
      "90 ms ± 4.52 ms per loop (mean ± std. dev. of 7 runs, 10 loops each)\n"
     ]
    }
   ],
   "source": [
    "%%timeit\n",
    "recommendations = model.recommend_events([])"
   ]
  },
  {
   "cell_type": "code",
   "execution_count": null,
   "id": "206d0eb8",
   "metadata": {},
   "outputs": [],
   "source": []
  }
 ],
 "metadata": {
  "kernelspec": {
   "display_name": ".venv",
   "language": "python",
   "name": "python3"
  },
  "language_info": {
   "codemirror_mode": {
    "name": "ipython",
    "version": 3
   },
   "file_extension": ".py",
   "mimetype": "text/x-python",
   "name": "python",
   "nbconvert_exporter": "python",
   "pygments_lexer": "ipython3",
   "version": "3.12.3"
  }
 },
 "nbformat": 4,
 "nbformat_minor": 5
}

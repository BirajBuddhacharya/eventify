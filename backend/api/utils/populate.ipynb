{
 "cells": [
  {
   "cell_type": "code",
   "execution_count": 4,
   "metadata": {},
   "outputs": [
    {
     "data": {
      "text/html": [
       "<pre style=\"white-space:pre;overflow-x:auto;line-height:normal;font-family:Menlo,'DejaVu Sans Mono',consolas,'Courier New',monospace\"><span style=\"color: #7fbfbf; text-decoration-color: #7fbfbf\">[05/14/25 01:38:39] </span><span style=\"color: #008000; text-decoration-color: #008000\">DEBUG   </span> Starting new HTTP connection <span style=\"font-weight: bold\">(</span><span style=\"color: #008080; text-decoration-color: #008080; font-weight: bold\">1</span><span style=\"font-weight: bold\">)</span>: localhost:<span style=\"color: #008080; text-decoration-color: #008080; font-weight: bold\">5000</span>                 <a href=\"file://d:\\windowsConda\\Lib\\site-packages\\urllib3\\connectionpool.py\" target=\"_blank\"><span style=\"color: #7f7f7f; text-decoration-color: #7f7f7f\">connectionpool.py</span></a><span style=\"color: #7f7f7f; text-decoration-color: #7f7f7f\">:</span><a href=\"file://d:\\windowsConda\\Lib\\site-packages\\urllib3\\connectionpool.py#243\" target=\"_blank\"><span style=\"color: #7f7f7f; text-decoration-color: #7f7f7f\">243</span></a>\n",
       "</pre>\n"
      ],
      "text/plain": [
       "\u001b[2;36m[05/14/25 01:38:39]\u001b[0m\u001b[2;36m \u001b[0m\u001b[32mDEBUG   \u001b[0m Starting new HTTP connection \u001b[1m(\u001b[0m\u001b[1;36m1\u001b[0m\u001b[1m)\u001b[0m: localhost:\u001b[1;36m5000\u001b[0m                 \u001b]8;id=794821;file://d:\\windowsConda\\Lib\\site-packages\\urllib3\\connectionpool.py\u001b\\\u001b[2mconnectionpool.py\u001b[0m\u001b]8;;\u001b\\\u001b[2m:\u001b[0m\u001b]8;id=976162;file://d:\\windowsConda\\Lib\\site-packages\\urllib3\\connectionpool.py#243\u001b\\\u001b[2m243\u001b[0m\u001b]8;;\u001b\\\n"
      ]
     },
     "metadata": {},
     "output_type": "display_data"
    },
    {
     "data": {
      "text/html": [
       "<pre style=\"white-space:pre;overflow-x:auto;line-height:normal;font-family:Menlo,'DejaVu Sans Mono',consolas,'Courier New',monospace\"><span style=\"color: #7fbfbf; text-decoration-color: #7fbfbf\">[05/14/25 01:38:43] </span><span style=\"color: #008000; text-decoration-color: #008000\">DEBUG   </span> <span style=\"color: #0000ff; text-decoration-color: #0000ff; text-decoration: underline\">http://localhost:5000</span> <span style=\"color: #008000; text-decoration-color: #008000\">\"</span><span style=\"color: #808000; text-decoration-color: #808000; font-weight: bold\">POST</span><span style=\"color: #008000; text-decoration-color: #008000\"> /api/event/insertEvent HTTP/11\"</span> <span style=\"color: #008080; text-decoration-color: #008080; font-weight: bold\">201</span>  <a href=\"file://d:\\windowsConda\\Lib\\site-packages\\urllib3\\connectionpool.py\" target=\"_blank\"><span style=\"color: #7f7f7f; text-decoration-color: #7f7f7f\">connectionpool.py</span></a><span style=\"color: #7f7f7f; text-decoration-color: #7f7f7f\">:</span><a href=\"file://d:\\windowsConda\\Lib\\site-packages\\urllib3\\connectionpool.py#546\" target=\"_blank\"><span style=\"color: #7f7f7f; text-decoration-color: #7f7f7f\">546</span></a>\n",
       "<span style=\"color: #7fbfbf; text-decoration-color: #7fbfbf\">                    </span>         <span style=\"color: #008080; text-decoration-color: #008080; font-weight: bold\">517</span>                                                              <span style=\"color: #7f7f7f; text-decoration-color: #7f7f7f\">                     </span>\n",
       "</pre>\n"
      ],
      "text/plain": [
       "\u001b[2;36m[05/14/25 01:38:43]\u001b[0m\u001b[2;36m \u001b[0m\u001b[32mDEBUG   \u001b[0m \u001b[4;94mhttp://localhost:5000\u001b[0m \u001b[32m\"\u001b[0m\u001b[1;33mPOST\u001b[0m\u001b[32m /api/event/insertEvent HTTP/11\"\u001b[0m \u001b[1;36m201\u001b[0m  \u001b]8;id=695823;file://d:\\windowsConda\\Lib\\site-packages\\urllib3\\connectionpool.py\u001b\\\u001b[2mconnectionpool.py\u001b[0m\u001b]8;;\u001b\\\u001b[2m:\u001b[0m\u001b]8;id=484882;file://d:\\windowsConda\\Lib\\site-packages\\urllib3\\connectionpool.py#546\u001b\\\u001b[2m546\u001b[0m\u001b]8;;\u001b\\\n",
       "\u001b[2;36m                    \u001b[0m         \u001b[1;36m517\u001b[0m                                                              \u001b[2m                     \u001b[0m\n"
      ]
     },
     "metadata": {},
     "output_type": "display_data"
    },
    {
     "data": {
      "text/html": [
       "<pre style=\"white-space:pre;overflow-x:auto;line-height:normal;font-family:Menlo,'DejaVu Sans Mono',consolas,'Courier New',monospace\"><span style=\"color: #7fbfbf; text-decoration-color: #7fbfbf\">                    </span><span style=\"color: #800000; text-decoration-color: #800000; font-weight: bold\">ERROR   </span> Failed to insert event: Tech Innovators Meetup. Status code: <span style=\"color: #008080; text-decoration-color: #008080; font-weight: bold\">201</span>      <a href=\"file://C:\\Users\\Otaku\\AppData\\Local\\Temp\\ipykernel_23876\\3371054377.py\" target=\"_blank\"><span style=\"color: #7f7f7f; text-decoration-color: #7f7f7f\">3371054377.py</span></a><span style=\"color: #7f7f7f; text-decoration-color: #7f7f7f\">:</span><a href=\"file://C:\\Users\\Otaku\\AppData\\Local\\Temp\\ipykernel_23876\\3371054377.py#25\" target=\"_blank\"><span style=\"color: #7f7f7f; text-decoration-color: #7f7f7f\">25</span></a>\n",
       "</pre>\n"
      ],
      "text/plain": [
       "\u001b[2;36m                   \u001b[0m\u001b[2;36m \u001b[0m\u001b[1;31mERROR   \u001b[0m Failed to insert event: Tech Innovators Meetup. Status code: \u001b[1;36m201\u001b[0m      \u001b]8;id=163169;file://C:\\Users\\Otaku\\AppData\\Local\\Temp\\ipykernel_23876\\3371054377.py\u001b\\\u001b[2m3371054377.py\u001b[0m\u001b]8;;\u001b\\\u001b[2m:\u001b[0m\u001b]8;id=228456;file://C:\\Users\\Otaku\\AppData\\Local\\Temp\\ipykernel_23876\\3371054377.py#25\u001b\\\u001b[2m25\u001b[0m\u001b]8;;\u001b\\\n"
      ]
     },
     "metadata": {},
     "output_type": "display_data"
    },
    {
     "data": {
      "text/html": [
       "<pre style=\"white-space:pre;overflow-x:auto;line-height:normal;font-family:Menlo,'DejaVu Sans Mono',consolas,'Courier New',monospace\"><span style=\"color: #7fbfbf; text-decoration-color: #7fbfbf\">                    </span><span style=\"color: #008000; text-decoration-color: #008000\">DEBUG   </span> Starting new HTTP connection <span style=\"font-weight: bold\">(</span><span style=\"color: #008080; text-decoration-color: #008080; font-weight: bold\">1</span><span style=\"font-weight: bold\">)</span>: localhost:<span style=\"color: #008080; text-decoration-color: #008080; font-weight: bold\">5000</span>                 <a href=\"file://d:\\windowsConda\\Lib\\site-packages\\urllib3\\connectionpool.py\" target=\"_blank\"><span style=\"color: #7f7f7f; text-decoration-color: #7f7f7f\">connectionpool.py</span></a><span style=\"color: #7f7f7f; text-decoration-color: #7f7f7f\">:</span><a href=\"file://d:\\windowsConda\\Lib\\site-packages\\urllib3\\connectionpool.py#243\" target=\"_blank\"><span style=\"color: #7f7f7f; text-decoration-color: #7f7f7f\">243</span></a>\n",
       "</pre>\n"
      ],
      "text/plain": [
       "\u001b[2;36m                   \u001b[0m\u001b[2;36m \u001b[0m\u001b[32mDEBUG   \u001b[0m Starting new HTTP connection \u001b[1m(\u001b[0m\u001b[1;36m1\u001b[0m\u001b[1m)\u001b[0m: localhost:\u001b[1;36m5000\u001b[0m                 \u001b]8;id=850797;file://d:\\windowsConda\\Lib\\site-packages\\urllib3\\connectionpool.py\u001b\\\u001b[2mconnectionpool.py\u001b[0m\u001b]8;;\u001b\\\u001b[2m:\u001b[0m\u001b]8;id=270619;file://d:\\windowsConda\\Lib\\site-packages\\urllib3\\connectionpool.py#243\u001b\\\u001b[2m243\u001b[0m\u001b]8;;\u001b\\\n"
      ]
     },
     "metadata": {},
     "output_type": "display_data"
    },
    {
     "data": {
      "text/html": [
       "<pre style=\"white-space:pre;overflow-x:auto;line-height:normal;font-family:Menlo,'DejaVu Sans Mono',consolas,'Courier New',monospace\"><span style=\"color: #7fbfbf; text-decoration-color: #7fbfbf\">[05/14/25 01:38:47] </span><span style=\"color: #008000; text-decoration-color: #008000\">DEBUG   </span> <span style=\"color: #0000ff; text-decoration-color: #0000ff; text-decoration: underline\">http://localhost:5000</span> <span style=\"color: #008000; text-decoration-color: #008000\">\"</span><span style=\"color: #808000; text-decoration-color: #808000; font-weight: bold\">POST</span><span style=\"color: #008000; text-decoration-color: #008000\"> /api/event/insertEvent HTTP/11\"</span> <span style=\"color: #008080; text-decoration-color: #008080; font-weight: bold\">201</span>  <a href=\"file://d:\\windowsConda\\Lib\\site-packages\\urllib3\\connectionpool.py\" target=\"_blank\"><span style=\"color: #7f7f7f; text-decoration-color: #7f7f7f\">connectionpool.py</span></a><span style=\"color: #7f7f7f; text-decoration-color: #7f7f7f\">:</span><a href=\"file://d:\\windowsConda\\Lib\\site-packages\\urllib3\\connectionpool.py#546\" target=\"_blank\"><span style=\"color: #7f7f7f; text-decoration-color: #7f7f7f\">546</span></a>\n",
       "<span style=\"color: #7fbfbf; text-decoration-color: #7fbfbf\">                    </span>         <span style=\"color: #008080; text-decoration-color: #008080; font-weight: bold\">507</span>                                                              <span style=\"color: #7f7f7f; text-decoration-color: #7f7f7f\">                     </span>\n",
       "</pre>\n"
      ],
      "text/plain": [
       "\u001b[2;36m[05/14/25 01:38:47]\u001b[0m\u001b[2;36m \u001b[0m\u001b[32mDEBUG   \u001b[0m \u001b[4;94mhttp://localhost:5000\u001b[0m \u001b[32m\"\u001b[0m\u001b[1;33mPOST\u001b[0m\u001b[32m /api/event/insertEvent HTTP/11\"\u001b[0m \u001b[1;36m201\u001b[0m  \u001b]8;id=38578;file://d:\\windowsConda\\Lib\\site-packages\\urllib3\\connectionpool.py\u001b\\\u001b[2mconnectionpool.py\u001b[0m\u001b]8;;\u001b\\\u001b[2m:\u001b[0m\u001b]8;id=942559;file://d:\\windowsConda\\Lib\\site-packages\\urllib3\\connectionpool.py#546\u001b\\\u001b[2m546\u001b[0m\u001b]8;;\u001b\\\n",
       "\u001b[2;36m                    \u001b[0m         \u001b[1;36m507\u001b[0m                                                              \u001b[2m                     \u001b[0m\n"
      ]
     },
     "metadata": {},
     "output_type": "display_data"
    },
    {
     "data": {
      "text/html": [
       "<pre style=\"white-space:pre;overflow-x:auto;line-height:normal;font-family:Menlo,'DejaVu Sans Mono',consolas,'Courier New',monospace\"><span style=\"color: #7fbfbf; text-decoration-color: #7fbfbf\">                    </span><span style=\"color: #800000; text-decoration-color: #800000; font-weight: bold\">ERROR   </span> Failed to insert event: Sustainable Future Summit. Status code: <span style=\"color: #008080; text-decoration-color: #008080; font-weight: bold\">201</span>   <a href=\"file://C:\\Users\\Otaku\\AppData\\Local\\Temp\\ipykernel_23876\\3371054377.py\" target=\"_blank\"><span style=\"color: #7f7f7f; text-decoration-color: #7f7f7f\">3371054377.py</span></a><span style=\"color: #7f7f7f; text-decoration-color: #7f7f7f\">:</span><a href=\"file://C:\\Users\\Otaku\\AppData\\Local\\Temp\\ipykernel_23876\\3371054377.py#25\" target=\"_blank\"><span style=\"color: #7f7f7f; text-decoration-color: #7f7f7f\">25</span></a>\n",
       "</pre>\n"
      ],
      "text/plain": [
       "\u001b[2;36m                   \u001b[0m\u001b[2;36m \u001b[0m\u001b[1;31mERROR   \u001b[0m Failed to insert event: Sustainable Future Summit. Status code: \u001b[1;36m201\u001b[0m   \u001b]8;id=624227;file://C:\\Users\\Otaku\\AppData\\Local\\Temp\\ipykernel_23876\\3371054377.py\u001b\\\u001b[2m3371054377.py\u001b[0m\u001b]8;;\u001b\\\u001b[2m:\u001b[0m\u001b]8;id=652868;file://C:\\Users\\Otaku\\AppData\\Local\\Temp\\ipykernel_23876\\3371054377.py#25\u001b\\\u001b[2m25\u001b[0m\u001b]8;;\u001b\\\n"
      ]
     },
     "metadata": {},
     "output_type": "display_data"
    },
    {
     "data": {
      "text/html": [
       "<pre style=\"white-space:pre;overflow-x:auto;line-height:normal;font-family:Menlo,'DejaVu Sans Mono',consolas,'Courier New',monospace\"><span style=\"color: #7fbfbf; text-decoration-color: #7fbfbf\">                    </span><span style=\"color: #008000; text-decoration-color: #008000\">DEBUG   </span> Starting new HTTP connection <span style=\"font-weight: bold\">(</span><span style=\"color: #008080; text-decoration-color: #008080; font-weight: bold\">1</span><span style=\"font-weight: bold\">)</span>: localhost:<span style=\"color: #008080; text-decoration-color: #008080; font-weight: bold\">5000</span>                 <a href=\"file://d:\\windowsConda\\Lib\\site-packages\\urllib3\\connectionpool.py\" target=\"_blank\"><span style=\"color: #7f7f7f; text-decoration-color: #7f7f7f\">connectionpool.py</span></a><span style=\"color: #7f7f7f; text-decoration-color: #7f7f7f\">:</span><a href=\"file://d:\\windowsConda\\Lib\\site-packages\\urllib3\\connectionpool.py#243\" target=\"_blank\"><span style=\"color: #7f7f7f; text-decoration-color: #7f7f7f\">243</span></a>\n",
       "</pre>\n"
      ],
      "text/plain": [
       "\u001b[2;36m                   \u001b[0m\u001b[2;36m \u001b[0m\u001b[32mDEBUG   \u001b[0m Starting new HTTP connection \u001b[1m(\u001b[0m\u001b[1;36m1\u001b[0m\u001b[1m)\u001b[0m: localhost:\u001b[1;36m5000\u001b[0m                 \u001b]8;id=365700;file://d:\\windowsConda\\Lib\\site-packages\\urllib3\\connectionpool.py\u001b\\\u001b[2mconnectionpool.py\u001b[0m\u001b]8;;\u001b\\\u001b[2m:\u001b[0m\u001b]8;id=189727;file://d:\\windowsConda\\Lib\\site-packages\\urllib3\\connectionpool.py#243\u001b\\\u001b[2m243\u001b[0m\u001b]8;;\u001b\\\n"
      ]
     },
     "metadata": {},
     "output_type": "display_data"
    },
    {
     "data": {
      "text/html": [
       "<pre style=\"white-space:pre;overflow-x:auto;line-height:normal;font-family:Menlo,'DejaVu Sans Mono',consolas,'Courier New',monospace\"><span style=\"color: #7fbfbf; text-decoration-color: #7fbfbf\">[05/14/25 01:38:51] </span><span style=\"color: #008000; text-decoration-color: #008000\">DEBUG   </span> <span style=\"color: #0000ff; text-decoration-color: #0000ff; text-decoration: underline\">http://localhost:5000</span> <span style=\"color: #008000; text-decoration-color: #008000\">\"</span><span style=\"color: #808000; text-decoration-color: #808000; font-weight: bold\">POST</span><span style=\"color: #008000; text-decoration-color: #008000\"> /api/event/insertEvent HTTP/11\"</span> <span style=\"color: #008080; text-decoration-color: #008080; font-weight: bold\">201</span>  <a href=\"file://d:\\windowsConda\\Lib\\site-packages\\urllib3\\connectionpool.py\" target=\"_blank\"><span style=\"color: #7f7f7f; text-decoration-color: #7f7f7f\">connectionpool.py</span></a><span style=\"color: #7f7f7f; text-decoration-color: #7f7f7f\">:</span><a href=\"file://d:\\windowsConda\\Lib\\site-packages\\urllib3\\connectionpool.py#546\" target=\"_blank\"><span style=\"color: #7f7f7f; text-decoration-color: #7f7f7f\">546</span></a>\n",
       "<span style=\"color: #7fbfbf; text-decoration-color: #7fbfbf\">                    </span>         <span style=\"color: #008080; text-decoration-color: #008080; font-weight: bold\">508</span>                                                              <span style=\"color: #7f7f7f; text-decoration-color: #7f7f7f\">                     </span>\n",
       "</pre>\n"
      ],
      "text/plain": [
       "\u001b[2;36m[05/14/25 01:38:51]\u001b[0m\u001b[2;36m \u001b[0m\u001b[32mDEBUG   \u001b[0m \u001b[4;94mhttp://localhost:5000\u001b[0m \u001b[32m\"\u001b[0m\u001b[1;33mPOST\u001b[0m\u001b[32m /api/event/insertEvent HTTP/11\"\u001b[0m \u001b[1;36m201\u001b[0m  \u001b]8;id=27787;file://d:\\windowsConda\\Lib\\site-packages\\urllib3\\connectionpool.py\u001b\\\u001b[2mconnectionpool.py\u001b[0m\u001b]8;;\u001b\\\u001b[2m:\u001b[0m\u001b]8;id=402575;file://d:\\windowsConda\\Lib\\site-packages\\urllib3\\connectionpool.py#546\u001b\\\u001b[2m546\u001b[0m\u001b]8;;\u001b\\\n",
       "\u001b[2;36m                    \u001b[0m         \u001b[1;36m508\u001b[0m                                                              \u001b[2m                     \u001b[0m\n"
      ]
     },
     "metadata": {},
     "output_type": "display_data"
    },
    {
     "data": {
      "text/html": [
       "<pre style=\"white-space:pre;overflow-x:auto;line-height:normal;font-family:Menlo,'DejaVu Sans Mono',consolas,'Courier New',monospace\"><span style=\"color: #7fbfbf; text-decoration-color: #7fbfbf\">                    </span><span style=\"color: #800000; text-decoration-color: #800000; font-weight: bold\">ERROR   </span> Failed to insert event: Art &amp; Expression Workshop. Status code: <span style=\"color: #008080; text-decoration-color: #008080; font-weight: bold\">201</span>   <a href=\"file://C:\\Users\\Otaku\\AppData\\Local\\Temp\\ipykernel_23876\\3371054377.py\" target=\"_blank\"><span style=\"color: #7f7f7f; text-decoration-color: #7f7f7f\">3371054377.py</span></a><span style=\"color: #7f7f7f; text-decoration-color: #7f7f7f\">:</span><a href=\"file://C:\\Users\\Otaku\\AppData\\Local\\Temp\\ipykernel_23876\\3371054377.py#25\" target=\"_blank\"><span style=\"color: #7f7f7f; text-decoration-color: #7f7f7f\">25</span></a>\n",
       "</pre>\n"
      ],
      "text/plain": [
       "\u001b[2;36m                   \u001b[0m\u001b[2;36m \u001b[0m\u001b[1;31mERROR   \u001b[0m Failed to insert event: Art & Expression Workshop. Status code: \u001b[1;36m201\u001b[0m   \u001b]8;id=613582;file://C:\\Users\\Otaku\\AppData\\Local\\Temp\\ipykernel_23876\\3371054377.py\u001b\\\u001b[2m3371054377.py\u001b[0m\u001b]8;;\u001b\\\u001b[2m:\u001b[0m\u001b]8;id=537810;file://C:\\Users\\Otaku\\AppData\\Local\\Temp\\ipykernel_23876\\3371054377.py#25\u001b\\\u001b[2m25\u001b[0m\u001b]8;;\u001b\\\n"
      ]
     },
     "metadata": {},
     "output_type": "display_data"
    },
    {
     "data": {
      "text/html": [
       "<pre style=\"white-space:pre;overflow-x:auto;line-height:normal;font-family:Menlo,'DejaVu Sans Mono',consolas,'Courier New',monospace\"><span style=\"color: #7fbfbf; text-decoration-color: #7fbfbf\">                    </span><span style=\"color: #008000; text-decoration-color: #008000\">DEBUG   </span> Starting new HTTP connection <span style=\"font-weight: bold\">(</span><span style=\"color: #008080; text-decoration-color: #008080; font-weight: bold\">1</span><span style=\"font-weight: bold\">)</span>: localhost:<span style=\"color: #008080; text-decoration-color: #008080; font-weight: bold\">5000</span>                 <a href=\"file://d:\\windowsConda\\Lib\\site-packages\\urllib3\\connectionpool.py\" target=\"_blank\"><span style=\"color: #7f7f7f; text-decoration-color: #7f7f7f\">connectionpool.py</span></a><span style=\"color: #7f7f7f; text-decoration-color: #7f7f7f\">:</span><a href=\"file://d:\\windowsConda\\Lib\\site-packages\\urllib3\\connectionpool.py#243\" target=\"_blank\"><span style=\"color: #7f7f7f; text-decoration-color: #7f7f7f\">243</span></a>\n",
       "</pre>\n"
      ],
      "text/plain": [
       "\u001b[2;36m                   \u001b[0m\u001b[2;36m \u001b[0m\u001b[32mDEBUG   \u001b[0m Starting new HTTP connection \u001b[1m(\u001b[0m\u001b[1;36m1\u001b[0m\u001b[1m)\u001b[0m: localhost:\u001b[1;36m5000\u001b[0m                 \u001b]8;id=813960;file://d:\\windowsConda\\Lib\\site-packages\\urllib3\\connectionpool.py\u001b\\\u001b[2mconnectionpool.py\u001b[0m\u001b]8;;\u001b\\\u001b[2m:\u001b[0m\u001b]8;id=189557;file://d:\\windowsConda\\Lib\\site-packages\\urllib3\\connectionpool.py#243\u001b\\\u001b[2m243\u001b[0m\u001b]8;;\u001b\\\n"
      ]
     },
     "metadata": {},
     "output_type": "display_data"
    },
    {
     "data": {
      "text/html": [
       "<pre style=\"white-space:pre;overflow-x:auto;line-height:normal;font-family:Menlo,'DejaVu Sans Mono',consolas,'Courier New',monospace\"><span style=\"color: #7fbfbf; text-decoration-color: #7fbfbf\">[05/14/25 01:38:54] </span><span style=\"color: #008000; text-decoration-color: #008000\">DEBUG   </span> <span style=\"color: #0000ff; text-decoration-color: #0000ff; text-decoration: underline\">http://localhost:5000</span> <span style=\"color: #008000; text-decoration-color: #008000\">\"</span><span style=\"color: #808000; text-decoration-color: #808000; font-weight: bold\">POST</span><span style=\"color: #008000; text-decoration-color: #008000\"> /api/event/insertEvent HTTP/11\"</span> <span style=\"color: #008080; text-decoration-color: #008080; font-weight: bold\">201</span>  <a href=\"file://d:\\windowsConda\\Lib\\site-packages\\urllib3\\connectionpool.py\" target=\"_blank\"><span style=\"color: #7f7f7f; text-decoration-color: #7f7f7f\">connectionpool.py</span></a><span style=\"color: #7f7f7f; text-decoration-color: #7f7f7f\">:</span><a href=\"file://d:\\windowsConda\\Lib\\site-packages\\urllib3\\connectionpool.py#546\" target=\"_blank\"><span style=\"color: #7f7f7f; text-decoration-color: #7f7f7f\">546</span></a>\n",
       "<span style=\"color: #7fbfbf; text-decoration-color: #7fbfbf\">                    </span>         <span style=\"color: #008080; text-decoration-color: #008080; font-weight: bold\">522</span>                                                              <span style=\"color: #7f7f7f; text-decoration-color: #7f7f7f\">                     </span>\n",
       "</pre>\n"
      ],
      "text/plain": [
       "\u001b[2;36m[05/14/25 01:38:54]\u001b[0m\u001b[2;36m \u001b[0m\u001b[32mDEBUG   \u001b[0m \u001b[4;94mhttp://localhost:5000\u001b[0m \u001b[32m\"\u001b[0m\u001b[1;33mPOST\u001b[0m\u001b[32m /api/event/insertEvent HTTP/11\"\u001b[0m \u001b[1;36m201\u001b[0m  \u001b]8;id=462187;file://d:\\windowsConda\\Lib\\site-packages\\urllib3\\connectionpool.py\u001b\\\u001b[2mconnectionpool.py\u001b[0m\u001b]8;;\u001b\\\u001b[2m:\u001b[0m\u001b]8;id=785879;file://d:\\windowsConda\\Lib\\site-packages\\urllib3\\connectionpool.py#546\u001b\\\u001b[2m546\u001b[0m\u001b]8;;\u001b\\\n",
       "\u001b[2;36m                    \u001b[0m         \u001b[1;36m522\u001b[0m                                                              \u001b[2m                     \u001b[0m\n"
      ]
     },
     "metadata": {},
     "output_type": "display_data"
    },
    {
     "data": {
      "text/html": [
       "<pre style=\"white-space:pre;overflow-x:auto;line-height:normal;font-family:Menlo,'DejaVu Sans Mono',consolas,'Courier New',monospace\"><span style=\"color: #7fbfbf; text-decoration-color: #7fbfbf\">                    </span><span style=\"color: #800000; text-decoration-color: #800000; font-weight: bold\">ERROR   </span> Failed to insert event: Youth Leadership Conference. Status code: <span style=\"color: #008080; text-decoration-color: #008080; font-weight: bold\">201</span> <a href=\"file://C:\\Users\\Otaku\\AppData\\Local\\Temp\\ipykernel_23876\\3371054377.py\" target=\"_blank\"><span style=\"color: #7f7f7f; text-decoration-color: #7f7f7f\">3371054377.py</span></a><span style=\"color: #7f7f7f; text-decoration-color: #7f7f7f\">:</span><a href=\"file://C:\\Users\\Otaku\\AppData\\Local\\Temp\\ipykernel_23876\\3371054377.py#25\" target=\"_blank\"><span style=\"color: #7f7f7f; text-decoration-color: #7f7f7f\">25</span></a>\n",
       "</pre>\n"
      ],
      "text/plain": [
       "\u001b[2;36m                   \u001b[0m\u001b[2;36m \u001b[0m\u001b[1;31mERROR   \u001b[0m Failed to insert event: Youth Leadership Conference. Status code: \u001b[1;36m201\u001b[0m \u001b]8;id=377539;file://C:\\Users\\Otaku\\AppData\\Local\\Temp\\ipykernel_23876\\3371054377.py\u001b\\\u001b[2m3371054377.py\u001b[0m\u001b]8;;\u001b\\\u001b[2m:\u001b[0m\u001b]8;id=752182;file://C:\\Users\\Otaku\\AppData\\Local\\Temp\\ipykernel_23876\\3371054377.py#25\u001b\\\u001b[2m25\u001b[0m\u001b]8;;\u001b\\\n"
      ]
     },
     "metadata": {},
     "output_type": "display_data"
    },
    {
     "data": {
      "text/html": [
       "<pre style=\"white-space:pre;overflow-x:auto;line-height:normal;font-family:Menlo,'DejaVu Sans Mono',consolas,'Courier New',monospace\"><span style=\"color: #7fbfbf; text-decoration-color: #7fbfbf\">                    </span><span style=\"color: #008000; text-decoration-color: #008000\">DEBUG   </span> Starting new HTTP connection <span style=\"font-weight: bold\">(</span><span style=\"color: #008080; text-decoration-color: #008080; font-weight: bold\">1</span><span style=\"font-weight: bold\">)</span>: localhost:<span style=\"color: #008080; text-decoration-color: #008080; font-weight: bold\">5000</span>                 <a href=\"file://d:\\windowsConda\\Lib\\site-packages\\urllib3\\connectionpool.py\" target=\"_blank\"><span style=\"color: #7f7f7f; text-decoration-color: #7f7f7f\">connectionpool.py</span></a><span style=\"color: #7f7f7f; text-decoration-color: #7f7f7f\">:</span><a href=\"file://d:\\windowsConda\\Lib\\site-packages\\urllib3\\connectionpool.py#243\" target=\"_blank\"><span style=\"color: #7f7f7f; text-decoration-color: #7f7f7f\">243</span></a>\n",
       "</pre>\n"
      ],
      "text/plain": [
       "\u001b[2;36m                   \u001b[0m\u001b[2;36m \u001b[0m\u001b[32mDEBUG   \u001b[0m Starting new HTTP connection \u001b[1m(\u001b[0m\u001b[1;36m1\u001b[0m\u001b[1m)\u001b[0m: localhost:\u001b[1;36m5000\u001b[0m                 \u001b]8;id=667229;file://d:\\windowsConda\\Lib\\site-packages\\urllib3\\connectionpool.py\u001b\\\u001b[2mconnectionpool.py\u001b[0m\u001b]8;;\u001b\\\u001b[2m:\u001b[0m\u001b]8;id=244100;file://d:\\windowsConda\\Lib\\site-packages\\urllib3\\connectionpool.py#243\u001b\\\u001b[2m243\u001b[0m\u001b]8;;\u001b\\\n"
      ]
     },
     "metadata": {},
     "output_type": "display_data"
    },
    {
     "data": {
      "text/html": [
       "<pre style=\"white-space:pre;overflow-x:auto;line-height:normal;font-family:Menlo,'DejaVu Sans Mono',consolas,'Courier New',monospace\"><span style=\"color: #7fbfbf; text-decoration-color: #7fbfbf\">[05/14/25 01:38:58] </span><span style=\"color: #008000; text-decoration-color: #008000\">DEBUG   </span> <span style=\"color: #0000ff; text-decoration-color: #0000ff; text-decoration: underline\">http://localhost:5000</span> <span style=\"color: #008000; text-decoration-color: #008000\">\"</span><span style=\"color: #808000; text-decoration-color: #808000; font-weight: bold\">POST</span><span style=\"color: #008000; text-decoration-color: #008000\"> /api/event/insertEvent HTTP/11\"</span> <span style=\"color: #008080; text-decoration-color: #008080; font-weight: bold\">201</span>  <a href=\"file://d:\\windowsConda\\Lib\\site-packages\\urllib3\\connectionpool.py\" target=\"_blank\"><span style=\"color: #7f7f7f; text-decoration-color: #7f7f7f\">connectionpool.py</span></a><span style=\"color: #7f7f7f; text-decoration-color: #7f7f7f\">:</span><a href=\"file://d:\\windowsConda\\Lib\\site-packages\\urllib3\\connectionpool.py#546\" target=\"_blank\"><span style=\"color: #7f7f7f; text-decoration-color: #7f7f7f\">546</span></a>\n",
       "<span style=\"color: #7fbfbf; text-decoration-color: #7fbfbf\">                    </span>         <span style=\"color: #008080; text-decoration-color: #008080; font-weight: bold\">516</span>                                                              <span style=\"color: #7f7f7f; text-decoration-color: #7f7f7f\">                     </span>\n",
       "</pre>\n"
      ],
      "text/plain": [
       "\u001b[2;36m[05/14/25 01:38:58]\u001b[0m\u001b[2;36m \u001b[0m\u001b[32mDEBUG   \u001b[0m \u001b[4;94mhttp://localhost:5000\u001b[0m \u001b[32m\"\u001b[0m\u001b[1;33mPOST\u001b[0m\u001b[32m /api/event/insertEvent HTTP/11\"\u001b[0m \u001b[1;36m201\u001b[0m  \u001b]8;id=564761;file://d:\\windowsConda\\Lib\\site-packages\\urllib3\\connectionpool.py\u001b\\\u001b[2mconnectionpool.py\u001b[0m\u001b]8;;\u001b\\\u001b[2m:\u001b[0m\u001b]8;id=957003;file://d:\\windowsConda\\Lib\\site-packages\\urllib3\\connectionpool.py#546\u001b\\\u001b[2m546\u001b[0m\u001b]8;;\u001b\\\n",
       "\u001b[2;36m                    \u001b[0m         \u001b[1;36m516\u001b[0m                                                              \u001b[2m                     \u001b[0m\n"
      ]
     },
     "metadata": {},
     "output_type": "display_data"
    },
    {
     "data": {
      "text/html": [
       "<pre style=\"white-space:pre;overflow-x:auto;line-height:normal;font-family:Menlo,'DejaVu Sans Mono',consolas,'Courier New',monospace\"><span style=\"color: #7fbfbf; text-decoration-color: #7fbfbf\">                    </span><span style=\"color: #800000; text-decoration-color: #800000; font-weight: bold\">ERROR   </span> Failed to insert event: CodeSprint Hackathon. Status code: <span style=\"color: #008080; text-decoration-color: #008080; font-weight: bold\">201</span>        <a href=\"file://C:\\Users\\Otaku\\AppData\\Local\\Temp\\ipykernel_23876\\3371054377.py\" target=\"_blank\"><span style=\"color: #7f7f7f; text-decoration-color: #7f7f7f\">3371054377.py</span></a><span style=\"color: #7f7f7f; text-decoration-color: #7f7f7f\">:</span><a href=\"file://C:\\Users\\Otaku\\AppData\\Local\\Temp\\ipykernel_23876\\3371054377.py#25\" target=\"_blank\"><span style=\"color: #7f7f7f; text-decoration-color: #7f7f7f\">25</span></a>\n",
       "</pre>\n"
      ],
      "text/plain": [
       "\u001b[2;36m                   \u001b[0m\u001b[2;36m \u001b[0m\u001b[1;31mERROR   \u001b[0m Failed to insert event: CodeSprint Hackathon. Status code: \u001b[1;36m201\u001b[0m        \u001b]8;id=141967;file://C:\\Users\\Otaku\\AppData\\Local\\Temp\\ipykernel_23876\\3371054377.py\u001b\\\u001b[2m3371054377.py\u001b[0m\u001b]8;;\u001b\\\u001b[2m:\u001b[0m\u001b]8;id=774544;file://C:\\Users\\Otaku\\AppData\\Local\\Temp\\ipykernel_23876\\3371054377.py#25\u001b\\\u001b[2m25\u001b[0m\u001b]8;;\u001b\\\n"
      ]
     },
     "metadata": {},
     "output_type": "display_data"
    },
    {
     "data": {
      "text/html": [
       "<pre style=\"white-space:pre;overflow-x:auto;line-height:normal;font-family:Menlo,'DejaVu Sans Mono',consolas,'Courier New',monospace\"><span style=\"color: #7fbfbf; text-decoration-color: #7fbfbf\">                    </span><span style=\"color: #008000; text-decoration-color: #008000\">DEBUG   </span> Starting new HTTP connection <span style=\"font-weight: bold\">(</span><span style=\"color: #008080; text-decoration-color: #008080; font-weight: bold\">1</span><span style=\"font-weight: bold\">)</span>: localhost:<span style=\"color: #008080; text-decoration-color: #008080; font-weight: bold\">5000</span>                 <a href=\"file://d:\\windowsConda\\Lib\\site-packages\\urllib3\\connectionpool.py\" target=\"_blank\"><span style=\"color: #7f7f7f; text-decoration-color: #7f7f7f\">connectionpool.py</span></a><span style=\"color: #7f7f7f; text-decoration-color: #7f7f7f\">:</span><a href=\"file://d:\\windowsConda\\Lib\\site-packages\\urllib3\\connectionpool.py#243\" target=\"_blank\"><span style=\"color: #7f7f7f; text-decoration-color: #7f7f7f\">243</span></a>\n",
       "</pre>\n"
      ],
      "text/plain": [
       "\u001b[2;36m                   \u001b[0m\u001b[2;36m \u001b[0m\u001b[32mDEBUG   \u001b[0m Starting new HTTP connection \u001b[1m(\u001b[0m\u001b[1;36m1\u001b[0m\u001b[1m)\u001b[0m: localhost:\u001b[1;36m5000\u001b[0m                 \u001b]8;id=277915;file://d:\\windowsConda\\Lib\\site-packages\\urllib3\\connectionpool.py\u001b\\\u001b[2mconnectionpool.py\u001b[0m\u001b]8;;\u001b\\\u001b[2m:\u001b[0m\u001b]8;id=107046;file://d:\\windowsConda\\Lib\\site-packages\\urllib3\\connectionpool.py#243\u001b\\\u001b[2m243\u001b[0m\u001b]8;;\u001b\\\n"
      ]
     },
     "metadata": {},
     "output_type": "display_data"
    },
    {
     "data": {
      "text/html": [
       "<pre style=\"white-space:pre;overflow-x:auto;line-height:normal;font-family:Menlo,'DejaVu Sans Mono',consolas,'Courier New',monospace\"><span style=\"color: #7fbfbf; text-decoration-color: #7fbfbf\">[05/14/25 01:39:02] </span><span style=\"color: #008000; text-decoration-color: #008000\">DEBUG   </span> <span style=\"color: #0000ff; text-decoration-color: #0000ff; text-decoration: underline\">http://localhost:5000</span> <span style=\"color: #008000; text-decoration-color: #008000\">\"</span><span style=\"color: #808000; text-decoration-color: #808000; font-weight: bold\">POST</span><span style=\"color: #008000; text-decoration-color: #008000\"> /api/event/insertEvent HTTP/11\"</span> <span style=\"color: #008080; text-decoration-color: #008080; font-weight: bold\">201</span>  <a href=\"file://d:\\windowsConda\\Lib\\site-packages\\urllib3\\connectionpool.py\" target=\"_blank\"><span style=\"color: #7f7f7f; text-decoration-color: #7f7f7f\">connectionpool.py</span></a><span style=\"color: #7f7f7f; text-decoration-color: #7f7f7f\">:</span><a href=\"file://d:\\windowsConda\\Lib\\site-packages\\urllib3\\connectionpool.py#546\" target=\"_blank\"><span style=\"color: #7f7f7f; text-decoration-color: #7f7f7f\">546</span></a>\n",
       "<span style=\"color: #7fbfbf; text-decoration-color: #7fbfbf\">                    </span>         <span style=\"color: #008080; text-decoration-color: #008080; font-weight: bold\">480</span>                                                              <span style=\"color: #7f7f7f; text-decoration-color: #7f7f7f\">                     </span>\n",
       "</pre>\n"
      ],
      "text/plain": [
       "\u001b[2;36m[05/14/25 01:39:02]\u001b[0m\u001b[2;36m \u001b[0m\u001b[32mDEBUG   \u001b[0m \u001b[4;94mhttp://localhost:5000\u001b[0m \u001b[32m\"\u001b[0m\u001b[1;33mPOST\u001b[0m\u001b[32m /api/event/insertEvent HTTP/11\"\u001b[0m \u001b[1;36m201\u001b[0m  \u001b]8;id=10469;file://d:\\windowsConda\\Lib\\site-packages\\urllib3\\connectionpool.py\u001b\\\u001b[2mconnectionpool.py\u001b[0m\u001b]8;;\u001b\\\u001b[2m:\u001b[0m\u001b]8;id=564208;file://d:\\windowsConda\\Lib\\site-packages\\urllib3\\connectionpool.py#546\u001b\\\u001b[2m546\u001b[0m\u001b]8;;\u001b\\\n",
       "\u001b[2;36m                    \u001b[0m         \u001b[1;36m480\u001b[0m                                                              \u001b[2m                     \u001b[0m\n"
      ]
     },
     "metadata": {},
     "output_type": "display_data"
    },
    {
     "data": {
      "text/html": [
       "<pre style=\"white-space:pre;overflow-x:auto;line-height:normal;font-family:Menlo,'DejaVu Sans Mono',consolas,'Courier New',monospace\"><span style=\"color: #7fbfbf; text-decoration-color: #7fbfbf\">                    </span><span style=\"color: #800000; text-decoration-color: #800000; font-weight: bold\">ERROR   </span> Failed to insert event: Startup Pitch Fest. Status code: <span style=\"color: #008080; text-decoration-color: #008080; font-weight: bold\">201</span>          <a href=\"file://C:\\Users\\Otaku\\AppData\\Local\\Temp\\ipykernel_23876\\3371054377.py\" target=\"_blank\"><span style=\"color: #7f7f7f; text-decoration-color: #7f7f7f\">3371054377.py</span></a><span style=\"color: #7f7f7f; text-decoration-color: #7f7f7f\">:</span><a href=\"file://C:\\Users\\Otaku\\AppData\\Local\\Temp\\ipykernel_23876\\3371054377.py#25\" target=\"_blank\"><span style=\"color: #7f7f7f; text-decoration-color: #7f7f7f\">25</span></a>\n",
       "</pre>\n"
      ],
      "text/plain": [
       "\u001b[2;36m                   \u001b[0m\u001b[2;36m \u001b[0m\u001b[1;31mERROR   \u001b[0m Failed to insert event: Startup Pitch Fest. Status code: \u001b[1;36m201\u001b[0m          \u001b]8;id=859664;file://C:\\Users\\Otaku\\AppData\\Local\\Temp\\ipykernel_23876\\3371054377.py\u001b\\\u001b[2m3371054377.py\u001b[0m\u001b]8;;\u001b\\\u001b[2m:\u001b[0m\u001b]8;id=727267;file://C:\\Users\\Otaku\\AppData\\Local\\Temp\\ipykernel_23876\\3371054377.py#25\u001b\\\u001b[2m25\u001b[0m\u001b]8;;\u001b\\\n"
      ]
     },
     "metadata": {},
     "output_type": "display_data"
    },
    {
     "data": {
      "text/html": [
       "<pre style=\"white-space:pre;overflow-x:auto;line-height:normal;font-family:Menlo,'DejaVu Sans Mono',consolas,'Courier New',monospace\"><span style=\"color: #7fbfbf; text-decoration-color: #7fbfbf\">                    </span><span style=\"color: #008000; text-decoration-color: #008000\">DEBUG   </span> Starting new HTTP connection <span style=\"font-weight: bold\">(</span><span style=\"color: #008080; text-decoration-color: #008080; font-weight: bold\">1</span><span style=\"font-weight: bold\">)</span>: localhost:<span style=\"color: #008080; text-decoration-color: #008080; font-weight: bold\">5000</span>                 <a href=\"file://d:\\windowsConda\\Lib\\site-packages\\urllib3\\connectionpool.py\" target=\"_blank\"><span style=\"color: #7f7f7f; text-decoration-color: #7f7f7f\">connectionpool.py</span></a><span style=\"color: #7f7f7f; text-decoration-color: #7f7f7f\">:</span><a href=\"file://d:\\windowsConda\\Lib\\site-packages\\urllib3\\connectionpool.py#243\" target=\"_blank\"><span style=\"color: #7f7f7f; text-decoration-color: #7f7f7f\">243</span></a>\n",
       "</pre>\n"
      ],
      "text/plain": [
       "\u001b[2;36m                   \u001b[0m\u001b[2;36m \u001b[0m\u001b[32mDEBUG   \u001b[0m Starting new HTTP connection \u001b[1m(\u001b[0m\u001b[1;36m1\u001b[0m\u001b[1m)\u001b[0m: localhost:\u001b[1;36m5000\u001b[0m                 \u001b]8;id=649107;file://d:\\windowsConda\\Lib\\site-packages\\urllib3\\connectionpool.py\u001b\\\u001b[2mconnectionpool.py\u001b[0m\u001b]8;;\u001b\\\u001b[2m:\u001b[0m\u001b]8;id=874982;file://d:\\windowsConda\\Lib\\site-packages\\urllib3\\connectionpool.py#243\u001b\\\u001b[2m243\u001b[0m\u001b]8;;\u001b\\\n"
      ]
     },
     "metadata": {},
     "output_type": "display_data"
    },
    {
     "data": {
      "text/html": [
       "<pre style=\"white-space:pre;overflow-x:auto;line-height:normal;font-family:Menlo,'DejaVu Sans Mono',consolas,'Courier New',monospace\"><span style=\"color: #7fbfbf; text-decoration-color: #7fbfbf\">[05/14/25 01:39:05] </span><span style=\"color: #008000; text-decoration-color: #008000\">DEBUG   </span> <span style=\"color: #0000ff; text-decoration-color: #0000ff; text-decoration: underline\">http://localhost:5000</span> <span style=\"color: #008000; text-decoration-color: #008000\">\"</span><span style=\"color: #808000; text-decoration-color: #808000; font-weight: bold\">POST</span><span style=\"color: #008000; text-decoration-color: #008000\"> /api/event/insertEvent HTTP/11\"</span> <span style=\"color: #008080; text-decoration-color: #008080; font-weight: bold\">201</span>  <a href=\"file://d:\\windowsConda\\Lib\\site-packages\\urllib3\\connectionpool.py\" target=\"_blank\"><span style=\"color: #7f7f7f; text-decoration-color: #7f7f7f\">connectionpool.py</span></a><span style=\"color: #7f7f7f; text-decoration-color: #7f7f7f\">:</span><a href=\"file://d:\\windowsConda\\Lib\\site-packages\\urllib3\\connectionpool.py#546\" target=\"_blank\"><span style=\"color: #7f7f7f; text-decoration-color: #7f7f7f\">546</span></a>\n",
       "<span style=\"color: #7fbfbf; text-decoration-color: #7fbfbf\">                    </span>         <span style=\"color: #008080; text-decoration-color: #008080; font-weight: bold\">476</span>                                                              <span style=\"color: #7f7f7f; text-decoration-color: #7f7f7f\">                     </span>\n",
       "</pre>\n"
      ],
      "text/plain": [
       "\u001b[2;36m[05/14/25 01:39:05]\u001b[0m\u001b[2;36m \u001b[0m\u001b[32mDEBUG   \u001b[0m \u001b[4;94mhttp://localhost:5000\u001b[0m \u001b[32m\"\u001b[0m\u001b[1;33mPOST\u001b[0m\u001b[32m /api/event/insertEvent HTTP/11\"\u001b[0m \u001b[1;36m201\u001b[0m  \u001b]8;id=347906;file://d:\\windowsConda\\Lib\\site-packages\\urllib3\\connectionpool.py\u001b\\\u001b[2mconnectionpool.py\u001b[0m\u001b]8;;\u001b\\\u001b[2m:\u001b[0m\u001b]8;id=636577;file://d:\\windowsConda\\Lib\\site-packages\\urllib3\\connectionpool.py#546\u001b\\\u001b[2m546\u001b[0m\u001b]8;;\u001b\\\n",
       "\u001b[2;36m                    \u001b[0m         \u001b[1;36m476\u001b[0m                                                              \u001b[2m                     \u001b[0m\n"
      ]
     },
     "metadata": {},
     "output_type": "display_data"
    },
    {
     "data": {
      "text/html": [
       "<pre style=\"white-space:pre;overflow-x:auto;line-height:normal;font-family:Menlo,'DejaVu Sans Mono',consolas,'Courier New',monospace\"><span style=\"color: #7fbfbf; text-decoration-color: #7fbfbf\">                    </span><span style=\"color: #800000; text-decoration-color: #800000; font-weight: bold\">ERROR   </span> Failed to insert event: Photography Walk. Status code: <span style=\"color: #008080; text-decoration-color: #008080; font-weight: bold\">201</span>            <a href=\"file://C:\\Users\\Otaku\\AppData\\Local\\Temp\\ipykernel_23876\\3371054377.py\" target=\"_blank\"><span style=\"color: #7f7f7f; text-decoration-color: #7f7f7f\">3371054377.py</span></a><span style=\"color: #7f7f7f; text-decoration-color: #7f7f7f\">:</span><a href=\"file://C:\\Users\\Otaku\\AppData\\Local\\Temp\\ipykernel_23876\\3371054377.py#25\" target=\"_blank\"><span style=\"color: #7f7f7f; text-decoration-color: #7f7f7f\">25</span></a>\n",
       "</pre>\n"
      ],
      "text/plain": [
       "\u001b[2;36m                   \u001b[0m\u001b[2;36m \u001b[0m\u001b[1;31mERROR   \u001b[0m Failed to insert event: Photography Walk. Status code: \u001b[1;36m201\u001b[0m            \u001b]8;id=665578;file://C:\\Users\\Otaku\\AppData\\Local\\Temp\\ipykernel_23876\\3371054377.py\u001b\\\u001b[2m3371054377.py\u001b[0m\u001b]8;;\u001b\\\u001b[2m:\u001b[0m\u001b]8;id=390937;file://C:\\Users\\Otaku\\AppData\\Local\\Temp\\ipykernel_23876\\3371054377.py#25\u001b\\\u001b[2m25\u001b[0m\u001b]8;;\u001b\\\n"
      ]
     },
     "metadata": {},
     "output_type": "display_data"
    },
    {
     "data": {
      "text/html": [
       "<pre style=\"white-space:pre;overflow-x:auto;line-height:normal;font-family:Menlo,'DejaVu Sans Mono',consolas,'Courier New',monospace\"><span style=\"color: #7fbfbf; text-decoration-color: #7fbfbf\">                    </span><span style=\"color: #008000; text-decoration-color: #008000\">DEBUG   </span> Starting new HTTP connection <span style=\"font-weight: bold\">(</span><span style=\"color: #008080; text-decoration-color: #008080; font-weight: bold\">1</span><span style=\"font-weight: bold\">)</span>: localhost:<span style=\"color: #008080; text-decoration-color: #008080; font-weight: bold\">5000</span>                 <a href=\"file://d:\\windowsConda\\Lib\\site-packages\\urllib3\\connectionpool.py\" target=\"_blank\"><span style=\"color: #7f7f7f; text-decoration-color: #7f7f7f\">connectionpool.py</span></a><span style=\"color: #7f7f7f; text-decoration-color: #7f7f7f\">:</span><a href=\"file://d:\\windowsConda\\Lib\\site-packages\\urllib3\\connectionpool.py#243\" target=\"_blank\"><span style=\"color: #7f7f7f; text-decoration-color: #7f7f7f\">243</span></a>\n",
       "</pre>\n"
      ],
      "text/plain": [
       "\u001b[2;36m                   \u001b[0m\u001b[2;36m \u001b[0m\u001b[32mDEBUG   \u001b[0m Starting new HTTP connection \u001b[1m(\u001b[0m\u001b[1;36m1\u001b[0m\u001b[1m)\u001b[0m: localhost:\u001b[1;36m5000\u001b[0m                 \u001b]8;id=199884;file://d:\\windowsConda\\Lib\\site-packages\\urllib3\\connectionpool.py\u001b\\\u001b[2mconnectionpool.py\u001b[0m\u001b]8;;\u001b\\\u001b[2m:\u001b[0m\u001b]8;id=476519;file://d:\\windowsConda\\Lib\\site-packages\\urllib3\\connectionpool.py#243\u001b\\\u001b[2m243\u001b[0m\u001b]8;;\u001b\\\n"
      ]
     },
     "metadata": {},
     "output_type": "display_data"
    },
    {
     "data": {
      "text/html": [
       "<pre style=\"white-space:pre;overflow-x:auto;line-height:normal;font-family:Menlo,'DejaVu Sans Mono',consolas,'Courier New',monospace\"><span style=\"color: #7fbfbf; text-decoration-color: #7fbfbf\">[05/14/25 01:39:09] </span><span style=\"color: #008000; text-decoration-color: #008000\">DEBUG   </span> <span style=\"color: #0000ff; text-decoration-color: #0000ff; text-decoration: underline\">http://localhost:5000</span> <span style=\"color: #008000; text-decoration-color: #008000\">\"</span><span style=\"color: #808000; text-decoration-color: #808000; font-weight: bold\">POST</span><span style=\"color: #008000; text-decoration-color: #008000\"> /api/event/insertEvent HTTP/11\"</span> <span style=\"color: #008080; text-decoration-color: #008080; font-weight: bold\">201</span>  <a href=\"file://d:\\windowsConda\\Lib\\site-packages\\urllib3\\connectionpool.py\" target=\"_blank\"><span style=\"color: #7f7f7f; text-decoration-color: #7f7f7f\">connectionpool.py</span></a><span style=\"color: #7f7f7f; text-decoration-color: #7f7f7f\">:</span><a href=\"file://d:\\windowsConda\\Lib\\site-packages\\urllib3\\connectionpool.py#546\" target=\"_blank\"><span style=\"color: #7f7f7f; text-decoration-color: #7f7f7f\">546</span></a>\n",
       "<span style=\"color: #7fbfbf; text-decoration-color: #7fbfbf\">                    </span>         <span style=\"color: #008080; text-decoration-color: #008080; font-weight: bold\">494</span>                                                              <span style=\"color: #7f7f7f; text-decoration-color: #7f7f7f\">                     </span>\n",
       "</pre>\n"
      ],
      "text/plain": [
       "\u001b[2;36m[05/14/25 01:39:09]\u001b[0m\u001b[2;36m \u001b[0m\u001b[32mDEBUG   \u001b[0m \u001b[4;94mhttp://localhost:5000\u001b[0m \u001b[32m\"\u001b[0m\u001b[1;33mPOST\u001b[0m\u001b[32m /api/event/insertEvent HTTP/11\"\u001b[0m \u001b[1;36m201\u001b[0m  \u001b]8;id=733822;file://d:\\windowsConda\\Lib\\site-packages\\urllib3\\connectionpool.py\u001b\\\u001b[2mconnectionpool.py\u001b[0m\u001b]8;;\u001b\\\u001b[2m:\u001b[0m\u001b]8;id=570591;file://d:\\windowsConda\\Lib\\site-packages\\urllib3\\connectionpool.py#546\u001b\\\u001b[2m546\u001b[0m\u001b]8;;\u001b\\\n",
       "\u001b[2;36m                    \u001b[0m         \u001b[1;36m494\u001b[0m                                                              \u001b[2m                     \u001b[0m\n"
      ]
     },
     "metadata": {},
     "output_type": "display_data"
    },
    {
     "data": {
      "text/html": [
       "<pre style=\"white-space:pre;overflow-x:auto;line-height:normal;font-family:Menlo,'DejaVu Sans Mono',consolas,'Courier New',monospace\"><span style=\"color: #7fbfbf; text-decoration-color: #7fbfbf\">                    </span><span style=\"color: #800000; text-decoration-color: #800000; font-weight: bold\">ERROR   </span> Failed to insert event: Robotics Expo. Status code: <span style=\"color: #008080; text-decoration-color: #008080; font-weight: bold\">201</span>               <a href=\"file://C:\\Users\\Otaku\\AppData\\Local\\Temp\\ipykernel_23876\\3371054377.py\" target=\"_blank\"><span style=\"color: #7f7f7f; text-decoration-color: #7f7f7f\">3371054377.py</span></a><span style=\"color: #7f7f7f; text-decoration-color: #7f7f7f\">:</span><a href=\"file://C:\\Users\\Otaku\\AppData\\Local\\Temp\\ipykernel_23876\\3371054377.py#25\" target=\"_blank\"><span style=\"color: #7f7f7f; text-decoration-color: #7f7f7f\">25</span></a>\n",
       "</pre>\n"
      ],
      "text/plain": [
       "\u001b[2;36m                   \u001b[0m\u001b[2;36m \u001b[0m\u001b[1;31mERROR   \u001b[0m Failed to insert event: Robotics Expo. Status code: \u001b[1;36m201\u001b[0m               \u001b]8;id=520591;file://C:\\Users\\Otaku\\AppData\\Local\\Temp\\ipykernel_23876\\3371054377.py\u001b\\\u001b[2m3371054377.py\u001b[0m\u001b]8;;\u001b\\\u001b[2m:\u001b[0m\u001b]8;id=358907;file://C:\\Users\\Otaku\\AppData\\Local\\Temp\\ipykernel_23876\\3371054377.py#25\u001b\\\u001b[2m25\u001b[0m\u001b]8;;\u001b\\\n"
      ]
     },
     "metadata": {},
     "output_type": "display_data"
    },
    {
     "data": {
      "text/html": [
       "<pre style=\"white-space:pre;overflow-x:auto;line-height:normal;font-family:Menlo,'DejaVu Sans Mono',consolas,'Courier New',monospace\"><span style=\"color: #7fbfbf; text-decoration-color: #7fbfbf\">                    </span><span style=\"color: #008000; text-decoration-color: #008000\">DEBUG   </span> Starting new HTTP connection <span style=\"font-weight: bold\">(</span><span style=\"color: #008080; text-decoration-color: #008080; font-weight: bold\">1</span><span style=\"font-weight: bold\">)</span>: localhost:<span style=\"color: #008080; text-decoration-color: #008080; font-weight: bold\">5000</span>                 <a href=\"file://d:\\windowsConda\\Lib\\site-packages\\urllib3\\connectionpool.py\" target=\"_blank\"><span style=\"color: #7f7f7f; text-decoration-color: #7f7f7f\">connectionpool.py</span></a><span style=\"color: #7f7f7f; text-decoration-color: #7f7f7f\">:</span><a href=\"file://d:\\windowsConda\\Lib\\site-packages\\urllib3\\connectionpool.py#243\" target=\"_blank\"><span style=\"color: #7f7f7f; text-decoration-color: #7f7f7f\">243</span></a>\n",
       "</pre>\n"
      ],
      "text/plain": [
       "\u001b[2;36m                   \u001b[0m\u001b[2;36m \u001b[0m\u001b[32mDEBUG   \u001b[0m Starting new HTTP connection \u001b[1m(\u001b[0m\u001b[1;36m1\u001b[0m\u001b[1m)\u001b[0m: localhost:\u001b[1;36m5000\u001b[0m                 \u001b]8;id=324032;file://d:\\windowsConda\\Lib\\site-packages\\urllib3\\connectionpool.py\u001b\\\u001b[2mconnectionpool.py\u001b[0m\u001b]8;;\u001b\\\u001b[2m:\u001b[0m\u001b]8;id=436370;file://d:\\windowsConda\\Lib\\site-packages\\urllib3\\connectionpool.py#243\u001b\\\u001b[2m243\u001b[0m\u001b]8;;\u001b\\\n"
      ]
     },
     "metadata": {},
     "output_type": "display_data"
    },
    {
     "data": {
      "text/html": [
       "<pre style=\"white-space:pre;overflow-x:auto;line-height:normal;font-family:Menlo,'DejaVu Sans Mono',consolas,'Courier New',monospace\"><span style=\"color: #7fbfbf; text-decoration-color: #7fbfbf\">[05/14/25 01:39:12] </span><span style=\"color: #008000; text-decoration-color: #008000\">DEBUG   </span> <span style=\"color: #0000ff; text-decoration-color: #0000ff; text-decoration: underline\">http://localhost:5000</span> <span style=\"color: #008000; text-decoration-color: #008000\">\"</span><span style=\"color: #808000; text-decoration-color: #808000; font-weight: bold\">POST</span><span style=\"color: #008000; text-decoration-color: #008000\"> /api/event/insertEvent HTTP/11\"</span> <span style=\"color: #008080; text-decoration-color: #008080; font-weight: bold\">201</span>  <a href=\"file://d:\\windowsConda\\Lib\\site-packages\\urllib3\\connectionpool.py\" target=\"_blank\"><span style=\"color: #7f7f7f; text-decoration-color: #7f7f7f\">connectionpool.py</span></a><span style=\"color: #7f7f7f; text-decoration-color: #7f7f7f\">:</span><a href=\"file://d:\\windowsConda\\Lib\\site-packages\\urllib3\\connectionpool.py#546\" target=\"_blank\"><span style=\"color: #7f7f7f; text-decoration-color: #7f7f7f\">546</span></a>\n",
       "<span style=\"color: #7fbfbf; text-decoration-color: #7fbfbf\">                    </span>         <span style=\"color: #008080; text-decoration-color: #008080; font-weight: bold\">516</span>                                                              <span style=\"color: #7f7f7f; text-decoration-color: #7f7f7f\">                     </span>\n",
       "</pre>\n"
      ],
      "text/plain": [
       "\u001b[2;36m[05/14/25 01:39:12]\u001b[0m\u001b[2;36m \u001b[0m\u001b[32mDEBUG   \u001b[0m \u001b[4;94mhttp://localhost:5000\u001b[0m \u001b[32m\"\u001b[0m\u001b[1;33mPOST\u001b[0m\u001b[32m /api/event/insertEvent HTTP/11\"\u001b[0m \u001b[1;36m201\u001b[0m  \u001b]8;id=119832;file://d:\\windowsConda\\Lib\\site-packages\\urllib3\\connectionpool.py\u001b\\\u001b[2mconnectionpool.py\u001b[0m\u001b]8;;\u001b\\\u001b[2m:\u001b[0m\u001b]8;id=882672;file://d:\\windowsConda\\Lib\\site-packages\\urllib3\\connectionpool.py#546\u001b\\\u001b[2m546\u001b[0m\u001b]8;;\u001b\\\n",
       "\u001b[2;36m                    \u001b[0m         \u001b[1;36m516\u001b[0m                                                              \u001b[2m                     \u001b[0m\n"
      ]
     },
     "metadata": {},
     "output_type": "display_data"
    },
    {
     "data": {
      "text/html": [
       "<pre style=\"white-space:pre;overflow-x:auto;line-height:normal;font-family:Menlo,'DejaVu Sans Mono',consolas,'Courier New',monospace\"><span style=\"color: #7fbfbf; text-decoration-color: #7fbfbf\">                    </span><span style=\"color: #800000; text-decoration-color: #800000; font-weight: bold\">ERROR   </span> Failed to insert event: Mental Health Awareness Camp. Status code:    <a href=\"file://C:\\Users\\Otaku\\AppData\\Local\\Temp\\ipykernel_23876\\3371054377.py\" target=\"_blank\"><span style=\"color: #7f7f7f; text-decoration-color: #7f7f7f\">3371054377.py</span></a><span style=\"color: #7f7f7f; text-decoration-color: #7f7f7f\">:</span><a href=\"file://C:\\Users\\Otaku\\AppData\\Local\\Temp\\ipykernel_23876\\3371054377.py#25\" target=\"_blank\"><span style=\"color: #7f7f7f; text-decoration-color: #7f7f7f\">25</span></a>\n",
       "<span style=\"color: #7fbfbf; text-decoration-color: #7fbfbf\">                    </span>         <span style=\"color: #008080; text-decoration-color: #008080; font-weight: bold\">201</span>                                                                   <span style=\"color: #7f7f7f; text-decoration-color: #7f7f7f\">                </span>\n",
       "</pre>\n"
      ],
      "text/plain": [
       "\u001b[2;36m                   \u001b[0m\u001b[2;36m \u001b[0m\u001b[1;31mERROR   \u001b[0m Failed to insert event: Mental Health Awareness Camp. Status code:    \u001b]8;id=860969;file://C:\\Users\\Otaku\\AppData\\Local\\Temp\\ipykernel_23876\\3371054377.py\u001b\\\u001b[2m3371054377.py\u001b[0m\u001b]8;;\u001b\\\u001b[2m:\u001b[0m\u001b]8;id=551651;file://C:\\Users\\Otaku\\AppData\\Local\\Temp\\ipykernel_23876\\3371054377.py#25\u001b\\\u001b[2m25\u001b[0m\u001b]8;;\u001b\\\n",
       "\u001b[2;36m                    \u001b[0m         \u001b[1;36m201\u001b[0m                                                                   \u001b[2m                \u001b[0m\n"
      ]
     },
     "metadata": {},
     "output_type": "display_data"
    },
    {
     "data": {
      "text/html": [
       "<pre style=\"white-space:pre;overflow-x:auto;line-height:normal;font-family:Menlo,'DejaVu Sans Mono',consolas,'Courier New',monospace\"><span style=\"color: #7fbfbf; text-decoration-color: #7fbfbf\">                    </span><span style=\"color: #008000; text-decoration-color: #008000\">DEBUG   </span> Starting new HTTP connection <span style=\"font-weight: bold\">(</span><span style=\"color: #008080; text-decoration-color: #008080; font-weight: bold\">1</span><span style=\"font-weight: bold\">)</span>: localhost:<span style=\"color: #008080; text-decoration-color: #008080; font-weight: bold\">5000</span>                 <a href=\"file://d:\\windowsConda\\Lib\\site-packages\\urllib3\\connectionpool.py\" target=\"_blank\"><span style=\"color: #7f7f7f; text-decoration-color: #7f7f7f\">connectionpool.py</span></a><span style=\"color: #7f7f7f; text-decoration-color: #7f7f7f\">:</span><a href=\"file://d:\\windowsConda\\Lib\\site-packages\\urllib3\\connectionpool.py#243\" target=\"_blank\"><span style=\"color: #7f7f7f; text-decoration-color: #7f7f7f\">243</span></a>\n",
       "</pre>\n"
      ],
      "text/plain": [
       "\u001b[2;36m                   \u001b[0m\u001b[2;36m \u001b[0m\u001b[32mDEBUG   \u001b[0m Starting new HTTP connection \u001b[1m(\u001b[0m\u001b[1;36m1\u001b[0m\u001b[1m)\u001b[0m: localhost:\u001b[1;36m5000\u001b[0m                 \u001b]8;id=986424;file://d:\\windowsConda\\Lib\\site-packages\\urllib3\\connectionpool.py\u001b\\\u001b[2mconnectionpool.py\u001b[0m\u001b]8;;\u001b\\\u001b[2m:\u001b[0m\u001b]8;id=726103;file://d:\\windowsConda\\Lib\\site-packages\\urllib3\\connectionpool.py#243\u001b\\\u001b[2m243\u001b[0m\u001b]8;;\u001b\\\n"
      ]
     },
     "metadata": {},
     "output_type": "display_data"
    },
    {
     "data": {
      "text/html": [
       "<pre style=\"white-space:pre;overflow-x:auto;line-height:normal;font-family:Menlo,'DejaVu Sans Mono',consolas,'Courier New',monospace\"><span style=\"color: #7fbfbf; text-decoration-color: #7fbfbf\">[05/14/25 01:39:16] </span><span style=\"color: #008000; text-decoration-color: #008000\">DEBUG   </span> <span style=\"color: #0000ff; text-decoration-color: #0000ff; text-decoration: underline\">http://localhost:5000</span> <span style=\"color: #008000; text-decoration-color: #008000\">\"</span><span style=\"color: #808000; text-decoration-color: #808000; font-weight: bold\">POST</span><span style=\"color: #008000; text-decoration-color: #008000\"> /api/event/insertEvent HTTP/11\"</span> <span style=\"color: #008080; text-decoration-color: #008080; font-weight: bold\">201</span>  <a href=\"file://d:\\windowsConda\\Lib\\site-packages\\urllib3\\connectionpool.py\" target=\"_blank\"><span style=\"color: #7f7f7f; text-decoration-color: #7f7f7f\">connectionpool.py</span></a><span style=\"color: #7f7f7f; text-decoration-color: #7f7f7f\">:</span><a href=\"file://d:\\windowsConda\\Lib\\site-packages\\urllib3\\connectionpool.py#546\" target=\"_blank\"><span style=\"color: #7f7f7f; text-decoration-color: #7f7f7f\">546</span></a>\n",
       "<span style=\"color: #7fbfbf; text-decoration-color: #7fbfbf\">                    </span>         <span style=\"color: #008080; text-decoration-color: #008080; font-weight: bold\">493</span>                                                              <span style=\"color: #7f7f7f; text-decoration-color: #7f7f7f\">                     </span>\n",
       "</pre>\n"
      ],
      "text/plain": [
       "\u001b[2;36m[05/14/25 01:39:16]\u001b[0m\u001b[2;36m \u001b[0m\u001b[32mDEBUG   \u001b[0m \u001b[4;94mhttp://localhost:5000\u001b[0m \u001b[32m\"\u001b[0m\u001b[1;33mPOST\u001b[0m\u001b[32m /api/event/insertEvent HTTP/11\"\u001b[0m \u001b[1;36m201\u001b[0m  \u001b]8;id=683661;file://d:\\windowsConda\\Lib\\site-packages\\urllib3\\connectionpool.py\u001b\\\u001b[2mconnectionpool.py\u001b[0m\u001b]8;;\u001b\\\u001b[2m:\u001b[0m\u001b]8;id=786195;file://d:\\windowsConda\\Lib\\site-packages\\urllib3\\connectionpool.py#546\u001b\\\u001b[2m546\u001b[0m\u001b]8;;\u001b\\\n",
       "\u001b[2;36m                    \u001b[0m         \u001b[1;36m493\u001b[0m                                                              \u001b[2m                     \u001b[0m\n"
      ]
     },
     "metadata": {},
     "output_type": "display_data"
    },
    {
     "data": {
      "text/html": [
       "<pre style=\"white-space:pre;overflow-x:auto;line-height:normal;font-family:Menlo,'DejaVu Sans Mono',consolas,'Courier New',monospace\"><span style=\"color: #7fbfbf; text-decoration-color: #7fbfbf\">                    </span><span style=\"color: #800000; text-decoration-color: #800000; font-weight: bold\">ERROR   </span> Failed to insert event: Women in Tech Panel. Status code: <span style=\"color: #008080; text-decoration-color: #008080; font-weight: bold\">201</span>         <a href=\"file://C:\\Users\\Otaku\\AppData\\Local\\Temp\\ipykernel_23876\\3371054377.py\" target=\"_blank\"><span style=\"color: #7f7f7f; text-decoration-color: #7f7f7f\">3371054377.py</span></a><span style=\"color: #7f7f7f; text-decoration-color: #7f7f7f\">:</span><a href=\"file://C:\\Users\\Otaku\\AppData\\Local\\Temp\\ipykernel_23876\\3371054377.py#25\" target=\"_blank\"><span style=\"color: #7f7f7f; text-decoration-color: #7f7f7f\">25</span></a>\n",
       "</pre>\n"
      ],
      "text/plain": [
       "\u001b[2;36m                   \u001b[0m\u001b[2;36m \u001b[0m\u001b[1;31mERROR   \u001b[0m Failed to insert event: Women in Tech Panel. Status code: \u001b[1;36m201\u001b[0m         \u001b]8;id=607520;file://C:\\Users\\Otaku\\AppData\\Local\\Temp\\ipykernel_23876\\3371054377.py\u001b\\\u001b[2m3371054377.py\u001b[0m\u001b]8;;\u001b\\\u001b[2m:\u001b[0m\u001b]8;id=911479;file://C:\\Users\\Otaku\\AppData\\Local\\Temp\\ipykernel_23876\\3371054377.py#25\u001b\\\u001b[2m25\u001b[0m\u001b]8;;\u001b\\\n"
      ]
     },
     "metadata": {},
     "output_type": "display_data"
    },
    {
     "data": {
      "text/html": [
       "<pre style=\"white-space:pre;overflow-x:auto;line-height:normal;font-family:Menlo,'DejaVu Sans Mono',consolas,'Courier New',monospace\"><span style=\"color: #7fbfbf; text-decoration-color: #7fbfbf\">                    </span><span style=\"color: #008000; text-decoration-color: #008000\">DEBUG   </span> Starting new HTTP connection <span style=\"font-weight: bold\">(</span><span style=\"color: #008080; text-decoration-color: #008080; font-weight: bold\">1</span><span style=\"font-weight: bold\">)</span>: localhost:<span style=\"color: #008080; text-decoration-color: #008080; font-weight: bold\">5000</span>                 <a href=\"file://d:\\windowsConda\\Lib\\site-packages\\urllib3\\connectionpool.py\" target=\"_blank\"><span style=\"color: #7f7f7f; text-decoration-color: #7f7f7f\">connectionpool.py</span></a><span style=\"color: #7f7f7f; text-decoration-color: #7f7f7f\">:</span><a href=\"file://d:\\windowsConda\\Lib\\site-packages\\urllib3\\connectionpool.py#243\" target=\"_blank\"><span style=\"color: #7f7f7f; text-decoration-color: #7f7f7f\">243</span></a>\n",
       "</pre>\n"
      ],
      "text/plain": [
       "\u001b[2;36m                   \u001b[0m\u001b[2;36m \u001b[0m\u001b[32mDEBUG   \u001b[0m Starting new HTTP connection \u001b[1m(\u001b[0m\u001b[1;36m1\u001b[0m\u001b[1m)\u001b[0m: localhost:\u001b[1;36m5000\u001b[0m                 \u001b]8;id=775558;file://d:\\windowsConda\\Lib\\site-packages\\urllib3\\connectionpool.py\u001b\\\u001b[2mconnectionpool.py\u001b[0m\u001b]8;;\u001b\\\u001b[2m:\u001b[0m\u001b]8;id=151392;file://d:\\windowsConda\\Lib\\site-packages\\urllib3\\connectionpool.py#243\u001b\\\u001b[2m243\u001b[0m\u001b]8;;\u001b\\\n"
      ]
     },
     "metadata": {},
     "output_type": "display_data"
    },
    {
     "data": {
      "text/html": [
       "<pre style=\"white-space:pre;overflow-x:auto;line-height:normal;font-family:Menlo,'DejaVu Sans Mono',consolas,'Courier New',monospace\"><span style=\"color: #7fbfbf; text-decoration-color: #7fbfbf\">[05/14/25 01:39:20] </span><span style=\"color: #008000; text-decoration-color: #008000\">DEBUG   </span> <span style=\"color: #0000ff; text-decoration-color: #0000ff; text-decoration: underline\">http://localhost:5000</span> <span style=\"color: #008000; text-decoration-color: #008000\">\"</span><span style=\"color: #808000; text-decoration-color: #808000; font-weight: bold\">POST</span><span style=\"color: #008000; text-decoration-color: #008000\"> /api/event/insertEvent HTTP/11\"</span> <span style=\"color: #008080; text-decoration-color: #008080; font-weight: bold\">201</span>  <a href=\"file://d:\\windowsConda\\Lib\\site-packages\\urllib3\\connectionpool.py\" target=\"_blank\"><span style=\"color: #7f7f7f; text-decoration-color: #7f7f7f\">connectionpool.py</span></a><span style=\"color: #7f7f7f; text-decoration-color: #7f7f7f\">:</span><a href=\"file://d:\\windowsConda\\Lib\\site-packages\\urllib3\\connectionpool.py#546\" target=\"_blank\"><span style=\"color: #7f7f7f; text-decoration-color: #7f7f7f\">546</span></a>\n",
       "<span style=\"color: #7fbfbf; text-decoration-color: #7fbfbf\">                    </span>         <span style=\"color: #008080; text-decoration-color: #008080; font-weight: bold\">483</span>                                                              <span style=\"color: #7f7f7f; text-decoration-color: #7f7f7f\">                     </span>\n",
       "</pre>\n"
      ],
      "text/plain": [
       "\u001b[2;36m[05/14/25 01:39:20]\u001b[0m\u001b[2;36m \u001b[0m\u001b[32mDEBUG   \u001b[0m \u001b[4;94mhttp://localhost:5000\u001b[0m \u001b[32m\"\u001b[0m\u001b[1;33mPOST\u001b[0m\u001b[32m /api/event/insertEvent HTTP/11\"\u001b[0m \u001b[1;36m201\u001b[0m  \u001b]8;id=452086;file://d:\\windowsConda\\Lib\\site-packages\\urllib3\\connectionpool.py\u001b\\\u001b[2mconnectionpool.py\u001b[0m\u001b]8;;\u001b\\\u001b[2m:\u001b[0m\u001b]8;id=180185;file://d:\\windowsConda\\Lib\\site-packages\\urllib3\\connectionpool.py#546\u001b\\\u001b[2m546\u001b[0m\u001b]8;;\u001b\\\n",
       "\u001b[2;36m                    \u001b[0m         \u001b[1;36m483\u001b[0m                                                              \u001b[2m                     \u001b[0m\n"
      ]
     },
     "metadata": {},
     "output_type": "display_data"
    },
    {
     "data": {
      "text/html": [
       "<pre style=\"white-space:pre;overflow-x:auto;line-height:normal;font-family:Menlo,'DejaVu Sans Mono',consolas,'Courier New',monospace\"><span style=\"color: #7fbfbf; text-decoration-color: #7fbfbf\">                    </span><span style=\"color: #800000; text-decoration-color: #800000; font-weight: bold\">ERROR   </span> Failed to insert event: AI &amp; Ethics Symposium. Status code: <span style=\"color: #008080; text-decoration-color: #008080; font-weight: bold\">201</span>       <a href=\"file://C:\\Users\\Otaku\\AppData\\Local\\Temp\\ipykernel_23876\\3371054377.py\" target=\"_blank\"><span style=\"color: #7f7f7f; text-decoration-color: #7f7f7f\">3371054377.py</span></a><span style=\"color: #7f7f7f; text-decoration-color: #7f7f7f\">:</span><a href=\"file://C:\\Users\\Otaku\\AppData\\Local\\Temp\\ipykernel_23876\\3371054377.py#25\" target=\"_blank\"><span style=\"color: #7f7f7f; text-decoration-color: #7f7f7f\">25</span></a>\n",
       "</pre>\n"
      ],
      "text/plain": [
       "\u001b[2;36m                   \u001b[0m\u001b[2;36m \u001b[0m\u001b[1;31mERROR   \u001b[0m Failed to insert event: AI & Ethics Symposium. Status code: \u001b[1;36m201\u001b[0m       \u001b]8;id=306997;file://C:\\Users\\Otaku\\AppData\\Local\\Temp\\ipykernel_23876\\3371054377.py\u001b\\\u001b[2m3371054377.py\u001b[0m\u001b]8;;\u001b\\\u001b[2m:\u001b[0m\u001b]8;id=765517;file://C:\\Users\\Otaku\\AppData\\Local\\Temp\\ipykernel_23876\\3371054377.py#25\u001b\\\u001b[2m25\u001b[0m\u001b]8;;\u001b\\\n"
      ]
     },
     "metadata": {},
     "output_type": "display_data"
    },
    {
     "data": {
      "text/html": [
       "<pre style=\"white-space:pre;overflow-x:auto;line-height:normal;font-family:Menlo,'DejaVu Sans Mono',consolas,'Courier New',monospace\"><span style=\"color: #7fbfbf; text-decoration-color: #7fbfbf\">                    </span><span style=\"color: #008000; text-decoration-color: #008000\">DEBUG   </span> Starting new HTTP connection <span style=\"font-weight: bold\">(</span><span style=\"color: #008080; text-decoration-color: #008080; font-weight: bold\">1</span><span style=\"font-weight: bold\">)</span>: localhost:<span style=\"color: #008080; text-decoration-color: #008080; font-weight: bold\">5000</span>                 <a href=\"file://d:\\windowsConda\\Lib\\site-packages\\urllib3\\connectionpool.py\" target=\"_blank\"><span style=\"color: #7f7f7f; text-decoration-color: #7f7f7f\">connectionpool.py</span></a><span style=\"color: #7f7f7f; text-decoration-color: #7f7f7f\">:</span><a href=\"file://d:\\windowsConda\\Lib\\site-packages\\urllib3\\connectionpool.py#243\" target=\"_blank\"><span style=\"color: #7f7f7f; text-decoration-color: #7f7f7f\">243</span></a>\n",
       "</pre>\n"
      ],
      "text/plain": [
       "\u001b[2;36m                   \u001b[0m\u001b[2;36m \u001b[0m\u001b[32mDEBUG   \u001b[0m Starting new HTTP connection \u001b[1m(\u001b[0m\u001b[1;36m1\u001b[0m\u001b[1m)\u001b[0m: localhost:\u001b[1;36m5000\u001b[0m                 \u001b]8;id=346293;file://d:\\windowsConda\\Lib\\site-packages\\urllib3\\connectionpool.py\u001b\\\u001b[2mconnectionpool.py\u001b[0m\u001b]8;;\u001b\\\u001b[2m:\u001b[0m\u001b]8;id=441611;file://d:\\windowsConda\\Lib\\site-packages\\urllib3\\connectionpool.py#243\u001b\\\u001b[2m243\u001b[0m\u001b]8;;\u001b\\\n"
      ]
     },
     "metadata": {},
     "output_type": "display_data"
    },
    {
     "data": {
      "text/html": [
       "<pre style=\"white-space:pre;overflow-x:auto;line-height:normal;font-family:Menlo,'DejaVu Sans Mono',consolas,'Courier New',monospace\"><span style=\"color: #7fbfbf; text-decoration-color: #7fbfbf\">[05/14/25 01:39:23] </span><span style=\"color: #008000; text-decoration-color: #008000\">DEBUG   </span> <span style=\"color: #0000ff; text-decoration-color: #0000ff; text-decoration: underline\">http://localhost:5000</span> <span style=\"color: #008000; text-decoration-color: #008000\">\"</span><span style=\"color: #808000; text-decoration-color: #808000; font-weight: bold\">POST</span><span style=\"color: #008000; text-decoration-color: #008000\"> /api/event/insertEvent HTTP/11\"</span> <span style=\"color: #008080; text-decoration-color: #008080; font-weight: bold\">201</span>  <a href=\"file://d:\\windowsConda\\Lib\\site-packages\\urllib3\\connectionpool.py\" target=\"_blank\"><span style=\"color: #7f7f7f; text-decoration-color: #7f7f7f\">connectionpool.py</span></a><span style=\"color: #7f7f7f; text-decoration-color: #7f7f7f\">:</span><a href=\"file://d:\\windowsConda\\Lib\\site-packages\\urllib3\\connectionpool.py#546\" target=\"_blank\"><span style=\"color: #7f7f7f; text-decoration-color: #7f7f7f\">546</span></a>\n",
       "<span style=\"color: #7fbfbf; text-decoration-color: #7fbfbf\">                    </span>         <span style=\"color: #008080; text-decoration-color: #008080; font-weight: bold\">489</span>                                                              <span style=\"color: #7f7f7f; text-decoration-color: #7f7f7f\">                     </span>\n",
       "</pre>\n"
      ],
      "text/plain": [
       "\u001b[2;36m[05/14/25 01:39:23]\u001b[0m\u001b[2;36m \u001b[0m\u001b[32mDEBUG   \u001b[0m \u001b[4;94mhttp://localhost:5000\u001b[0m \u001b[32m\"\u001b[0m\u001b[1;33mPOST\u001b[0m\u001b[32m /api/event/insertEvent HTTP/11\"\u001b[0m \u001b[1;36m201\u001b[0m  \u001b]8;id=161001;file://d:\\windowsConda\\Lib\\site-packages\\urllib3\\connectionpool.py\u001b\\\u001b[2mconnectionpool.py\u001b[0m\u001b]8;;\u001b\\\u001b[2m:\u001b[0m\u001b]8;id=193491;file://d:\\windowsConda\\Lib\\site-packages\\urllib3\\connectionpool.py#546\u001b\\\u001b[2m546\u001b[0m\u001b]8;;\u001b\\\n",
       "\u001b[2;36m                    \u001b[0m         \u001b[1;36m489\u001b[0m                                                              \u001b[2m                     \u001b[0m\n"
      ]
     },
     "metadata": {},
     "output_type": "display_data"
    },
    {
     "data": {
      "text/html": [
       "<pre style=\"white-space:pre;overflow-x:auto;line-height:normal;font-family:Menlo,'DejaVu Sans Mono',consolas,'Courier New',monospace\"><span style=\"color: #7fbfbf; text-decoration-color: #7fbfbf\">                    </span><span style=\"color: #800000; text-decoration-color: #800000; font-weight: bold\">ERROR   </span> Failed to insert event: Cultural Dance Night. Status code: <span style=\"color: #008080; text-decoration-color: #008080; font-weight: bold\">201</span>        <a href=\"file://C:\\Users\\Otaku\\AppData\\Local\\Temp\\ipykernel_23876\\3371054377.py\" target=\"_blank\"><span style=\"color: #7f7f7f; text-decoration-color: #7f7f7f\">3371054377.py</span></a><span style=\"color: #7f7f7f; text-decoration-color: #7f7f7f\">:</span><a href=\"file://C:\\Users\\Otaku\\AppData\\Local\\Temp\\ipykernel_23876\\3371054377.py#25\" target=\"_blank\"><span style=\"color: #7f7f7f; text-decoration-color: #7f7f7f\">25</span></a>\n",
       "</pre>\n"
      ],
      "text/plain": [
       "\u001b[2;36m                   \u001b[0m\u001b[2;36m \u001b[0m\u001b[1;31mERROR   \u001b[0m Failed to insert event: Cultural Dance Night. Status code: \u001b[1;36m201\u001b[0m        \u001b]8;id=897386;file://C:\\Users\\Otaku\\AppData\\Local\\Temp\\ipykernel_23876\\3371054377.py\u001b\\\u001b[2m3371054377.py\u001b[0m\u001b]8;;\u001b\\\u001b[2m:\u001b[0m\u001b]8;id=128393;file://C:\\Users\\Otaku\\AppData\\Local\\Temp\\ipykernel_23876\\3371054377.py#25\u001b\\\u001b[2m25\u001b[0m\u001b]8;;\u001b\\\n"
      ]
     },
     "metadata": {},
     "output_type": "display_data"
    },
    {
     "data": {
      "text/html": [
       "<pre style=\"white-space:pre;overflow-x:auto;line-height:normal;font-family:Menlo,'DejaVu Sans Mono',consolas,'Courier New',monospace\"><span style=\"color: #7fbfbf; text-decoration-color: #7fbfbf\">                    </span><span style=\"color: #008000; text-decoration-color: #008000\">DEBUG   </span> Starting new HTTP connection <span style=\"font-weight: bold\">(</span><span style=\"color: #008080; text-decoration-color: #008080; font-weight: bold\">1</span><span style=\"font-weight: bold\">)</span>: localhost:<span style=\"color: #008080; text-decoration-color: #008080; font-weight: bold\">5000</span>                 <a href=\"file://d:\\windowsConda\\Lib\\site-packages\\urllib3\\connectionpool.py\" target=\"_blank\"><span style=\"color: #7f7f7f; text-decoration-color: #7f7f7f\">connectionpool.py</span></a><span style=\"color: #7f7f7f; text-decoration-color: #7f7f7f\">:</span><a href=\"file://d:\\windowsConda\\Lib\\site-packages\\urllib3\\connectionpool.py#243\" target=\"_blank\"><span style=\"color: #7f7f7f; text-decoration-color: #7f7f7f\">243</span></a>\n",
       "</pre>\n"
      ],
      "text/plain": [
       "\u001b[2;36m                   \u001b[0m\u001b[2;36m \u001b[0m\u001b[32mDEBUG   \u001b[0m Starting new HTTP connection \u001b[1m(\u001b[0m\u001b[1;36m1\u001b[0m\u001b[1m)\u001b[0m: localhost:\u001b[1;36m5000\u001b[0m                 \u001b]8;id=731522;file://d:\\windowsConda\\Lib\\site-packages\\urllib3\\connectionpool.py\u001b\\\u001b[2mconnectionpool.py\u001b[0m\u001b]8;;\u001b\\\u001b[2m:\u001b[0m\u001b]8;id=524451;file://d:\\windowsConda\\Lib\\site-packages\\urllib3\\connectionpool.py#243\u001b\\\u001b[2m243\u001b[0m\u001b]8;;\u001b\\\n"
      ]
     },
     "metadata": {},
     "output_type": "display_data"
    },
    {
     "data": {
      "text/html": [
       "<pre style=\"white-space:pre;overflow-x:auto;line-height:normal;font-family:Menlo,'DejaVu Sans Mono',consolas,'Courier New',monospace\"><span style=\"color: #7fbfbf; text-decoration-color: #7fbfbf\">[05/14/25 01:39:27] </span><span style=\"color: #008000; text-decoration-color: #008000\">DEBUG   </span> <span style=\"color: #0000ff; text-decoration-color: #0000ff; text-decoration: underline\">http://localhost:5000</span> <span style=\"color: #008000; text-decoration-color: #008000\">\"</span><span style=\"color: #808000; text-decoration-color: #808000; font-weight: bold\">POST</span><span style=\"color: #008000; text-decoration-color: #008000\"> /api/event/insertEvent HTTP/11\"</span> <span style=\"color: #008080; text-decoration-color: #008080; font-weight: bold\">201</span>  <a href=\"file://d:\\windowsConda\\Lib\\site-packages\\urllib3\\connectionpool.py\" target=\"_blank\"><span style=\"color: #7f7f7f; text-decoration-color: #7f7f7f\">connectionpool.py</span></a><span style=\"color: #7f7f7f; text-decoration-color: #7f7f7f\">:</span><a href=\"file://d:\\windowsConda\\Lib\\site-packages\\urllib3\\connectionpool.py#546\" target=\"_blank\"><span style=\"color: #7f7f7f; text-decoration-color: #7f7f7f\">546</span></a>\n",
       "<span style=\"color: #7fbfbf; text-decoration-color: #7fbfbf\">                    </span>         <span style=\"color: #008080; text-decoration-color: #008080; font-weight: bold\">504</span>                                                              <span style=\"color: #7f7f7f; text-decoration-color: #7f7f7f\">                     </span>\n",
       "</pre>\n"
      ],
      "text/plain": [
       "\u001b[2;36m[05/14/25 01:39:27]\u001b[0m\u001b[2;36m \u001b[0m\u001b[32mDEBUG   \u001b[0m \u001b[4;94mhttp://localhost:5000\u001b[0m \u001b[32m\"\u001b[0m\u001b[1;33mPOST\u001b[0m\u001b[32m /api/event/insertEvent HTTP/11\"\u001b[0m \u001b[1;36m201\u001b[0m  \u001b]8;id=724446;file://d:\\windowsConda\\Lib\\site-packages\\urllib3\\connectionpool.py\u001b\\\u001b[2mconnectionpool.py\u001b[0m\u001b]8;;\u001b\\\u001b[2m:\u001b[0m\u001b]8;id=777968;file://d:\\windowsConda\\Lib\\site-packages\\urllib3\\connectionpool.py#546\u001b\\\u001b[2m546\u001b[0m\u001b]8;;\u001b\\\n",
       "\u001b[2;36m                    \u001b[0m         \u001b[1;36m504\u001b[0m                                                              \u001b[2m                     \u001b[0m\n"
      ]
     },
     "metadata": {},
     "output_type": "display_data"
    },
    {
     "data": {
      "text/html": [
       "<pre style=\"white-space:pre;overflow-x:auto;line-height:normal;font-family:Menlo,'DejaVu Sans Mono',consolas,'Courier New',monospace\"><span style=\"color: #7fbfbf; text-decoration-color: #7fbfbf\">                    </span><span style=\"color: #800000; text-decoration-color: #800000; font-weight: bold\">ERROR   </span> Failed to insert event: Blockchain for Beginners. Status code: <span style=\"color: #008080; text-decoration-color: #008080; font-weight: bold\">201</span>    <a href=\"file://C:\\Users\\Otaku\\AppData\\Local\\Temp\\ipykernel_23876\\3371054377.py\" target=\"_blank\"><span style=\"color: #7f7f7f; text-decoration-color: #7f7f7f\">3371054377.py</span></a><span style=\"color: #7f7f7f; text-decoration-color: #7f7f7f\">:</span><a href=\"file://C:\\Users\\Otaku\\AppData\\Local\\Temp\\ipykernel_23876\\3371054377.py#25\" target=\"_blank\"><span style=\"color: #7f7f7f; text-decoration-color: #7f7f7f\">25</span></a>\n",
       "</pre>\n"
      ],
      "text/plain": [
       "\u001b[2;36m                   \u001b[0m\u001b[2;36m \u001b[0m\u001b[1;31mERROR   \u001b[0m Failed to insert event: Blockchain for Beginners. Status code: \u001b[1;36m201\u001b[0m    \u001b]8;id=6614;file://C:\\Users\\Otaku\\AppData\\Local\\Temp\\ipykernel_23876\\3371054377.py\u001b\\\u001b[2m3371054377.py\u001b[0m\u001b]8;;\u001b\\\u001b[2m:\u001b[0m\u001b]8;id=266316;file://C:\\Users\\Otaku\\AppData\\Local\\Temp\\ipykernel_23876\\3371054377.py#25\u001b\\\u001b[2m25\u001b[0m\u001b]8;;\u001b\\\n"
      ]
     },
     "metadata": {},
     "output_type": "display_data"
    },
    {
     "data": {
      "text/html": [
       "<pre style=\"white-space:pre;overflow-x:auto;line-height:normal;font-family:Menlo,'DejaVu Sans Mono',consolas,'Courier New',monospace\"><span style=\"color: #7fbfbf; text-decoration-color: #7fbfbf\">                    </span><span style=\"color: #008000; text-decoration-color: #008000\">DEBUG   </span> Starting new HTTP connection <span style=\"font-weight: bold\">(</span><span style=\"color: #008080; text-decoration-color: #008080; font-weight: bold\">1</span><span style=\"font-weight: bold\">)</span>: localhost:<span style=\"color: #008080; text-decoration-color: #008080; font-weight: bold\">5000</span>                 <a href=\"file://d:\\windowsConda\\Lib\\site-packages\\urllib3\\connectionpool.py\" target=\"_blank\"><span style=\"color: #7f7f7f; text-decoration-color: #7f7f7f\">connectionpool.py</span></a><span style=\"color: #7f7f7f; text-decoration-color: #7f7f7f\">:</span><a href=\"file://d:\\windowsConda\\Lib\\site-packages\\urllib3\\connectionpool.py#243\" target=\"_blank\"><span style=\"color: #7f7f7f; text-decoration-color: #7f7f7f\">243</span></a>\n",
       "</pre>\n"
      ],
      "text/plain": [
       "\u001b[2;36m                   \u001b[0m\u001b[2;36m \u001b[0m\u001b[32mDEBUG   \u001b[0m Starting new HTTP connection \u001b[1m(\u001b[0m\u001b[1;36m1\u001b[0m\u001b[1m)\u001b[0m: localhost:\u001b[1;36m5000\u001b[0m                 \u001b]8;id=526342;file://d:\\windowsConda\\Lib\\site-packages\\urllib3\\connectionpool.py\u001b\\\u001b[2mconnectionpool.py\u001b[0m\u001b]8;;\u001b\\\u001b[2m:\u001b[0m\u001b]8;id=94037;file://d:\\windowsConda\\Lib\\site-packages\\urllib3\\connectionpool.py#243\u001b\\\u001b[2m243\u001b[0m\u001b]8;;\u001b\\\n"
      ]
     },
     "metadata": {},
     "output_type": "display_data"
    },
    {
     "data": {
      "text/html": [
       "<pre style=\"white-space:pre;overflow-x:auto;line-height:normal;font-family:Menlo,'DejaVu Sans Mono',consolas,'Courier New',monospace\"><span style=\"color: #7fbfbf; text-decoration-color: #7fbfbf\">[05/14/25 01:39:31] </span><span style=\"color: #008000; text-decoration-color: #008000\">DEBUG   </span> <span style=\"color: #0000ff; text-decoration-color: #0000ff; text-decoration: underline\">http://localhost:5000</span> <span style=\"color: #008000; text-decoration-color: #008000\">\"</span><span style=\"color: #808000; text-decoration-color: #808000; font-weight: bold\">POST</span><span style=\"color: #008000; text-decoration-color: #008000\"> /api/event/insertEvent HTTP/11\"</span> <span style=\"color: #008080; text-decoration-color: #008080; font-weight: bold\">201</span>  <a href=\"file://d:\\windowsConda\\Lib\\site-packages\\urllib3\\connectionpool.py\" target=\"_blank\"><span style=\"color: #7f7f7f; text-decoration-color: #7f7f7f\">connectionpool.py</span></a><span style=\"color: #7f7f7f; text-decoration-color: #7f7f7f\">:</span><a href=\"file://d:\\windowsConda\\Lib\\site-packages\\urllib3\\connectionpool.py#546\" target=\"_blank\"><span style=\"color: #7f7f7f; text-decoration-color: #7f7f7f\">546</span></a>\n",
       "<span style=\"color: #7fbfbf; text-decoration-color: #7fbfbf\">                    </span>         <span style=\"color: #008080; text-decoration-color: #008080; font-weight: bold\">493</span>                                                              <span style=\"color: #7f7f7f; text-decoration-color: #7f7f7f\">                     </span>\n",
       "</pre>\n"
      ],
      "text/plain": [
       "\u001b[2;36m[05/14/25 01:39:31]\u001b[0m\u001b[2;36m \u001b[0m\u001b[32mDEBUG   \u001b[0m \u001b[4;94mhttp://localhost:5000\u001b[0m \u001b[32m\"\u001b[0m\u001b[1;33mPOST\u001b[0m\u001b[32m /api/event/insertEvent HTTP/11\"\u001b[0m \u001b[1;36m201\u001b[0m  \u001b]8;id=295314;file://d:\\windowsConda\\Lib\\site-packages\\urllib3\\connectionpool.py\u001b\\\u001b[2mconnectionpool.py\u001b[0m\u001b]8;;\u001b\\\u001b[2m:\u001b[0m\u001b]8;id=382167;file://d:\\windowsConda\\Lib\\site-packages\\urllib3\\connectionpool.py#546\u001b\\\u001b[2m546\u001b[0m\u001b]8;;\u001b\\\n",
       "\u001b[2;36m                    \u001b[0m         \u001b[1;36m493\u001b[0m                                                              \u001b[2m                     \u001b[0m\n"
      ]
     },
     "metadata": {},
     "output_type": "display_data"
    },
    {
     "data": {
      "text/html": [
       "<pre style=\"white-space:pre;overflow-x:auto;line-height:normal;font-family:Menlo,'DejaVu Sans Mono',consolas,'Courier New',monospace\"><span style=\"color: #7fbfbf; text-decoration-color: #7fbfbf\">                    </span><span style=\"color: #800000; text-decoration-color: #800000; font-weight: bold\">ERROR   </span> Failed to insert event: Wildlife Conservation Talk. Status code: <span style=\"color: #008080; text-decoration-color: #008080; font-weight: bold\">201</span>  <a href=\"file://C:\\Users\\Otaku\\AppData\\Local\\Temp\\ipykernel_23876\\3371054377.py\" target=\"_blank\"><span style=\"color: #7f7f7f; text-decoration-color: #7f7f7f\">3371054377.py</span></a><span style=\"color: #7f7f7f; text-decoration-color: #7f7f7f\">:</span><a href=\"file://C:\\Users\\Otaku\\AppData\\Local\\Temp\\ipykernel_23876\\3371054377.py#25\" target=\"_blank\"><span style=\"color: #7f7f7f; text-decoration-color: #7f7f7f\">25</span></a>\n",
       "</pre>\n"
      ],
      "text/plain": [
       "\u001b[2;36m                   \u001b[0m\u001b[2;36m \u001b[0m\u001b[1;31mERROR   \u001b[0m Failed to insert event: Wildlife Conservation Talk. Status code: \u001b[1;36m201\u001b[0m  \u001b]8;id=478730;file://C:\\Users\\Otaku\\AppData\\Local\\Temp\\ipykernel_23876\\3371054377.py\u001b\\\u001b[2m3371054377.py\u001b[0m\u001b]8;;\u001b\\\u001b[2m:\u001b[0m\u001b]8;id=606690;file://C:\\Users\\Otaku\\AppData\\Local\\Temp\\ipykernel_23876\\3371054377.py#25\u001b\\\u001b[2m25\u001b[0m\u001b]8;;\u001b\\\n"
      ]
     },
     "metadata": {},
     "output_type": "display_data"
    },
    {
     "data": {
      "text/html": [
       "<pre style=\"white-space:pre;overflow-x:auto;line-height:normal;font-family:Menlo,'DejaVu Sans Mono',consolas,'Courier New',monospace\"><span style=\"color: #7fbfbf; text-decoration-color: #7fbfbf\">                    </span><span style=\"color: #008000; text-decoration-color: #008000\">DEBUG   </span> Starting new HTTP connection <span style=\"font-weight: bold\">(</span><span style=\"color: #008080; text-decoration-color: #008080; font-weight: bold\">1</span><span style=\"font-weight: bold\">)</span>: localhost:<span style=\"color: #008080; text-decoration-color: #008080; font-weight: bold\">5000</span>                 <a href=\"file://d:\\windowsConda\\Lib\\site-packages\\urllib3\\connectionpool.py\" target=\"_blank\"><span style=\"color: #7f7f7f; text-decoration-color: #7f7f7f\">connectionpool.py</span></a><span style=\"color: #7f7f7f; text-decoration-color: #7f7f7f\">:</span><a href=\"file://d:\\windowsConda\\Lib\\site-packages\\urllib3\\connectionpool.py#243\" target=\"_blank\"><span style=\"color: #7f7f7f; text-decoration-color: #7f7f7f\">243</span></a>\n",
       "</pre>\n"
      ],
      "text/plain": [
       "\u001b[2;36m                   \u001b[0m\u001b[2;36m \u001b[0m\u001b[32mDEBUG   \u001b[0m Starting new HTTP connection \u001b[1m(\u001b[0m\u001b[1;36m1\u001b[0m\u001b[1m)\u001b[0m: localhost:\u001b[1;36m5000\u001b[0m                 \u001b]8;id=898939;file://d:\\windowsConda\\Lib\\site-packages\\urllib3\\connectionpool.py\u001b\\\u001b[2mconnectionpool.py\u001b[0m\u001b]8;;\u001b\\\u001b[2m:\u001b[0m\u001b]8;id=109441;file://d:\\windowsConda\\Lib\\site-packages\\urllib3\\connectionpool.py#243\u001b\\\u001b[2m243\u001b[0m\u001b]8;;\u001b\\\n"
      ]
     },
     "metadata": {},
     "output_type": "display_data"
    },
    {
     "data": {
      "text/html": [
       "<pre style=\"white-space:pre;overflow-x:auto;line-height:normal;font-family:Menlo,'DejaVu Sans Mono',consolas,'Courier New',monospace\"><span style=\"color: #7fbfbf; text-decoration-color: #7fbfbf\">[05/14/25 01:39:34] </span><span style=\"color: #008000; text-decoration-color: #008000\">DEBUG   </span> <span style=\"color: #0000ff; text-decoration-color: #0000ff; text-decoration: underline\">http://localhost:5000</span> <span style=\"color: #008000; text-decoration-color: #008000\">\"</span><span style=\"color: #808000; text-decoration-color: #808000; font-weight: bold\">POST</span><span style=\"color: #008000; text-decoration-color: #008000\"> /api/event/insertEvent HTTP/11\"</span> <span style=\"color: #008080; text-decoration-color: #008080; font-weight: bold\">201</span>  <a href=\"file://d:\\windowsConda\\Lib\\site-packages\\urllib3\\connectionpool.py\" target=\"_blank\"><span style=\"color: #7f7f7f; text-decoration-color: #7f7f7f\">connectionpool.py</span></a><span style=\"color: #7f7f7f; text-decoration-color: #7f7f7f\">:</span><a href=\"file://d:\\windowsConda\\Lib\\site-packages\\urllib3\\connectionpool.py#546\" target=\"_blank\"><span style=\"color: #7f7f7f; text-decoration-color: #7f7f7f\">546</span></a>\n",
       "<span style=\"color: #7fbfbf; text-decoration-color: #7fbfbf\">                    </span>         <span style=\"color: #008080; text-decoration-color: #008080; font-weight: bold\">495</span>                                                              <span style=\"color: #7f7f7f; text-decoration-color: #7f7f7f\">                     </span>\n",
       "</pre>\n"
      ],
      "text/plain": [
       "\u001b[2;36m[05/14/25 01:39:34]\u001b[0m\u001b[2;36m \u001b[0m\u001b[32mDEBUG   \u001b[0m \u001b[4;94mhttp://localhost:5000\u001b[0m \u001b[32m\"\u001b[0m\u001b[1;33mPOST\u001b[0m\u001b[32m /api/event/insertEvent HTTP/11\"\u001b[0m \u001b[1;36m201\u001b[0m  \u001b]8;id=19407;file://d:\\windowsConda\\Lib\\site-packages\\urllib3\\connectionpool.py\u001b\\\u001b[2mconnectionpool.py\u001b[0m\u001b]8;;\u001b\\\u001b[2m:\u001b[0m\u001b]8;id=20824;file://d:\\windowsConda\\Lib\\site-packages\\urllib3\\connectionpool.py#546\u001b\\\u001b[2m546\u001b[0m\u001b]8;;\u001b\\\n",
       "\u001b[2;36m                    \u001b[0m         \u001b[1;36m495\u001b[0m                                                              \u001b[2m                     \u001b[0m\n"
      ]
     },
     "metadata": {},
     "output_type": "display_data"
    },
    {
     "data": {
      "text/html": [
       "<pre style=\"white-space:pre;overflow-x:auto;line-height:normal;font-family:Menlo,'DejaVu Sans Mono',consolas,'Courier New',monospace\"><span style=\"color: #7fbfbf; text-decoration-color: #7fbfbf\">                    </span><span style=\"color: #800000; text-decoration-color: #800000; font-weight: bold\">ERROR   </span> Failed to insert event: Gaming Tournament: Pokhara Edition. Status    <a href=\"file://C:\\Users\\Otaku\\AppData\\Local\\Temp\\ipykernel_23876\\3371054377.py\" target=\"_blank\"><span style=\"color: #7f7f7f; text-decoration-color: #7f7f7f\">3371054377.py</span></a><span style=\"color: #7f7f7f; text-decoration-color: #7f7f7f\">:</span><a href=\"file://C:\\Users\\Otaku\\AppData\\Local\\Temp\\ipykernel_23876\\3371054377.py#25\" target=\"_blank\"><span style=\"color: #7f7f7f; text-decoration-color: #7f7f7f\">25</span></a>\n",
       "<span style=\"color: #7fbfbf; text-decoration-color: #7fbfbf\">                    </span>         code: <span style=\"color: #008080; text-decoration-color: #008080; font-weight: bold\">201</span>                                                             <span style=\"color: #7f7f7f; text-decoration-color: #7f7f7f\">                </span>\n",
       "</pre>\n"
      ],
      "text/plain": [
       "\u001b[2;36m                   \u001b[0m\u001b[2;36m \u001b[0m\u001b[1;31mERROR   \u001b[0m Failed to insert event: Gaming Tournament: Pokhara Edition. Status    \u001b]8;id=973319;file://C:\\Users\\Otaku\\AppData\\Local\\Temp\\ipykernel_23876\\3371054377.py\u001b\\\u001b[2m3371054377.py\u001b[0m\u001b]8;;\u001b\\\u001b[2m:\u001b[0m\u001b]8;id=542160;file://C:\\Users\\Otaku\\AppData\\Local\\Temp\\ipykernel_23876\\3371054377.py#25\u001b\\\u001b[2m25\u001b[0m\u001b]8;;\u001b\\\n",
       "\u001b[2;36m                    \u001b[0m         code: \u001b[1;36m201\u001b[0m                                                             \u001b[2m                \u001b[0m\n"
      ]
     },
     "metadata": {},
     "output_type": "display_data"
    },
    {
     "data": {
      "text/html": [
       "<pre style=\"white-space:pre;overflow-x:auto;line-height:normal;font-family:Menlo,'DejaVu Sans Mono',consolas,'Courier New',monospace\"><span style=\"color: #7fbfbf; text-decoration-color: #7fbfbf\">                    </span><span style=\"color: #008000; text-decoration-color: #008000\">DEBUG   </span> Starting new HTTP connection <span style=\"font-weight: bold\">(</span><span style=\"color: #008080; text-decoration-color: #008080; font-weight: bold\">1</span><span style=\"font-weight: bold\">)</span>: localhost:<span style=\"color: #008080; text-decoration-color: #008080; font-weight: bold\">5000</span>                 <a href=\"file://d:\\windowsConda\\Lib\\site-packages\\urllib3\\connectionpool.py\" target=\"_blank\"><span style=\"color: #7f7f7f; text-decoration-color: #7f7f7f\">connectionpool.py</span></a><span style=\"color: #7f7f7f; text-decoration-color: #7f7f7f\">:</span><a href=\"file://d:\\windowsConda\\Lib\\site-packages\\urllib3\\connectionpool.py#243\" target=\"_blank\"><span style=\"color: #7f7f7f; text-decoration-color: #7f7f7f\">243</span></a>\n",
       "</pre>\n"
      ],
      "text/plain": [
       "\u001b[2;36m                   \u001b[0m\u001b[2;36m \u001b[0m\u001b[32mDEBUG   \u001b[0m Starting new HTTP connection \u001b[1m(\u001b[0m\u001b[1;36m1\u001b[0m\u001b[1m)\u001b[0m: localhost:\u001b[1;36m5000\u001b[0m                 \u001b]8;id=751165;file://d:\\windowsConda\\Lib\\site-packages\\urllib3\\connectionpool.py\u001b\\\u001b[2mconnectionpool.py\u001b[0m\u001b]8;;\u001b\\\u001b[2m:\u001b[0m\u001b]8;id=697660;file://d:\\windowsConda\\Lib\\site-packages\\urllib3\\connectionpool.py#243\u001b\\\u001b[2m243\u001b[0m\u001b]8;;\u001b\\\n"
      ]
     },
     "metadata": {},
     "output_type": "display_data"
    },
    {
     "data": {
      "text/html": [
       "<pre style=\"white-space:pre;overflow-x:auto;line-height:normal;font-family:Menlo,'DejaVu Sans Mono',consolas,'Courier New',monospace\"><span style=\"color: #7fbfbf; text-decoration-color: #7fbfbf\">[05/14/25 01:39:38] </span><span style=\"color: #008000; text-decoration-color: #008000\">DEBUG   </span> <span style=\"color: #0000ff; text-decoration-color: #0000ff; text-decoration: underline\">http://localhost:5000</span> <span style=\"color: #008000; text-decoration-color: #008000\">\"</span><span style=\"color: #808000; text-decoration-color: #808000; font-weight: bold\">POST</span><span style=\"color: #008000; text-decoration-color: #008000\"> /api/event/insertEvent HTTP/11\"</span> <span style=\"color: #008080; text-decoration-color: #008080; font-weight: bold\">201</span>  <a href=\"file://d:\\windowsConda\\Lib\\site-packages\\urllib3\\connectionpool.py\" target=\"_blank\"><span style=\"color: #7f7f7f; text-decoration-color: #7f7f7f\">connectionpool.py</span></a><span style=\"color: #7f7f7f; text-decoration-color: #7f7f7f\">:</span><a href=\"file://d:\\windowsConda\\Lib\\site-packages\\urllib3\\connectionpool.py#546\" target=\"_blank\"><span style=\"color: #7f7f7f; text-decoration-color: #7f7f7f\">546</span></a>\n",
       "<span style=\"color: #7fbfbf; text-decoration-color: #7fbfbf\">                    </span>         <span style=\"color: #008080; text-decoration-color: #008080; font-weight: bold\">486</span>                                                              <span style=\"color: #7f7f7f; text-decoration-color: #7f7f7f\">                     </span>\n",
       "</pre>\n"
      ],
      "text/plain": [
       "\u001b[2;36m[05/14/25 01:39:38]\u001b[0m\u001b[2;36m \u001b[0m\u001b[32mDEBUG   \u001b[0m \u001b[4;94mhttp://localhost:5000\u001b[0m \u001b[32m\"\u001b[0m\u001b[1;33mPOST\u001b[0m\u001b[32m /api/event/insertEvent HTTP/11\"\u001b[0m \u001b[1;36m201\u001b[0m  \u001b]8;id=764517;file://d:\\windowsConda\\Lib\\site-packages\\urllib3\\connectionpool.py\u001b\\\u001b[2mconnectionpool.py\u001b[0m\u001b]8;;\u001b\\\u001b[2m:\u001b[0m\u001b]8;id=817769;file://d:\\windowsConda\\Lib\\site-packages\\urllib3\\connectionpool.py#546\u001b\\\u001b[2m546\u001b[0m\u001b]8;;\u001b\\\n",
       "\u001b[2;36m                    \u001b[0m         \u001b[1;36m486\u001b[0m                                                              \u001b[2m                     \u001b[0m\n"
      ]
     },
     "metadata": {},
     "output_type": "display_data"
    },
    {
     "data": {
      "text/html": [
       "<pre style=\"white-space:pre;overflow-x:auto;line-height:normal;font-family:Menlo,'DejaVu Sans Mono',consolas,'Courier New',monospace\"><span style=\"color: #7fbfbf; text-decoration-color: #7fbfbf\">                    </span><span style=\"color: #800000; text-decoration-color: #800000; font-weight: bold\">ERROR   </span> Failed to insert event: Film Screening &amp; Discussion. Status code: <span style=\"color: #008080; text-decoration-color: #008080; font-weight: bold\">201</span> <a href=\"file://C:\\Users\\Otaku\\AppData\\Local\\Temp\\ipykernel_23876\\3371054377.py\" target=\"_blank\"><span style=\"color: #7f7f7f; text-decoration-color: #7f7f7f\">3371054377.py</span></a><span style=\"color: #7f7f7f; text-decoration-color: #7f7f7f\">:</span><a href=\"file://C:\\Users\\Otaku\\AppData\\Local\\Temp\\ipykernel_23876\\3371054377.py#25\" target=\"_blank\"><span style=\"color: #7f7f7f; text-decoration-color: #7f7f7f\">25</span></a>\n",
       "</pre>\n"
      ],
      "text/plain": [
       "\u001b[2;36m                   \u001b[0m\u001b[2;36m \u001b[0m\u001b[1;31mERROR   \u001b[0m Failed to insert event: Film Screening & Discussion. Status code: \u001b[1;36m201\u001b[0m \u001b]8;id=523648;file://C:\\Users\\Otaku\\AppData\\Local\\Temp\\ipykernel_23876\\3371054377.py\u001b\\\u001b[2m3371054377.py\u001b[0m\u001b]8;;\u001b\\\u001b[2m:\u001b[0m\u001b]8;id=282930;file://C:\\Users\\Otaku\\AppData\\Local\\Temp\\ipykernel_23876\\3371054377.py#25\u001b\\\u001b[2m25\u001b[0m\u001b]8;;\u001b\\\n"
      ]
     },
     "metadata": {},
     "output_type": "display_data"
    },
    {
     "data": {
      "text/html": [
       "<pre style=\"white-space:pre;overflow-x:auto;line-height:normal;font-family:Menlo,'DejaVu Sans Mono',consolas,'Courier New',monospace\"><span style=\"color: #7fbfbf; text-decoration-color: #7fbfbf\">                    </span><span style=\"color: #008000; text-decoration-color: #008000\">DEBUG   </span> Starting new HTTP connection <span style=\"font-weight: bold\">(</span><span style=\"color: #008080; text-decoration-color: #008080; font-weight: bold\">1</span><span style=\"font-weight: bold\">)</span>: localhost:<span style=\"color: #008080; text-decoration-color: #008080; font-weight: bold\">5000</span>                 <a href=\"file://d:\\windowsConda\\Lib\\site-packages\\urllib3\\connectionpool.py\" target=\"_blank\"><span style=\"color: #7f7f7f; text-decoration-color: #7f7f7f\">connectionpool.py</span></a><span style=\"color: #7f7f7f; text-decoration-color: #7f7f7f\">:</span><a href=\"file://d:\\windowsConda\\Lib\\site-packages\\urllib3\\connectionpool.py#243\" target=\"_blank\"><span style=\"color: #7f7f7f; text-decoration-color: #7f7f7f\">243</span></a>\n",
       "</pre>\n"
      ],
      "text/plain": [
       "\u001b[2;36m                   \u001b[0m\u001b[2;36m \u001b[0m\u001b[32mDEBUG   \u001b[0m Starting new HTTP connection \u001b[1m(\u001b[0m\u001b[1;36m1\u001b[0m\u001b[1m)\u001b[0m: localhost:\u001b[1;36m5000\u001b[0m                 \u001b]8;id=329599;file://d:\\windowsConda\\Lib\\site-packages\\urllib3\\connectionpool.py\u001b\\\u001b[2mconnectionpool.py\u001b[0m\u001b]8;;\u001b\\\u001b[2m:\u001b[0m\u001b]8;id=408355;file://d:\\windowsConda\\Lib\\site-packages\\urllib3\\connectionpool.py#243\u001b\\\u001b[2m243\u001b[0m\u001b]8;;\u001b\\\n"
      ]
     },
     "metadata": {},
     "output_type": "display_data"
    },
    {
     "data": {
      "text/html": [
       "<pre style=\"white-space:pre;overflow-x:auto;line-height:normal;font-family:Menlo,'DejaVu Sans Mono',consolas,'Courier New',monospace\"><span style=\"color: #7fbfbf; text-decoration-color: #7fbfbf\">[05/14/25 01:39:42] </span><span style=\"color: #008000; text-decoration-color: #008000\">DEBUG   </span> <span style=\"color: #0000ff; text-decoration-color: #0000ff; text-decoration: underline\">http://localhost:5000</span> <span style=\"color: #008000; text-decoration-color: #008000\">\"</span><span style=\"color: #808000; text-decoration-color: #808000; font-weight: bold\">POST</span><span style=\"color: #008000; text-decoration-color: #008000\"> /api/event/insertEvent HTTP/11\"</span> <span style=\"color: #008080; text-decoration-color: #008080; font-weight: bold\">201</span>  <a href=\"file://d:\\windowsConda\\Lib\\site-packages\\urllib3\\connectionpool.py\" target=\"_blank\"><span style=\"color: #7f7f7f; text-decoration-color: #7f7f7f\">connectionpool.py</span></a><span style=\"color: #7f7f7f; text-decoration-color: #7f7f7f\">:</span><a href=\"file://d:\\windowsConda\\Lib\\site-packages\\urllib3\\connectionpool.py#546\" target=\"_blank\"><span style=\"color: #7f7f7f; text-decoration-color: #7f7f7f\">546</span></a>\n",
       "<span style=\"color: #7fbfbf; text-decoration-color: #7fbfbf\">                    </span>         <span style=\"color: #008080; text-decoration-color: #008080; font-weight: bold\">495</span>                                                              <span style=\"color: #7f7f7f; text-decoration-color: #7f7f7f\">                     </span>\n",
       "</pre>\n"
      ],
      "text/plain": [
       "\u001b[2;36m[05/14/25 01:39:42]\u001b[0m\u001b[2;36m \u001b[0m\u001b[32mDEBUG   \u001b[0m \u001b[4;94mhttp://localhost:5000\u001b[0m \u001b[32m\"\u001b[0m\u001b[1;33mPOST\u001b[0m\u001b[32m /api/event/insertEvent HTTP/11\"\u001b[0m \u001b[1;36m201\u001b[0m  \u001b]8;id=807093;file://d:\\windowsConda\\Lib\\site-packages\\urllib3\\connectionpool.py\u001b\\\u001b[2mconnectionpool.py\u001b[0m\u001b]8;;\u001b\\\u001b[2m:\u001b[0m\u001b]8;id=204032;file://d:\\windowsConda\\Lib\\site-packages\\urllib3\\connectionpool.py#546\u001b\\\u001b[2m546\u001b[0m\u001b]8;;\u001b\\\n",
       "\u001b[2;36m                    \u001b[0m         \u001b[1;36m495\u001b[0m                                                              \u001b[2m                     \u001b[0m\n"
      ]
     },
     "metadata": {},
     "output_type": "display_data"
    },
    {
     "data": {
      "text/html": [
       "<pre style=\"white-space:pre;overflow-x:auto;line-height:normal;font-family:Menlo,'DejaVu Sans Mono',consolas,'Courier New',monospace\"><span style=\"color: #7fbfbf; text-decoration-color: #7fbfbf\">                    </span><span style=\"color: #800000; text-decoration-color: #800000; font-weight: bold\">ERROR   </span> Failed to insert event: AI in Healthcare Forum. Status code: <span style=\"color: #008080; text-decoration-color: #008080; font-weight: bold\">201</span>      <a href=\"file://C:\\Users\\Otaku\\AppData\\Local\\Temp\\ipykernel_23876\\3371054377.py\" target=\"_blank\"><span style=\"color: #7f7f7f; text-decoration-color: #7f7f7f\">3371054377.py</span></a><span style=\"color: #7f7f7f; text-decoration-color: #7f7f7f\">:</span><a href=\"file://C:\\Users\\Otaku\\AppData\\Local\\Temp\\ipykernel_23876\\3371054377.py#25\" target=\"_blank\"><span style=\"color: #7f7f7f; text-decoration-color: #7f7f7f\">25</span></a>\n",
       "</pre>\n"
      ],
      "text/plain": [
       "\u001b[2;36m                   \u001b[0m\u001b[2;36m \u001b[0m\u001b[1;31mERROR   \u001b[0m Failed to insert event: AI in Healthcare Forum. Status code: \u001b[1;36m201\u001b[0m      \u001b]8;id=684125;file://C:\\Users\\Otaku\\AppData\\Local\\Temp\\ipykernel_23876\\3371054377.py\u001b\\\u001b[2m3371054377.py\u001b[0m\u001b]8;;\u001b\\\u001b[2m:\u001b[0m\u001b]8;id=711655;file://C:\\Users\\Otaku\\AppData\\Local\\Temp\\ipykernel_23876\\3371054377.py#25\u001b\\\u001b[2m25\u001b[0m\u001b]8;;\u001b\\\n"
      ]
     },
     "metadata": {},
     "output_type": "display_data"
    },
    {
     "data": {
      "text/html": [
       "<pre style=\"white-space:pre;overflow-x:auto;line-height:normal;font-family:Menlo,'DejaVu Sans Mono',consolas,'Courier New',monospace\"><span style=\"color: #7fbfbf; text-decoration-color: #7fbfbf\">                    </span><span style=\"color: #008000; text-decoration-color: #008000\">DEBUG   </span> Starting new HTTP connection <span style=\"font-weight: bold\">(</span><span style=\"color: #008080; text-decoration-color: #008080; font-weight: bold\">1</span><span style=\"font-weight: bold\">)</span>: localhost:<span style=\"color: #008080; text-decoration-color: #008080; font-weight: bold\">5000</span>                 <a href=\"file://d:\\windowsConda\\Lib\\site-packages\\urllib3\\connectionpool.py\" target=\"_blank\"><span style=\"color: #7f7f7f; text-decoration-color: #7f7f7f\">connectionpool.py</span></a><span style=\"color: #7f7f7f; text-decoration-color: #7f7f7f\">:</span><a href=\"file://d:\\windowsConda\\Lib\\site-packages\\urllib3\\connectionpool.py#243\" target=\"_blank\"><span style=\"color: #7f7f7f; text-decoration-color: #7f7f7f\">243</span></a>\n",
       "</pre>\n"
      ],
      "text/plain": [
       "\u001b[2;36m                   \u001b[0m\u001b[2;36m \u001b[0m\u001b[32mDEBUG   \u001b[0m Starting new HTTP connection \u001b[1m(\u001b[0m\u001b[1;36m1\u001b[0m\u001b[1m)\u001b[0m: localhost:\u001b[1;36m5000\u001b[0m                 \u001b]8;id=312560;file://d:\\windowsConda\\Lib\\site-packages\\urllib3\\connectionpool.py\u001b\\\u001b[2mconnectionpool.py\u001b[0m\u001b]8;;\u001b\\\u001b[2m:\u001b[0m\u001b]8;id=394247;file://d:\\windowsConda\\Lib\\site-packages\\urllib3\\connectionpool.py#243\u001b\\\u001b[2m243\u001b[0m\u001b]8;;\u001b\\\n"
      ]
     },
     "metadata": {},
     "output_type": "display_data"
    },
    {
     "data": {
      "text/html": [
       "<pre style=\"white-space:pre;overflow-x:auto;line-height:normal;font-family:Menlo,'DejaVu Sans Mono',consolas,'Courier New',monospace\"><span style=\"color: #7fbfbf; text-decoration-color: #7fbfbf\">[05/14/25 01:39:45] </span><span style=\"color: #008000; text-decoration-color: #008000\">DEBUG   </span> <span style=\"color: #0000ff; text-decoration-color: #0000ff; text-decoration: underline\">http://localhost:5000</span> <span style=\"color: #008000; text-decoration-color: #008000\">\"</span><span style=\"color: #808000; text-decoration-color: #808000; font-weight: bold\">POST</span><span style=\"color: #008000; text-decoration-color: #008000\"> /api/event/insertEvent HTTP/11\"</span> <span style=\"color: #008080; text-decoration-color: #008080; font-weight: bold\">201</span>  <a href=\"file://d:\\windowsConda\\Lib\\site-packages\\urllib3\\connectionpool.py\" target=\"_blank\"><span style=\"color: #7f7f7f; text-decoration-color: #7f7f7f\">connectionpool.py</span></a><span style=\"color: #7f7f7f; text-decoration-color: #7f7f7f\">:</span><a href=\"file://d:\\windowsConda\\Lib\\site-packages\\urllib3\\connectionpool.py#546\" target=\"_blank\"><span style=\"color: #7f7f7f; text-decoration-color: #7f7f7f\">546</span></a>\n",
       "<span style=\"color: #7fbfbf; text-decoration-color: #7fbfbf\">                    </span>         <span style=\"color: #008080; text-decoration-color: #008080; font-weight: bold\">471</span>                                                              <span style=\"color: #7f7f7f; text-decoration-color: #7f7f7f\">                     </span>\n",
       "</pre>\n"
      ],
      "text/plain": [
       "\u001b[2;36m[05/14/25 01:39:45]\u001b[0m\u001b[2;36m \u001b[0m\u001b[32mDEBUG   \u001b[0m \u001b[4;94mhttp://localhost:5000\u001b[0m \u001b[32m\"\u001b[0m\u001b[1;33mPOST\u001b[0m\u001b[32m /api/event/insertEvent HTTP/11\"\u001b[0m \u001b[1;36m201\u001b[0m  \u001b]8;id=123462;file://d:\\windowsConda\\Lib\\site-packages\\urllib3\\connectionpool.py\u001b\\\u001b[2mconnectionpool.py\u001b[0m\u001b]8;;\u001b\\\u001b[2m:\u001b[0m\u001b]8;id=706506;file://d:\\windowsConda\\Lib\\site-packages\\urllib3\\connectionpool.py#546\u001b\\\u001b[2m546\u001b[0m\u001b]8;;\u001b\\\n",
       "\u001b[2;36m                    \u001b[0m         \u001b[1;36m471\u001b[0m                                                              \u001b[2m                     \u001b[0m\n"
      ]
     },
     "metadata": {},
     "output_type": "display_data"
    },
    {
     "data": {
      "text/html": [
       "<pre style=\"white-space:pre;overflow-x:auto;line-height:normal;font-family:Menlo,'DejaVu Sans Mono',consolas,'Courier New',monospace\"><span style=\"color: #7fbfbf; text-decoration-color: #7fbfbf\">                    </span><span style=\"color: #800000; text-decoration-color: #800000; font-weight: bold\">ERROR   </span> Failed to insert event: Mountain Cleanup Drive. Status code: <span style=\"color: #008080; text-decoration-color: #008080; font-weight: bold\">201</span>      <a href=\"file://C:\\Users\\Otaku\\AppData\\Local\\Temp\\ipykernel_23876\\3371054377.py\" target=\"_blank\"><span style=\"color: #7f7f7f; text-decoration-color: #7f7f7f\">3371054377.py</span></a><span style=\"color: #7f7f7f; text-decoration-color: #7f7f7f\">:</span><a href=\"file://C:\\Users\\Otaku\\AppData\\Local\\Temp\\ipykernel_23876\\3371054377.py#25\" target=\"_blank\"><span style=\"color: #7f7f7f; text-decoration-color: #7f7f7f\">25</span></a>\n",
       "</pre>\n"
      ],
      "text/plain": [
       "\u001b[2;36m                   \u001b[0m\u001b[2;36m \u001b[0m\u001b[1;31mERROR   \u001b[0m Failed to insert event: Mountain Cleanup Drive. Status code: \u001b[1;36m201\u001b[0m      \u001b]8;id=22739;file://C:\\Users\\Otaku\\AppData\\Local\\Temp\\ipykernel_23876\\3371054377.py\u001b\\\u001b[2m3371054377.py\u001b[0m\u001b]8;;\u001b\\\u001b[2m:\u001b[0m\u001b]8;id=842524;file://C:\\Users\\Otaku\\AppData\\Local\\Temp\\ipykernel_23876\\3371054377.py#25\u001b\\\u001b[2m25\u001b[0m\u001b]8;;\u001b\\\n"
      ]
     },
     "metadata": {},
     "output_type": "display_data"
    },
    {
     "data": {
      "text/html": [
       "<pre style=\"white-space:pre;overflow-x:auto;line-height:normal;font-family:Menlo,'DejaVu Sans Mono',consolas,'Courier New',monospace\"><span style=\"color: #7fbfbf; text-decoration-color: #7fbfbf\">                    </span><span style=\"color: #008000; text-decoration-color: #008000\">DEBUG   </span> Starting new HTTP connection <span style=\"font-weight: bold\">(</span><span style=\"color: #008080; text-decoration-color: #008080; font-weight: bold\">1</span><span style=\"font-weight: bold\">)</span>: localhost:<span style=\"color: #008080; text-decoration-color: #008080; font-weight: bold\">5000</span>                 <a href=\"file://d:\\windowsConda\\Lib\\site-packages\\urllib3\\connectionpool.py\" target=\"_blank\"><span style=\"color: #7f7f7f; text-decoration-color: #7f7f7f\">connectionpool.py</span></a><span style=\"color: #7f7f7f; text-decoration-color: #7f7f7f\">:</span><a href=\"file://d:\\windowsConda\\Lib\\site-packages\\urllib3\\connectionpool.py#243\" target=\"_blank\"><span style=\"color: #7f7f7f; text-decoration-color: #7f7f7f\">243</span></a>\n",
       "</pre>\n"
      ],
      "text/plain": [
       "\u001b[2;36m                   \u001b[0m\u001b[2;36m \u001b[0m\u001b[32mDEBUG   \u001b[0m Starting new HTTP connection \u001b[1m(\u001b[0m\u001b[1;36m1\u001b[0m\u001b[1m)\u001b[0m: localhost:\u001b[1;36m5000\u001b[0m                 \u001b]8;id=95744;file://d:\\windowsConda\\Lib\\site-packages\\urllib3\\connectionpool.py\u001b\\\u001b[2mconnectionpool.py\u001b[0m\u001b]8;;\u001b\\\u001b[2m:\u001b[0m\u001b]8;id=382499;file://d:\\windowsConda\\Lib\\site-packages\\urllib3\\connectionpool.py#243\u001b\\\u001b[2m243\u001b[0m\u001b]8;;\u001b\\\n"
      ]
     },
     "metadata": {},
     "output_type": "display_data"
    },
    {
     "data": {
      "text/html": [
       "<pre style=\"white-space:pre;overflow-x:auto;line-height:normal;font-family:Menlo,'DejaVu Sans Mono',consolas,'Courier New',monospace\"><span style=\"color: #7fbfbf; text-decoration-color: #7fbfbf\">[05/14/25 01:39:49] </span><span style=\"color: #008000; text-decoration-color: #008000\">DEBUG   </span> <span style=\"color: #0000ff; text-decoration-color: #0000ff; text-decoration: underline\">http://localhost:5000</span> <span style=\"color: #008000; text-decoration-color: #008000\">\"</span><span style=\"color: #808000; text-decoration-color: #808000; font-weight: bold\">POST</span><span style=\"color: #008000; text-decoration-color: #008000\"> /api/event/insertEvent HTTP/11\"</span> <span style=\"color: #008080; text-decoration-color: #008080; font-weight: bold\">201</span>  <a href=\"file://d:\\windowsConda\\Lib\\site-packages\\urllib3\\connectionpool.py\" target=\"_blank\"><span style=\"color: #7f7f7f; text-decoration-color: #7f7f7f\">connectionpool.py</span></a><span style=\"color: #7f7f7f; text-decoration-color: #7f7f7f\">:</span><a href=\"file://d:\\windowsConda\\Lib\\site-packages\\urllib3\\connectionpool.py#546\" target=\"_blank\"><span style=\"color: #7f7f7f; text-decoration-color: #7f7f7f\">546</span></a>\n",
       "<span style=\"color: #7fbfbf; text-decoration-color: #7fbfbf\">                    </span>         <span style=\"color: #008080; text-decoration-color: #008080; font-weight: bold\">491</span>                                                              <span style=\"color: #7f7f7f; text-decoration-color: #7f7f7f\">                     </span>\n",
       "</pre>\n"
      ],
      "text/plain": [
       "\u001b[2;36m[05/14/25 01:39:49]\u001b[0m\u001b[2;36m \u001b[0m\u001b[32mDEBUG   \u001b[0m \u001b[4;94mhttp://localhost:5000\u001b[0m \u001b[32m\"\u001b[0m\u001b[1;33mPOST\u001b[0m\u001b[32m /api/event/insertEvent HTTP/11\"\u001b[0m \u001b[1;36m201\u001b[0m  \u001b]8;id=976577;file://d:\\windowsConda\\Lib\\site-packages\\urllib3\\connectionpool.py\u001b\\\u001b[2mconnectionpool.py\u001b[0m\u001b]8;;\u001b\\\u001b[2m:\u001b[0m\u001b]8;id=629533;file://d:\\windowsConda\\Lib\\site-packages\\urllib3\\connectionpool.py#546\u001b\\\u001b[2m546\u001b[0m\u001b]8;;\u001b\\\n",
       "\u001b[2;36m                    \u001b[0m         \u001b[1;36m491\u001b[0m                                                              \u001b[2m                     \u001b[0m\n"
      ]
     },
     "metadata": {},
     "output_type": "display_data"
    },
    {
     "data": {
      "text/html": [
       "<pre style=\"white-space:pre;overflow-x:auto;line-height:normal;font-family:Menlo,'DejaVu Sans Mono',consolas,'Courier New',monospace\"><span style=\"color: #7fbfbf; text-decoration-color: #7fbfbf\">                    </span><span style=\"color: #800000; text-decoration-color: #800000; font-weight: bold\">ERROR   </span> Failed to insert event: Entrepreneurship <span style=\"color: #008080; text-decoration-color: #008080; font-weight: bold\">101</span>. Status code: <span style=\"color: #008080; text-decoration-color: #008080; font-weight: bold\">201</span>        <a href=\"file://C:\\Users\\Otaku\\AppData\\Local\\Temp\\ipykernel_23876\\3371054377.py\" target=\"_blank\"><span style=\"color: #7f7f7f; text-decoration-color: #7f7f7f\">3371054377.py</span></a><span style=\"color: #7f7f7f; text-decoration-color: #7f7f7f\">:</span><a href=\"file://C:\\Users\\Otaku\\AppData\\Local\\Temp\\ipykernel_23876\\3371054377.py#25\" target=\"_blank\"><span style=\"color: #7f7f7f; text-decoration-color: #7f7f7f\">25</span></a>\n",
       "</pre>\n"
      ],
      "text/plain": [
       "\u001b[2;36m                   \u001b[0m\u001b[2;36m \u001b[0m\u001b[1;31mERROR   \u001b[0m Failed to insert event: Entrepreneurship \u001b[1;36m101\u001b[0m. Status code: \u001b[1;36m201\u001b[0m        \u001b]8;id=955375;file://C:\\Users\\Otaku\\AppData\\Local\\Temp\\ipykernel_23876\\3371054377.py\u001b\\\u001b[2m3371054377.py\u001b[0m\u001b]8;;\u001b\\\u001b[2m:\u001b[0m\u001b]8;id=895620;file://C:\\Users\\Otaku\\AppData\\Local\\Temp\\ipykernel_23876\\3371054377.py#25\u001b\\\u001b[2m25\u001b[0m\u001b]8;;\u001b\\\n"
      ]
     },
     "metadata": {},
     "output_type": "display_data"
    },
    {
     "data": {
      "text/html": [
       "<pre style=\"white-space:pre;overflow-x:auto;line-height:normal;font-family:Menlo,'DejaVu Sans Mono',consolas,'Courier New',monospace\"><span style=\"color: #7fbfbf; text-decoration-color: #7fbfbf\">                    </span><span style=\"color: #008000; text-decoration-color: #008000\">DEBUG   </span> Starting new HTTP connection <span style=\"font-weight: bold\">(</span><span style=\"color: #008080; text-decoration-color: #008080; font-weight: bold\">1</span><span style=\"font-weight: bold\">)</span>: localhost:<span style=\"color: #008080; text-decoration-color: #008080; font-weight: bold\">5000</span>                 <a href=\"file://d:\\windowsConda\\Lib\\site-packages\\urllib3\\connectionpool.py\" target=\"_blank\"><span style=\"color: #7f7f7f; text-decoration-color: #7f7f7f\">connectionpool.py</span></a><span style=\"color: #7f7f7f; text-decoration-color: #7f7f7f\">:</span><a href=\"file://d:\\windowsConda\\Lib\\site-packages\\urllib3\\connectionpool.py#243\" target=\"_blank\"><span style=\"color: #7f7f7f; text-decoration-color: #7f7f7f\">243</span></a>\n",
       "</pre>\n"
      ],
      "text/plain": [
       "\u001b[2;36m                   \u001b[0m\u001b[2;36m \u001b[0m\u001b[32mDEBUG   \u001b[0m Starting new HTTP connection \u001b[1m(\u001b[0m\u001b[1;36m1\u001b[0m\u001b[1m)\u001b[0m: localhost:\u001b[1;36m5000\u001b[0m                 \u001b]8;id=698396;file://d:\\windowsConda\\Lib\\site-packages\\urllib3\\connectionpool.py\u001b\\\u001b[2mconnectionpool.py\u001b[0m\u001b]8;;\u001b\\\u001b[2m:\u001b[0m\u001b]8;id=21324;file://d:\\windowsConda\\Lib\\site-packages\\urllib3\\connectionpool.py#243\u001b\\\u001b[2m243\u001b[0m\u001b]8;;\u001b\\\n"
      ]
     },
     "metadata": {},
     "output_type": "display_data"
    },
    {
     "data": {
      "text/html": [
       "<pre style=\"white-space:pre;overflow-x:auto;line-height:normal;font-family:Menlo,'DejaVu Sans Mono',consolas,'Courier New',monospace\"><span style=\"color: #7fbfbf; text-decoration-color: #7fbfbf\">[05/14/25 01:39:53] </span><span style=\"color: #008000; text-decoration-color: #008000\">DEBUG   </span> <span style=\"color: #0000ff; text-decoration-color: #0000ff; text-decoration: underline\">http://localhost:5000</span> <span style=\"color: #008000; text-decoration-color: #008000\">\"</span><span style=\"color: #808000; text-decoration-color: #808000; font-weight: bold\">POST</span><span style=\"color: #008000; text-decoration-color: #008000\"> /api/event/insertEvent HTTP/11\"</span> <span style=\"color: #008080; text-decoration-color: #008080; font-weight: bold\">201</span>  <a href=\"file://d:\\windowsConda\\Lib\\site-packages\\urllib3\\connectionpool.py\" target=\"_blank\"><span style=\"color: #7f7f7f; text-decoration-color: #7f7f7f\">connectionpool.py</span></a><span style=\"color: #7f7f7f; text-decoration-color: #7f7f7f\">:</span><a href=\"file://d:\\windowsConda\\Lib\\site-packages\\urllib3\\connectionpool.py#546\" target=\"_blank\"><span style=\"color: #7f7f7f; text-decoration-color: #7f7f7f\">546</span></a>\n",
       "<span style=\"color: #7fbfbf; text-decoration-color: #7fbfbf\">                    </span>         <span style=\"color: #008080; text-decoration-color: #008080; font-weight: bold\">479</span>                                                              <span style=\"color: #7f7f7f; text-decoration-color: #7f7f7f\">                     </span>\n",
       "</pre>\n"
      ],
      "text/plain": [
       "\u001b[2;36m[05/14/25 01:39:53]\u001b[0m\u001b[2;36m \u001b[0m\u001b[32mDEBUG   \u001b[0m \u001b[4;94mhttp://localhost:5000\u001b[0m \u001b[32m\"\u001b[0m\u001b[1;33mPOST\u001b[0m\u001b[32m /api/event/insertEvent HTTP/11\"\u001b[0m \u001b[1;36m201\u001b[0m  \u001b]8;id=504291;file://d:\\windowsConda\\Lib\\site-packages\\urllib3\\connectionpool.py\u001b\\\u001b[2mconnectionpool.py\u001b[0m\u001b]8;;\u001b\\\u001b[2m:\u001b[0m\u001b]8;id=529050;file://d:\\windowsConda\\Lib\\site-packages\\urllib3\\connectionpool.py#546\u001b\\\u001b[2m546\u001b[0m\u001b]8;;\u001b\\\n",
       "\u001b[2;36m                    \u001b[0m         \u001b[1;36m479\u001b[0m                                                              \u001b[2m                     \u001b[0m\n"
      ]
     },
     "metadata": {},
     "output_type": "display_data"
    },
    {
     "data": {
      "text/html": [
       "<pre style=\"white-space:pre;overflow-x:auto;line-height:normal;font-family:Menlo,'DejaVu Sans Mono',consolas,'Courier New',monospace\"><span style=\"color: #7fbfbf; text-decoration-color: #7fbfbf\">                    </span><span style=\"color: #800000; text-decoration-color: #800000; font-weight: bold\">ERROR   </span> Failed to insert event: Virtual Reality Demo Day. Status code: <span style=\"color: #008080; text-decoration-color: #008080; font-weight: bold\">201</span>    <a href=\"file://C:\\Users\\Otaku\\AppData\\Local\\Temp\\ipykernel_23876\\3371054377.py\" target=\"_blank\"><span style=\"color: #7f7f7f; text-decoration-color: #7f7f7f\">3371054377.py</span></a><span style=\"color: #7f7f7f; text-decoration-color: #7f7f7f\">:</span><a href=\"file://C:\\Users\\Otaku\\AppData\\Local\\Temp\\ipykernel_23876\\3371054377.py#25\" target=\"_blank\"><span style=\"color: #7f7f7f; text-decoration-color: #7f7f7f\">25</span></a>\n",
       "</pre>\n"
      ],
      "text/plain": [
       "\u001b[2;36m                   \u001b[0m\u001b[2;36m \u001b[0m\u001b[1;31mERROR   \u001b[0m Failed to insert event: Virtual Reality Demo Day. Status code: \u001b[1;36m201\u001b[0m    \u001b]8;id=859488;file://C:\\Users\\Otaku\\AppData\\Local\\Temp\\ipykernel_23876\\3371054377.py\u001b\\\u001b[2m3371054377.py\u001b[0m\u001b]8;;\u001b\\\u001b[2m:\u001b[0m\u001b]8;id=908791;file://C:\\Users\\Otaku\\AppData\\Local\\Temp\\ipykernel_23876\\3371054377.py#25\u001b\\\u001b[2m25\u001b[0m\u001b]8;;\u001b\\\n"
      ]
     },
     "metadata": {},
     "output_type": "display_data"
    },
    {
     "data": {
      "text/html": [
       "<pre style=\"white-space:pre;overflow-x:auto;line-height:normal;font-family:Menlo,'DejaVu Sans Mono',consolas,'Courier New',monospace\"><span style=\"color: #7fbfbf; text-decoration-color: #7fbfbf\">                    </span><span style=\"color: #008000; text-decoration-color: #008000\">DEBUG   </span> Starting new HTTP connection <span style=\"font-weight: bold\">(</span><span style=\"color: #008080; text-decoration-color: #008080; font-weight: bold\">1</span><span style=\"font-weight: bold\">)</span>: localhost:<span style=\"color: #008080; text-decoration-color: #008080; font-weight: bold\">5000</span>                 <a href=\"file://d:\\windowsConda\\Lib\\site-packages\\urllib3\\connectionpool.py\" target=\"_blank\"><span style=\"color: #7f7f7f; text-decoration-color: #7f7f7f\">connectionpool.py</span></a><span style=\"color: #7f7f7f; text-decoration-color: #7f7f7f\">:</span><a href=\"file://d:\\windowsConda\\Lib\\site-packages\\urllib3\\connectionpool.py#243\" target=\"_blank\"><span style=\"color: #7f7f7f; text-decoration-color: #7f7f7f\">243</span></a>\n",
       "</pre>\n"
      ],
      "text/plain": [
       "\u001b[2;36m                   \u001b[0m\u001b[2;36m \u001b[0m\u001b[32mDEBUG   \u001b[0m Starting new HTTP connection \u001b[1m(\u001b[0m\u001b[1;36m1\u001b[0m\u001b[1m)\u001b[0m: localhost:\u001b[1;36m5000\u001b[0m                 \u001b]8;id=814983;file://d:\\windowsConda\\Lib\\site-packages\\urllib3\\connectionpool.py\u001b\\\u001b[2mconnectionpool.py\u001b[0m\u001b]8;;\u001b\\\u001b[2m:\u001b[0m\u001b]8;id=901046;file://d:\\windowsConda\\Lib\\site-packages\\urllib3\\connectionpool.py#243\u001b\\\u001b[2m243\u001b[0m\u001b]8;;\u001b\\\n"
      ]
     },
     "metadata": {},
     "output_type": "display_data"
    },
    {
     "data": {
      "text/html": [
       "<pre style=\"white-space:pre;overflow-x:auto;line-height:normal;font-family:Menlo,'DejaVu Sans Mono',consolas,'Courier New',monospace\"><span style=\"color: #7fbfbf; text-decoration-color: #7fbfbf\">[05/14/25 01:39:57] </span><span style=\"color: #008000; text-decoration-color: #008000\">DEBUG   </span> <span style=\"color: #0000ff; text-decoration-color: #0000ff; text-decoration: underline\">http://localhost:5000</span> <span style=\"color: #008000; text-decoration-color: #008000\">\"</span><span style=\"color: #808000; text-decoration-color: #808000; font-weight: bold\">POST</span><span style=\"color: #008000; text-decoration-color: #008000\"> /api/event/insertEvent HTTP/11\"</span> <span style=\"color: #008080; text-decoration-color: #008080; font-weight: bold\">201</span>  <a href=\"file://d:\\windowsConda\\Lib\\site-packages\\urllib3\\connectionpool.py\" target=\"_blank\"><span style=\"color: #7f7f7f; text-decoration-color: #7f7f7f\">connectionpool.py</span></a><span style=\"color: #7f7f7f; text-decoration-color: #7f7f7f\">:</span><a href=\"file://d:\\windowsConda\\Lib\\site-packages\\urllib3\\connectionpool.py#546\" target=\"_blank\"><span style=\"color: #7f7f7f; text-decoration-color: #7f7f7f\">546</span></a>\n",
       "<span style=\"color: #7fbfbf; text-decoration-color: #7fbfbf\">                    </span>         <span style=\"color: #008080; text-decoration-color: #008080; font-weight: bold\">462</span>                                                              <span style=\"color: #7f7f7f; text-decoration-color: #7f7f7f\">                     </span>\n",
       "</pre>\n"
      ],
      "text/plain": [
       "\u001b[2;36m[05/14/25 01:39:57]\u001b[0m\u001b[2;36m \u001b[0m\u001b[32mDEBUG   \u001b[0m \u001b[4;94mhttp://localhost:5000\u001b[0m \u001b[32m\"\u001b[0m\u001b[1;33mPOST\u001b[0m\u001b[32m /api/event/insertEvent HTTP/11\"\u001b[0m \u001b[1;36m201\u001b[0m  \u001b]8;id=950444;file://d:\\windowsConda\\Lib\\site-packages\\urllib3\\connectionpool.py\u001b\\\u001b[2mconnectionpool.py\u001b[0m\u001b]8;;\u001b\\\u001b[2m:\u001b[0m\u001b]8;id=308228;file://d:\\windowsConda\\Lib\\site-packages\\urllib3\\connectionpool.py#546\u001b\\\u001b[2m546\u001b[0m\u001b]8;;\u001b\\\n",
       "\u001b[2;36m                    \u001b[0m         \u001b[1;36m462\u001b[0m                                                              \u001b[2m                     \u001b[0m\n"
      ]
     },
     "metadata": {},
     "output_type": "display_data"
    },
    {
     "data": {
      "text/html": [
       "<pre style=\"white-space:pre;overflow-x:auto;line-height:normal;font-family:Menlo,'DejaVu Sans Mono',consolas,'Courier New',monospace\"><span style=\"color: #7fbfbf; text-decoration-color: #7fbfbf\">                    </span><span style=\"color: #800000; text-decoration-color: #800000; font-weight: bold\">ERROR   </span> Failed to insert event: Food &amp; AgriTech Expo. Status code: <span style=\"color: #008080; text-decoration-color: #008080; font-weight: bold\">201</span>        <a href=\"file://C:\\Users\\Otaku\\AppData\\Local\\Temp\\ipykernel_23876\\3371054377.py\" target=\"_blank\"><span style=\"color: #7f7f7f; text-decoration-color: #7f7f7f\">3371054377.py</span></a><span style=\"color: #7f7f7f; text-decoration-color: #7f7f7f\">:</span><a href=\"file://C:\\Users\\Otaku\\AppData\\Local\\Temp\\ipykernel_23876\\3371054377.py#25\" target=\"_blank\"><span style=\"color: #7f7f7f; text-decoration-color: #7f7f7f\">25</span></a>\n",
       "</pre>\n"
      ],
      "text/plain": [
       "\u001b[2;36m                   \u001b[0m\u001b[2;36m \u001b[0m\u001b[1;31mERROR   \u001b[0m Failed to insert event: Food & AgriTech Expo. Status code: \u001b[1;36m201\u001b[0m        \u001b]8;id=279016;file://C:\\Users\\Otaku\\AppData\\Local\\Temp\\ipykernel_23876\\3371054377.py\u001b\\\u001b[2m3371054377.py\u001b[0m\u001b]8;;\u001b\\\u001b[2m:\u001b[0m\u001b]8;id=195407;file://C:\\Users\\Otaku\\AppData\\Local\\Temp\\ipykernel_23876\\3371054377.py#25\u001b\\\u001b[2m25\u001b[0m\u001b]8;;\u001b\\\n"
      ]
     },
     "metadata": {},
     "output_type": "display_data"
    },
    {
     "data": {
      "text/html": [
       "<pre style=\"white-space:pre;overflow-x:auto;line-height:normal;font-family:Menlo,'DejaVu Sans Mono',consolas,'Courier New',monospace\"><span style=\"color: #7fbfbf; text-decoration-color: #7fbfbf\">                    </span><span style=\"color: #008000; text-decoration-color: #008000\">DEBUG   </span> Starting new HTTP connection <span style=\"font-weight: bold\">(</span><span style=\"color: #008080; text-decoration-color: #008080; font-weight: bold\">1</span><span style=\"font-weight: bold\">)</span>: localhost:<span style=\"color: #008080; text-decoration-color: #008080; font-weight: bold\">5000</span>                 <a href=\"file://d:\\windowsConda\\Lib\\site-packages\\urllib3\\connectionpool.py\" target=\"_blank\"><span style=\"color: #7f7f7f; text-decoration-color: #7f7f7f\">connectionpool.py</span></a><span style=\"color: #7f7f7f; text-decoration-color: #7f7f7f\">:</span><a href=\"file://d:\\windowsConda\\Lib\\site-packages\\urllib3\\connectionpool.py#243\" target=\"_blank\"><span style=\"color: #7f7f7f; text-decoration-color: #7f7f7f\">243</span></a>\n",
       "</pre>\n"
      ],
      "text/plain": [
       "\u001b[2;36m                   \u001b[0m\u001b[2;36m \u001b[0m\u001b[32mDEBUG   \u001b[0m Starting new HTTP connection \u001b[1m(\u001b[0m\u001b[1;36m1\u001b[0m\u001b[1m)\u001b[0m: localhost:\u001b[1;36m5000\u001b[0m                 \u001b]8;id=351795;file://d:\\windowsConda\\Lib\\site-packages\\urllib3\\connectionpool.py\u001b\\\u001b[2mconnectionpool.py\u001b[0m\u001b]8;;\u001b\\\u001b[2m:\u001b[0m\u001b]8;id=128508;file://d:\\windowsConda\\Lib\\site-packages\\urllib3\\connectionpool.py#243\u001b\\\u001b[2m243\u001b[0m\u001b]8;;\u001b\\\n"
      ]
     },
     "metadata": {},
     "output_type": "display_data"
    },
    {
     "data": {
      "text/html": [
       "<pre style=\"white-space:pre;overflow-x:auto;line-height:normal;font-family:Menlo,'DejaVu Sans Mono',consolas,'Courier New',monospace\"><span style=\"color: #7fbfbf; text-decoration-color: #7fbfbf\">[05/14/25 01:40:00] </span><span style=\"color: #008000; text-decoration-color: #008000\">DEBUG   </span> <span style=\"color: #0000ff; text-decoration-color: #0000ff; text-decoration: underline\">http://localhost:5000</span> <span style=\"color: #008000; text-decoration-color: #008000\">\"</span><span style=\"color: #808000; text-decoration-color: #808000; font-weight: bold\">POST</span><span style=\"color: #008000; text-decoration-color: #008000\"> /api/event/insertEvent HTTP/11\"</span> <span style=\"color: #008080; text-decoration-color: #008080; font-weight: bold\">201</span>  <a href=\"file://d:\\windowsConda\\Lib\\site-packages\\urllib3\\connectionpool.py\" target=\"_blank\"><span style=\"color: #7f7f7f; text-decoration-color: #7f7f7f\">connectionpool.py</span></a><span style=\"color: #7f7f7f; text-decoration-color: #7f7f7f\">:</span><a href=\"file://d:\\windowsConda\\Lib\\site-packages\\urllib3\\connectionpool.py#546\" target=\"_blank\"><span style=\"color: #7f7f7f; text-decoration-color: #7f7f7f\">546</span></a>\n",
       "<span style=\"color: #7fbfbf; text-decoration-color: #7fbfbf\">                    </span>         <span style=\"color: #008080; text-decoration-color: #008080; font-weight: bold\">467</span>                                                              <span style=\"color: #7f7f7f; text-decoration-color: #7f7f7f\">                     </span>\n",
       "</pre>\n"
      ],
      "text/plain": [
       "\u001b[2;36m[05/14/25 01:40:00]\u001b[0m\u001b[2;36m \u001b[0m\u001b[32mDEBUG   \u001b[0m \u001b[4;94mhttp://localhost:5000\u001b[0m \u001b[32m\"\u001b[0m\u001b[1;33mPOST\u001b[0m\u001b[32m /api/event/insertEvent HTTP/11\"\u001b[0m \u001b[1;36m201\u001b[0m  \u001b]8;id=235975;file://d:\\windowsConda\\Lib\\site-packages\\urllib3\\connectionpool.py\u001b\\\u001b[2mconnectionpool.py\u001b[0m\u001b]8;;\u001b\\\u001b[2m:\u001b[0m\u001b]8;id=390681;file://d:\\windowsConda\\Lib\\site-packages\\urllib3\\connectionpool.py#546\u001b\\\u001b[2m546\u001b[0m\u001b]8;;\u001b\\\n",
       "\u001b[2;36m                    \u001b[0m         \u001b[1;36m467\u001b[0m                                                              \u001b[2m                     \u001b[0m\n"
      ]
     },
     "metadata": {},
     "output_type": "display_data"
    },
    {
     "data": {
      "text/html": [
       "<pre style=\"white-space:pre;overflow-x:auto;line-height:normal;font-family:Menlo,'DejaVu Sans Mono',consolas,'Courier New',monospace\"><span style=\"color: #7fbfbf; text-decoration-color: #7fbfbf\">                    </span><span style=\"color: #800000; text-decoration-color: #800000; font-weight: bold\">ERROR   </span> Failed to insert event: Cybersecurity Bootcamp. Status code: <span style=\"color: #008080; text-decoration-color: #008080; font-weight: bold\">201</span>      <a href=\"file://C:\\Users\\Otaku\\AppData\\Local\\Temp\\ipykernel_23876\\3371054377.py\" target=\"_blank\"><span style=\"color: #7f7f7f; text-decoration-color: #7f7f7f\">3371054377.py</span></a><span style=\"color: #7f7f7f; text-decoration-color: #7f7f7f\">:</span><a href=\"file://C:\\Users\\Otaku\\AppData\\Local\\Temp\\ipykernel_23876\\3371054377.py#25\" target=\"_blank\"><span style=\"color: #7f7f7f; text-decoration-color: #7f7f7f\">25</span></a>\n",
       "</pre>\n"
      ],
      "text/plain": [
       "\u001b[2;36m                   \u001b[0m\u001b[2;36m \u001b[0m\u001b[1;31mERROR   \u001b[0m Failed to insert event: Cybersecurity Bootcamp. Status code: \u001b[1;36m201\u001b[0m      \u001b]8;id=774006;file://C:\\Users\\Otaku\\AppData\\Local\\Temp\\ipykernel_23876\\3371054377.py\u001b\\\u001b[2m3371054377.py\u001b[0m\u001b]8;;\u001b\\\u001b[2m:\u001b[0m\u001b]8;id=990754;file://C:\\Users\\Otaku\\AppData\\Local\\Temp\\ipykernel_23876\\3371054377.py#25\u001b\\\u001b[2m25\u001b[0m\u001b]8;;\u001b\\\n"
      ]
     },
     "metadata": {},
     "output_type": "display_data"
    },
    {
     "data": {
      "text/html": [
       "<pre style=\"white-space:pre;overflow-x:auto;line-height:normal;font-family:Menlo,'DejaVu Sans Mono',consolas,'Courier New',monospace\"><span style=\"color: #7fbfbf; text-decoration-color: #7fbfbf\">                    </span><span style=\"color: #008000; text-decoration-color: #008000\">DEBUG   </span> Starting new HTTP connection <span style=\"font-weight: bold\">(</span><span style=\"color: #008080; text-decoration-color: #008080; font-weight: bold\">1</span><span style=\"font-weight: bold\">)</span>: localhost:<span style=\"color: #008080; text-decoration-color: #008080; font-weight: bold\">5000</span>                 <a href=\"file://d:\\windowsConda\\Lib\\site-packages\\urllib3\\connectionpool.py\" target=\"_blank\"><span style=\"color: #7f7f7f; text-decoration-color: #7f7f7f\">connectionpool.py</span></a><span style=\"color: #7f7f7f; text-decoration-color: #7f7f7f\">:</span><a href=\"file://d:\\windowsConda\\Lib\\site-packages\\urllib3\\connectionpool.py#243\" target=\"_blank\"><span style=\"color: #7f7f7f; text-decoration-color: #7f7f7f\">243</span></a>\n",
       "</pre>\n"
      ],
      "text/plain": [
       "\u001b[2;36m                   \u001b[0m\u001b[2;36m \u001b[0m\u001b[32mDEBUG   \u001b[0m Starting new HTTP connection \u001b[1m(\u001b[0m\u001b[1;36m1\u001b[0m\u001b[1m)\u001b[0m: localhost:\u001b[1;36m5000\u001b[0m                 \u001b]8;id=500143;file://d:\\windowsConda\\Lib\\site-packages\\urllib3\\connectionpool.py\u001b\\\u001b[2mconnectionpool.py\u001b[0m\u001b]8;;\u001b\\\u001b[2m:\u001b[0m\u001b]8;id=87100;file://d:\\windowsConda\\Lib\\site-packages\\urllib3\\connectionpool.py#243\u001b\\\u001b[2m243\u001b[0m\u001b]8;;\u001b\\\n"
      ]
     },
     "metadata": {},
     "output_type": "display_data"
    },
    {
     "data": {
      "text/html": [
       "<pre style=\"white-space:pre;overflow-x:auto;line-height:normal;font-family:Menlo,'DejaVu Sans Mono',consolas,'Courier New',monospace\"><span style=\"color: #7fbfbf; text-decoration-color: #7fbfbf\">[05/14/25 01:40:04] </span><span style=\"color: #008000; text-decoration-color: #008000\">DEBUG   </span> <span style=\"color: #0000ff; text-decoration-color: #0000ff; text-decoration: underline\">http://localhost:5000</span> <span style=\"color: #008000; text-decoration-color: #008000\">\"</span><span style=\"color: #808000; text-decoration-color: #808000; font-weight: bold\">POST</span><span style=\"color: #008000; text-decoration-color: #008000\"> /api/event/insertEvent HTTP/11\"</span> <span style=\"color: #008080; text-decoration-color: #008080; font-weight: bold\">201</span>  <a href=\"file://d:\\windowsConda\\Lib\\site-packages\\urllib3\\connectionpool.py\" target=\"_blank\"><span style=\"color: #7f7f7f; text-decoration-color: #7f7f7f\">connectionpool.py</span></a><span style=\"color: #7f7f7f; text-decoration-color: #7f7f7f\">:</span><a href=\"file://d:\\windowsConda\\Lib\\site-packages\\urllib3\\connectionpool.py#546\" target=\"_blank\"><span style=\"color: #7f7f7f; text-decoration-color: #7f7f7f\">546</span></a>\n",
       "<span style=\"color: #7fbfbf; text-decoration-color: #7fbfbf\">                    </span>         <span style=\"color: #008080; text-decoration-color: #008080; font-weight: bold\">459</span>                                                              <span style=\"color: #7f7f7f; text-decoration-color: #7f7f7f\">                     </span>\n",
       "</pre>\n"
      ],
      "text/plain": [
       "\u001b[2;36m[05/14/25 01:40:04]\u001b[0m\u001b[2;36m \u001b[0m\u001b[32mDEBUG   \u001b[0m \u001b[4;94mhttp://localhost:5000\u001b[0m \u001b[32m\"\u001b[0m\u001b[1;33mPOST\u001b[0m\u001b[32m /api/event/insertEvent HTTP/11\"\u001b[0m \u001b[1;36m201\u001b[0m  \u001b]8;id=444628;file://d:\\windowsConda\\Lib\\site-packages\\urllib3\\connectionpool.py\u001b\\\u001b[2mconnectionpool.py\u001b[0m\u001b]8;;\u001b\\\u001b[2m:\u001b[0m\u001b]8;id=472337;file://d:\\windowsConda\\Lib\\site-packages\\urllib3\\connectionpool.py#546\u001b\\\u001b[2m546\u001b[0m\u001b]8;;\u001b\\\n",
       "\u001b[2;36m                    \u001b[0m         \u001b[1;36m459\u001b[0m                                                              \u001b[2m                     \u001b[0m\n"
      ]
     },
     "metadata": {},
     "output_type": "display_data"
    },
    {
     "data": {
      "text/html": [
       "<pre style=\"white-space:pre;overflow-x:auto;line-height:normal;font-family:Menlo,'DejaVu Sans Mono',consolas,'Courier New',monospace\"><span style=\"color: #7fbfbf; text-decoration-color: #7fbfbf\">                    </span><span style=\"color: #800000; text-decoration-color: #800000; font-weight: bold\">ERROR   </span> Failed to insert event: Street Art Festival. Status code: <span style=\"color: #008080; text-decoration-color: #008080; font-weight: bold\">201</span>         <a href=\"file://C:\\Users\\Otaku\\AppData\\Local\\Temp\\ipykernel_23876\\3371054377.py\" target=\"_blank\"><span style=\"color: #7f7f7f; text-decoration-color: #7f7f7f\">3371054377.py</span></a><span style=\"color: #7f7f7f; text-decoration-color: #7f7f7f\">:</span><a href=\"file://C:\\Users\\Otaku\\AppData\\Local\\Temp\\ipykernel_23876\\3371054377.py#25\" target=\"_blank\"><span style=\"color: #7f7f7f; text-decoration-color: #7f7f7f\">25</span></a>\n",
       "</pre>\n"
      ],
      "text/plain": [
       "\u001b[2;36m                   \u001b[0m\u001b[2;36m \u001b[0m\u001b[1;31mERROR   \u001b[0m Failed to insert event: Street Art Festival. Status code: \u001b[1;36m201\u001b[0m         \u001b]8;id=394964;file://C:\\Users\\Otaku\\AppData\\Local\\Temp\\ipykernel_23876\\3371054377.py\u001b\\\u001b[2m3371054377.py\u001b[0m\u001b]8;;\u001b\\\u001b[2m:\u001b[0m\u001b]8;id=668872;file://C:\\Users\\Otaku\\AppData\\Local\\Temp\\ipykernel_23876\\3371054377.py#25\u001b\\\u001b[2m25\u001b[0m\u001b]8;;\u001b\\\n"
      ]
     },
     "metadata": {},
     "output_type": "display_data"
    },
    {
     "data": {
      "text/html": [
       "<pre style=\"white-space:pre;overflow-x:auto;line-height:normal;font-family:Menlo,'DejaVu Sans Mono',consolas,'Courier New',monospace\"><span style=\"color: #7fbfbf; text-decoration-color: #7fbfbf\">                    </span><span style=\"color: #008000; text-decoration-color: #008000\">DEBUG   </span> Starting new HTTP connection <span style=\"font-weight: bold\">(</span><span style=\"color: #008080; text-decoration-color: #008080; font-weight: bold\">1</span><span style=\"font-weight: bold\">)</span>: localhost:<span style=\"color: #008080; text-decoration-color: #008080; font-weight: bold\">5000</span>                 <a href=\"file://d:\\windowsConda\\Lib\\site-packages\\urllib3\\connectionpool.py\" target=\"_blank\"><span style=\"color: #7f7f7f; text-decoration-color: #7f7f7f\">connectionpool.py</span></a><span style=\"color: #7f7f7f; text-decoration-color: #7f7f7f\">:</span><a href=\"file://d:\\windowsConda\\Lib\\site-packages\\urllib3\\connectionpool.py#243\" target=\"_blank\"><span style=\"color: #7f7f7f; text-decoration-color: #7f7f7f\">243</span></a>\n",
       "</pre>\n"
      ],
      "text/plain": [
       "\u001b[2;36m                   \u001b[0m\u001b[2;36m \u001b[0m\u001b[32mDEBUG   \u001b[0m Starting new HTTP connection \u001b[1m(\u001b[0m\u001b[1;36m1\u001b[0m\u001b[1m)\u001b[0m: localhost:\u001b[1;36m5000\u001b[0m                 \u001b]8;id=45864;file://d:\\windowsConda\\Lib\\site-packages\\urllib3\\connectionpool.py\u001b\\\u001b[2mconnectionpool.py\u001b[0m\u001b]8;;\u001b\\\u001b[2m:\u001b[0m\u001b]8;id=356553;file://d:\\windowsConda\\Lib\\site-packages\\urllib3\\connectionpool.py#243\u001b\\\u001b[2m243\u001b[0m\u001b]8;;\u001b\\\n"
      ]
     },
     "metadata": {},
     "output_type": "display_data"
    },
    {
     "data": {
      "text/html": [
       "<pre style=\"white-space:pre;overflow-x:auto;line-height:normal;font-family:Menlo,'DejaVu Sans Mono',consolas,'Courier New',monospace\"><span style=\"color: #7fbfbf; text-decoration-color: #7fbfbf\">[05/14/25 01:40:08] </span><span style=\"color: #008000; text-decoration-color: #008000\">DEBUG   </span> <span style=\"color: #0000ff; text-decoration-color: #0000ff; text-decoration: underline\">http://localhost:5000</span> <span style=\"color: #008000; text-decoration-color: #008000\">\"</span><span style=\"color: #808000; text-decoration-color: #808000; font-weight: bold\">POST</span><span style=\"color: #008000; text-decoration-color: #008000\"> /api/event/insertEvent HTTP/11\"</span> <span style=\"color: #008080; text-decoration-color: #008080; font-weight: bold\">201</span>  <a href=\"file://d:\\windowsConda\\Lib\\site-packages\\urllib3\\connectionpool.py\" target=\"_blank\"><span style=\"color: #7f7f7f; text-decoration-color: #7f7f7f\">connectionpool.py</span></a><span style=\"color: #7f7f7f; text-decoration-color: #7f7f7f\">:</span><a href=\"file://d:\\windowsConda\\Lib\\site-packages\\urllib3\\connectionpool.py#546\" target=\"_blank\"><span style=\"color: #7f7f7f; text-decoration-color: #7f7f7f\">546</span></a>\n",
       "<span style=\"color: #7fbfbf; text-decoration-color: #7fbfbf\">                    </span>         <span style=\"color: #008080; text-decoration-color: #008080; font-weight: bold\">492</span>                                                              <span style=\"color: #7f7f7f; text-decoration-color: #7f7f7f\">                     </span>\n",
       "</pre>\n"
      ],
      "text/plain": [
       "\u001b[2;36m[05/14/25 01:40:08]\u001b[0m\u001b[2;36m \u001b[0m\u001b[32mDEBUG   \u001b[0m \u001b[4;94mhttp://localhost:5000\u001b[0m \u001b[32m\"\u001b[0m\u001b[1;33mPOST\u001b[0m\u001b[32m /api/event/insertEvent HTTP/11\"\u001b[0m \u001b[1;36m201\u001b[0m  \u001b]8;id=786503;file://d:\\windowsConda\\Lib\\site-packages\\urllib3\\connectionpool.py\u001b\\\u001b[2mconnectionpool.py\u001b[0m\u001b]8;;\u001b\\\u001b[2m:\u001b[0m\u001b]8;id=623660;file://d:\\windowsConda\\Lib\\site-packages\\urllib3\\connectionpool.py#546\u001b\\\u001b[2m546\u001b[0m\u001b]8;;\u001b\\\n",
       "\u001b[2;36m                    \u001b[0m         \u001b[1;36m492\u001b[0m                                                              \u001b[2m                     \u001b[0m\n"
      ]
     },
     "metadata": {},
     "output_type": "display_data"
    },
    {
     "data": {
      "text/html": [
       "<pre style=\"white-space:pre;overflow-x:auto;line-height:normal;font-family:Menlo,'DejaVu Sans Mono',consolas,'Courier New',monospace\"><span style=\"color: #7fbfbf; text-decoration-color: #7fbfbf\">                    </span><span style=\"color: #800000; text-decoration-color: #800000; font-weight: bold\">ERROR   </span> Failed to insert event: Public Speaking Masterclass. Status code: <span style=\"color: #008080; text-decoration-color: #008080; font-weight: bold\">201</span> <a href=\"file://C:\\Users\\Otaku\\AppData\\Local\\Temp\\ipykernel_23876\\3371054377.py\" target=\"_blank\"><span style=\"color: #7f7f7f; text-decoration-color: #7f7f7f\">3371054377.py</span></a><span style=\"color: #7f7f7f; text-decoration-color: #7f7f7f\">:</span><a href=\"file://C:\\Users\\Otaku\\AppData\\Local\\Temp\\ipykernel_23876\\3371054377.py#25\" target=\"_blank\"><span style=\"color: #7f7f7f; text-decoration-color: #7f7f7f\">25</span></a>\n",
       "</pre>\n"
      ],
      "text/plain": [
       "\u001b[2;36m                   \u001b[0m\u001b[2;36m \u001b[0m\u001b[1;31mERROR   \u001b[0m Failed to insert event: Public Speaking Masterclass. Status code: \u001b[1;36m201\u001b[0m \u001b]8;id=532686;file://C:\\Users\\Otaku\\AppData\\Local\\Temp\\ipykernel_23876\\3371054377.py\u001b\\\u001b[2m3371054377.py\u001b[0m\u001b]8;;\u001b\\\u001b[2m:\u001b[0m\u001b]8;id=179823;file://C:\\Users\\Otaku\\AppData\\Local\\Temp\\ipykernel_23876\\3371054377.py#25\u001b\\\u001b[2m25\u001b[0m\u001b]8;;\u001b\\\n"
      ]
     },
     "metadata": {},
     "output_type": "display_data"
    },
    {
     "data": {
      "text/html": [
       "<pre style=\"white-space:pre;overflow-x:auto;line-height:normal;font-family:Menlo,'DejaVu Sans Mono',consolas,'Courier New',monospace\"><span style=\"color: #7fbfbf; text-decoration-color: #7fbfbf\">                    </span><span style=\"color: #008000; text-decoration-color: #008000\">DEBUG   </span> Starting new HTTP connection <span style=\"font-weight: bold\">(</span><span style=\"color: #008080; text-decoration-color: #008080; font-weight: bold\">1</span><span style=\"font-weight: bold\">)</span>: localhost:<span style=\"color: #008080; text-decoration-color: #008080; font-weight: bold\">5000</span>                 <a href=\"file://d:\\windowsConda\\Lib\\site-packages\\urllib3\\connectionpool.py\" target=\"_blank\"><span style=\"color: #7f7f7f; text-decoration-color: #7f7f7f\">connectionpool.py</span></a><span style=\"color: #7f7f7f; text-decoration-color: #7f7f7f\">:</span><a href=\"file://d:\\windowsConda\\Lib\\site-packages\\urllib3\\connectionpool.py#243\" target=\"_blank\"><span style=\"color: #7f7f7f; text-decoration-color: #7f7f7f\">243</span></a>\n",
       "</pre>\n"
      ],
      "text/plain": [
       "\u001b[2;36m                   \u001b[0m\u001b[2;36m \u001b[0m\u001b[32mDEBUG   \u001b[0m Starting new HTTP connection \u001b[1m(\u001b[0m\u001b[1;36m1\u001b[0m\u001b[1m)\u001b[0m: localhost:\u001b[1;36m5000\u001b[0m                 \u001b]8;id=61843;file://d:\\windowsConda\\Lib\\site-packages\\urllib3\\connectionpool.py\u001b\\\u001b[2mconnectionpool.py\u001b[0m\u001b]8;;\u001b\\\u001b[2m:\u001b[0m\u001b]8;id=108354;file://d:\\windowsConda\\Lib\\site-packages\\urllib3\\connectionpool.py#243\u001b\\\u001b[2m243\u001b[0m\u001b]8;;\u001b\\\n"
      ]
     },
     "metadata": {},
     "output_type": "display_data"
    },
    {
     "data": {
      "text/html": [
       "<pre style=\"white-space:pre;overflow-x:auto;line-height:normal;font-family:Menlo,'DejaVu Sans Mono',consolas,'Courier New',monospace\"><span style=\"color: #7fbfbf; text-decoration-color: #7fbfbf\">[05/14/25 01:40:11] </span><span style=\"color: #008000; text-decoration-color: #008000\">DEBUG   </span> <span style=\"color: #0000ff; text-decoration-color: #0000ff; text-decoration: underline\">http://localhost:5000</span> <span style=\"color: #008000; text-decoration-color: #008000\">\"</span><span style=\"color: #808000; text-decoration-color: #808000; font-weight: bold\">POST</span><span style=\"color: #008000; text-decoration-color: #008000\"> /api/event/insertEvent HTTP/11\"</span> <span style=\"color: #008080; text-decoration-color: #008080; font-weight: bold\">201</span>  <a href=\"file://d:\\windowsConda\\Lib\\site-packages\\urllib3\\connectionpool.py\" target=\"_blank\"><span style=\"color: #7f7f7f; text-decoration-color: #7f7f7f\">connectionpool.py</span></a><span style=\"color: #7f7f7f; text-decoration-color: #7f7f7f\">:</span><a href=\"file://d:\\windowsConda\\Lib\\site-packages\\urllib3\\connectionpool.py#546\" target=\"_blank\"><span style=\"color: #7f7f7f; text-decoration-color: #7f7f7f\">546</span></a>\n",
       "<span style=\"color: #7fbfbf; text-decoration-color: #7fbfbf\">                    </span>         <span style=\"color: #008080; text-decoration-color: #008080; font-weight: bold\">450</span>                                                              <span style=\"color: #7f7f7f; text-decoration-color: #7f7f7f\">                     </span>\n",
       "</pre>\n"
      ],
      "text/plain": [
       "\u001b[2;36m[05/14/25 01:40:11]\u001b[0m\u001b[2;36m \u001b[0m\u001b[32mDEBUG   \u001b[0m \u001b[4;94mhttp://localhost:5000\u001b[0m \u001b[32m\"\u001b[0m\u001b[1;33mPOST\u001b[0m\u001b[32m /api/event/insertEvent HTTP/11\"\u001b[0m \u001b[1;36m201\u001b[0m  \u001b]8;id=186921;file://d:\\windowsConda\\Lib\\site-packages\\urllib3\\connectionpool.py\u001b\\\u001b[2mconnectionpool.py\u001b[0m\u001b]8;;\u001b\\\u001b[2m:\u001b[0m\u001b]8;id=852356;file://d:\\windowsConda\\Lib\\site-packages\\urllib3\\connectionpool.py#546\u001b\\\u001b[2m546\u001b[0m\u001b]8;;\u001b\\\n",
       "\u001b[2;36m                    \u001b[0m         \u001b[1;36m450\u001b[0m                                                              \u001b[2m                     \u001b[0m\n"
      ]
     },
     "metadata": {},
     "output_type": "display_data"
    },
    {
     "data": {
      "text/html": [
       "<pre style=\"white-space:pre;overflow-x:auto;line-height:normal;font-family:Menlo,'DejaVu Sans Mono',consolas,'Courier New',monospace\"><span style=\"color: #7fbfbf; text-decoration-color: #7fbfbf\">                    </span><span style=\"color: #800000; text-decoration-color: #800000; font-weight: bold\">ERROR   </span> Failed to insert event: IoT Devices Showcase. Status code: <span style=\"color: #008080; text-decoration-color: #008080; font-weight: bold\">201</span>        <a href=\"file://C:\\Users\\Otaku\\AppData\\Local\\Temp\\ipykernel_23876\\3371054377.py\" target=\"_blank\"><span style=\"color: #7f7f7f; text-decoration-color: #7f7f7f\">3371054377.py</span></a><span style=\"color: #7f7f7f; text-decoration-color: #7f7f7f\">:</span><a href=\"file://C:\\Users\\Otaku\\AppData\\Local\\Temp\\ipykernel_23876\\3371054377.py#25\" target=\"_blank\"><span style=\"color: #7f7f7f; text-decoration-color: #7f7f7f\">25</span></a>\n",
       "</pre>\n"
      ],
      "text/plain": [
       "\u001b[2;36m                   \u001b[0m\u001b[2;36m \u001b[0m\u001b[1;31mERROR   \u001b[0m Failed to insert event: IoT Devices Showcase. Status code: \u001b[1;36m201\u001b[0m        \u001b]8;id=106831;file://C:\\Users\\Otaku\\AppData\\Local\\Temp\\ipykernel_23876\\3371054377.py\u001b\\\u001b[2m3371054377.py\u001b[0m\u001b]8;;\u001b\\\u001b[2m:\u001b[0m\u001b]8;id=780675;file://C:\\Users\\Otaku\\AppData\\Local\\Temp\\ipykernel_23876\\3371054377.py#25\u001b\\\u001b[2m25\u001b[0m\u001b]8;;\u001b\\\n"
      ]
     },
     "metadata": {},
     "output_type": "display_data"
    },
    {
     "data": {
      "text/html": [
       "<pre style=\"white-space:pre;overflow-x:auto;line-height:normal;font-family:Menlo,'DejaVu Sans Mono',consolas,'Courier New',monospace\"><span style=\"color: #7fbfbf; text-decoration-color: #7fbfbf\">                    </span><span style=\"color: #008000; text-decoration-color: #008000\">DEBUG   </span> Starting new HTTP connection <span style=\"font-weight: bold\">(</span><span style=\"color: #008080; text-decoration-color: #008080; font-weight: bold\">1</span><span style=\"font-weight: bold\">)</span>: localhost:<span style=\"color: #008080; text-decoration-color: #008080; font-weight: bold\">5000</span>                 <a href=\"file://d:\\windowsConda\\Lib\\site-packages\\urllib3\\connectionpool.py\" target=\"_blank\"><span style=\"color: #7f7f7f; text-decoration-color: #7f7f7f\">connectionpool.py</span></a><span style=\"color: #7f7f7f; text-decoration-color: #7f7f7f\">:</span><a href=\"file://d:\\windowsConda\\Lib\\site-packages\\urllib3\\connectionpool.py#243\" target=\"_blank\"><span style=\"color: #7f7f7f; text-decoration-color: #7f7f7f\">243</span></a>\n",
       "</pre>\n"
      ],
      "text/plain": [
       "\u001b[2;36m                   \u001b[0m\u001b[2;36m \u001b[0m\u001b[32mDEBUG   \u001b[0m Starting new HTTP connection \u001b[1m(\u001b[0m\u001b[1;36m1\u001b[0m\u001b[1m)\u001b[0m: localhost:\u001b[1;36m5000\u001b[0m                 \u001b]8;id=537273;file://d:\\windowsConda\\Lib\\site-packages\\urllib3\\connectionpool.py\u001b\\\u001b[2mconnectionpool.py\u001b[0m\u001b]8;;\u001b\\\u001b[2m:\u001b[0m\u001b]8;id=133692;file://d:\\windowsConda\\Lib\\site-packages\\urllib3\\connectionpool.py#243\u001b\\\u001b[2m243\u001b[0m\u001b]8;;\u001b\\\n"
      ]
     },
     "metadata": {},
     "output_type": "display_data"
    },
    {
     "data": {
      "text/html": [
       "<pre style=\"white-space:pre;overflow-x:auto;line-height:normal;font-family:Menlo,'DejaVu Sans Mono',consolas,'Courier New',monospace\"><span style=\"color: #7fbfbf; text-decoration-color: #7fbfbf\">[05/14/25 01:40:15] </span><span style=\"color: #008000; text-decoration-color: #008000\">DEBUG   </span> <span style=\"color: #0000ff; text-decoration-color: #0000ff; text-decoration: underline\">http://localhost:5000</span> <span style=\"color: #008000; text-decoration-color: #008000\">\"</span><span style=\"color: #808000; text-decoration-color: #808000; font-weight: bold\">POST</span><span style=\"color: #008000; text-decoration-color: #008000\"> /api/event/insertEvent HTTP/11\"</span> <span style=\"color: #008080; text-decoration-color: #008080; font-weight: bold\">201</span>  <a href=\"file://d:\\windowsConda\\Lib\\site-packages\\urllib3\\connectionpool.py\" target=\"_blank\"><span style=\"color: #7f7f7f; text-decoration-color: #7f7f7f\">connectionpool.py</span></a><span style=\"color: #7f7f7f; text-decoration-color: #7f7f7f\">:</span><a href=\"file://d:\\windowsConda\\Lib\\site-packages\\urllib3\\connectionpool.py#546\" target=\"_blank\"><span style=\"color: #7f7f7f; text-decoration-color: #7f7f7f\">546</span></a>\n",
       "<span style=\"color: #7fbfbf; text-decoration-color: #7fbfbf\">                    </span>         <span style=\"color: #008080; text-decoration-color: #008080; font-weight: bold\">474</span>                                                              <span style=\"color: #7f7f7f; text-decoration-color: #7f7f7f\">                     </span>\n",
       "</pre>\n"
      ],
      "text/plain": [
       "\u001b[2;36m[05/14/25 01:40:15]\u001b[0m\u001b[2;36m \u001b[0m\u001b[32mDEBUG   \u001b[0m \u001b[4;94mhttp://localhost:5000\u001b[0m \u001b[32m\"\u001b[0m\u001b[1;33mPOST\u001b[0m\u001b[32m /api/event/insertEvent HTTP/11\"\u001b[0m \u001b[1;36m201\u001b[0m  \u001b]8;id=243154;file://d:\\windowsConda\\Lib\\site-packages\\urllib3\\connectionpool.py\u001b\\\u001b[2mconnectionpool.py\u001b[0m\u001b]8;;\u001b\\\u001b[2m:\u001b[0m\u001b]8;id=580725;file://d:\\windowsConda\\Lib\\site-packages\\urllib3\\connectionpool.py#546\u001b\\\u001b[2m546\u001b[0m\u001b]8;;\u001b\\\n",
       "\u001b[2;36m                    \u001b[0m         \u001b[1;36m474\u001b[0m                                                              \u001b[2m                     \u001b[0m\n"
      ]
     },
     "metadata": {},
     "output_type": "display_data"
    },
    {
     "data": {
      "text/html": [
       "<pre style=\"white-space:pre;overflow-x:auto;line-height:normal;font-family:Menlo,'DejaVu Sans Mono',consolas,'Courier New',monospace\"><span style=\"color: #7fbfbf; text-decoration-color: #7fbfbf\">                    </span><span style=\"color: #800000; text-decoration-color: #800000; font-weight: bold\">ERROR   </span> Failed to insert event: Online Freelancing Workshop. Status code: <span style=\"color: #008080; text-decoration-color: #008080; font-weight: bold\">201</span> <a href=\"file://C:\\Users\\Otaku\\AppData\\Local\\Temp\\ipykernel_23876\\3371054377.py\" target=\"_blank\"><span style=\"color: #7f7f7f; text-decoration-color: #7f7f7f\">3371054377.py</span></a><span style=\"color: #7f7f7f; text-decoration-color: #7f7f7f\">:</span><a href=\"file://C:\\Users\\Otaku\\AppData\\Local\\Temp\\ipykernel_23876\\3371054377.py#25\" target=\"_blank\"><span style=\"color: #7f7f7f; text-decoration-color: #7f7f7f\">25</span></a>\n",
       "</pre>\n"
      ],
      "text/plain": [
       "\u001b[2;36m                   \u001b[0m\u001b[2;36m \u001b[0m\u001b[1;31mERROR   \u001b[0m Failed to insert event: Online Freelancing Workshop. Status code: \u001b[1;36m201\u001b[0m \u001b]8;id=743414;file://C:\\Users\\Otaku\\AppData\\Local\\Temp\\ipykernel_23876\\3371054377.py\u001b\\\u001b[2m3371054377.py\u001b[0m\u001b]8;;\u001b\\\u001b[2m:\u001b[0m\u001b]8;id=148623;file://C:\\Users\\Otaku\\AppData\\Local\\Temp\\ipykernel_23876\\3371054377.py#25\u001b\\\u001b[2m25\u001b[0m\u001b]8;;\u001b\\\n"
      ]
     },
     "metadata": {},
     "output_type": "display_data"
    },
    {
     "data": {
      "text/html": [
       "<pre style=\"white-space:pre;overflow-x:auto;line-height:normal;font-family:Menlo,'DejaVu Sans Mono',consolas,'Courier New',monospace\"><span style=\"color: #7fbfbf; text-decoration-color: #7fbfbf\">                    </span><span style=\"color: #008000; text-decoration-color: #008000\">DEBUG   </span> Starting new HTTP connection <span style=\"font-weight: bold\">(</span><span style=\"color: #008080; text-decoration-color: #008080; font-weight: bold\">1</span><span style=\"font-weight: bold\">)</span>: localhost:<span style=\"color: #008080; text-decoration-color: #008080; font-weight: bold\">5000</span>                 <a href=\"file://d:\\windowsConda\\Lib\\site-packages\\urllib3\\connectionpool.py\" target=\"_blank\"><span style=\"color: #7f7f7f; text-decoration-color: #7f7f7f\">connectionpool.py</span></a><span style=\"color: #7f7f7f; text-decoration-color: #7f7f7f\">:</span><a href=\"file://d:\\windowsConda\\Lib\\site-packages\\urllib3\\connectionpool.py#243\" target=\"_blank\"><span style=\"color: #7f7f7f; text-decoration-color: #7f7f7f\">243</span></a>\n",
       "</pre>\n"
      ],
      "text/plain": [
       "\u001b[2;36m                   \u001b[0m\u001b[2;36m \u001b[0m\u001b[32mDEBUG   \u001b[0m Starting new HTTP connection \u001b[1m(\u001b[0m\u001b[1;36m1\u001b[0m\u001b[1m)\u001b[0m: localhost:\u001b[1;36m5000\u001b[0m                 \u001b]8;id=568642;file://d:\\windowsConda\\Lib\\site-packages\\urllib3\\connectionpool.py\u001b\\\u001b[2mconnectionpool.py\u001b[0m\u001b]8;;\u001b\\\u001b[2m:\u001b[0m\u001b]8;id=89876;file://d:\\windowsConda\\Lib\\site-packages\\urllib3\\connectionpool.py#243\u001b\\\u001b[2m243\u001b[0m\u001b]8;;\u001b\\\n"
      ]
     },
     "metadata": {},
     "output_type": "display_data"
    },
    {
     "data": {
      "text/html": [
       "<pre style=\"white-space:pre;overflow-x:auto;line-height:normal;font-family:Menlo,'DejaVu Sans Mono',consolas,'Courier New',monospace\"><span style=\"color: #7fbfbf; text-decoration-color: #7fbfbf\">[05/14/25 01:40:19] </span><span style=\"color: #008000; text-decoration-color: #008000\">DEBUG   </span> <span style=\"color: #0000ff; text-decoration-color: #0000ff; text-decoration: underline\">http://localhost:5000</span> <span style=\"color: #008000; text-decoration-color: #008000\">\"</span><span style=\"color: #808000; text-decoration-color: #808000; font-weight: bold\">POST</span><span style=\"color: #008000; text-decoration-color: #008000\"> /api/event/insertEvent HTTP/11\"</span> <span style=\"color: #008080; text-decoration-color: #008080; font-weight: bold\">201</span>  <a href=\"file://d:\\windowsConda\\Lib\\site-packages\\urllib3\\connectionpool.py\" target=\"_blank\"><span style=\"color: #7f7f7f; text-decoration-color: #7f7f7f\">connectionpool.py</span></a><span style=\"color: #7f7f7f; text-decoration-color: #7f7f7f\">:</span><a href=\"file://d:\\windowsConda\\Lib\\site-packages\\urllib3\\connectionpool.py#546\" target=\"_blank\"><span style=\"color: #7f7f7f; text-decoration-color: #7f7f7f\">546</span></a>\n",
       "<span style=\"color: #7fbfbf; text-decoration-color: #7fbfbf\">                    </span>         <span style=\"color: #008080; text-decoration-color: #008080; font-weight: bold\">466</span>                                                              <span style=\"color: #7f7f7f; text-decoration-color: #7f7f7f\">                     </span>\n",
       "</pre>\n"
      ],
      "text/plain": [
       "\u001b[2;36m[05/14/25 01:40:19]\u001b[0m\u001b[2;36m \u001b[0m\u001b[32mDEBUG   \u001b[0m \u001b[4;94mhttp://localhost:5000\u001b[0m \u001b[32m\"\u001b[0m\u001b[1;33mPOST\u001b[0m\u001b[32m /api/event/insertEvent HTTP/11\"\u001b[0m \u001b[1;36m201\u001b[0m  \u001b]8;id=304631;file://d:\\windowsConda\\Lib\\site-packages\\urllib3\\connectionpool.py\u001b\\\u001b[2mconnectionpool.py\u001b[0m\u001b]8;;\u001b\\\u001b[2m:\u001b[0m\u001b]8;id=300961;file://d:\\windowsConda\\Lib\\site-packages\\urllib3\\connectionpool.py#546\u001b\\\u001b[2m546\u001b[0m\u001b]8;;\u001b\\\n",
       "\u001b[2;36m                    \u001b[0m         \u001b[1;36m466\u001b[0m                                                              \u001b[2m                     \u001b[0m\n"
      ]
     },
     "metadata": {},
     "output_type": "display_data"
    },
    {
     "data": {
      "text/html": [
       "<pre style=\"white-space:pre;overflow-x:auto;line-height:normal;font-family:Menlo,'DejaVu Sans Mono',consolas,'Courier New',monospace\"><span style=\"color: #7fbfbf; text-decoration-color: #7fbfbf\">                    </span><span style=\"color: #800000; text-decoration-color: #800000; font-weight: bold\">ERROR   </span> Failed to insert event: Green Coding Sprint. Status code: <span style=\"color: #008080; text-decoration-color: #008080; font-weight: bold\">201</span>         <a href=\"file://C:\\Users\\Otaku\\AppData\\Local\\Temp\\ipykernel_23876\\3371054377.py\" target=\"_blank\"><span style=\"color: #7f7f7f; text-decoration-color: #7f7f7f\">3371054377.py</span></a><span style=\"color: #7f7f7f; text-decoration-color: #7f7f7f\">:</span><a href=\"file://C:\\Users\\Otaku\\AppData\\Local\\Temp\\ipykernel_23876\\3371054377.py#25\" target=\"_blank\"><span style=\"color: #7f7f7f; text-decoration-color: #7f7f7f\">25</span></a>\n",
       "</pre>\n"
      ],
      "text/plain": [
       "\u001b[2;36m                   \u001b[0m\u001b[2;36m \u001b[0m\u001b[1;31mERROR   \u001b[0m Failed to insert event: Green Coding Sprint. Status code: \u001b[1;36m201\u001b[0m         \u001b]8;id=230896;file://C:\\Users\\Otaku\\AppData\\Local\\Temp\\ipykernel_23876\\3371054377.py\u001b\\\u001b[2m3371054377.py\u001b[0m\u001b]8;;\u001b\\\u001b[2m:\u001b[0m\u001b]8;id=959772;file://C:\\Users\\Otaku\\AppData\\Local\\Temp\\ipykernel_23876\\3371054377.py#25\u001b\\\u001b[2m25\u001b[0m\u001b]8;;\u001b\\\n"
      ]
     },
     "metadata": {},
     "output_type": "display_data"
    },
    {
     "data": {
      "text/html": [
       "<pre style=\"white-space:pre;overflow-x:auto;line-height:normal;font-family:Menlo,'DejaVu Sans Mono',consolas,'Courier New',monospace\"><span style=\"color: #7fbfbf; text-decoration-color: #7fbfbf\">                    </span><span style=\"color: #008000; text-decoration-color: #008000\">DEBUG   </span> Starting new HTTP connection <span style=\"font-weight: bold\">(</span><span style=\"color: #008080; text-decoration-color: #008080; font-weight: bold\">1</span><span style=\"font-weight: bold\">)</span>: localhost:<span style=\"color: #008080; text-decoration-color: #008080; font-weight: bold\">5000</span>                 <a href=\"file://d:\\windowsConda\\Lib\\site-packages\\urllib3\\connectionpool.py\" target=\"_blank\"><span style=\"color: #7f7f7f; text-decoration-color: #7f7f7f\">connectionpool.py</span></a><span style=\"color: #7f7f7f; text-decoration-color: #7f7f7f\">:</span><a href=\"file://d:\\windowsConda\\Lib\\site-packages\\urllib3\\connectionpool.py#243\" target=\"_blank\"><span style=\"color: #7f7f7f; text-decoration-color: #7f7f7f\">243</span></a>\n",
       "</pre>\n"
      ],
      "text/plain": [
       "\u001b[2;36m                   \u001b[0m\u001b[2;36m \u001b[0m\u001b[32mDEBUG   \u001b[0m Starting new HTTP connection \u001b[1m(\u001b[0m\u001b[1;36m1\u001b[0m\u001b[1m)\u001b[0m: localhost:\u001b[1;36m5000\u001b[0m                 \u001b]8;id=514616;file://d:\\windowsConda\\Lib\\site-packages\\urllib3\\connectionpool.py\u001b\\\u001b[2mconnectionpool.py\u001b[0m\u001b]8;;\u001b\\\u001b[2m:\u001b[0m\u001b]8;id=538351;file://d:\\windowsConda\\Lib\\site-packages\\urllib3\\connectionpool.py#243\u001b\\\u001b[2m243\u001b[0m\u001b]8;;\u001b\\\n"
      ]
     },
     "metadata": {},
     "output_type": "display_data"
    },
    {
     "data": {
      "text/html": [
       "<pre style=\"white-space:pre;overflow-x:auto;line-height:normal;font-family:Menlo,'DejaVu Sans Mono',consolas,'Courier New',monospace\"><span style=\"color: #7fbfbf; text-decoration-color: #7fbfbf\">[05/14/25 01:40:22] </span><span style=\"color: #008000; text-decoration-color: #008000\">DEBUG   </span> <span style=\"color: #0000ff; text-decoration-color: #0000ff; text-decoration: underline\">http://localhost:5000</span> <span style=\"color: #008000; text-decoration-color: #008000\">\"</span><span style=\"color: #808000; text-decoration-color: #808000; font-weight: bold\">POST</span><span style=\"color: #008000; text-decoration-color: #008000\"> /api/event/insertEvent HTTP/11\"</span> <span style=\"color: #008080; text-decoration-color: #008080; font-weight: bold\">201</span>  <a href=\"file://d:\\windowsConda\\Lib\\site-packages\\urllib3\\connectionpool.py\" target=\"_blank\"><span style=\"color: #7f7f7f; text-decoration-color: #7f7f7f\">connectionpool.py</span></a><span style=\"color: #7f7f7f; text-decoration-color: #7f7f7f\">:</span><a href=\"file://d:\\windowsConda\\Lib\\site-packages\\urllib3\\connectionpool.py#546\" target=\"_blank\"><span style=\"color: #7f7f7f; text-decoration-color: #7f7f7f\">546</span></a>\n",
       "<span style=\"color: #7fbfbf; text-decoration-color: #7fbfbf\">                    </span>         <span style=\"color: #008080; text-decoration-color: #008080; font-weight: bold\">470</span>                                                              <span style=\"color: #7f7f7f; text-decoration-color: #7f7f7f\">                     </span>\n",
       "</pre>\n"
      ],
      "text/plain": [
       "\u001b[2;36m[05/14/25 01:40:22]\u001b[0m\u001b[2;36m \u001b[0m\u001b[32mDEBUG   \u001b[0m \u001b[4;94mhttp://localhost:5000\u001b[0m \u001b[32m\"\u001b[0m\u001b[1;33mPOST\u001b[0m\u001b[32m /api/event/insertEvent HTTP/11\"\u001b[0m \u001b[1;36m201\u001b[0m  \u001b]8;id=953420;file://d:\\windowsConda\\Lib\\site-packages\\urllib3\\connectionpool.py\u001b\\\u001b[2mconnectionpool.py\u001b[0m\u001b]8;;\u001b\\\u001b[2m:\u001b[0m\u001b]8;id=827135;file://d:\\windowsConda\\Lib\\site-packages\\urllib3\\connectionpool.py#546\u001b\\\u001b[2m546\u001b[0m\u001b]8;;\u001b\\\n",
       "\u001b[2;36m                    \u001b[0m         \u001b[1;36m470\u001b[0m                                                              \u001b[2m                     \u001b[0m\n"
      ]
     },
     "metadata": {},
     "output_type": "display_data"
    },
    {
     "data": {
      "text/html": [
       "<pre style=\"white-space:pre;overflow-x:auto;line-height:normal;font-family:Menlo,'DejaVu Sans Mono',consolas,'Courier New',monospace\"><span style=\"color: #7fbfbf; text-decoration-color: #7fbfbf\">                    </span><span style=\"color: #800000; text-decoration-color: #800000; font-weight: bold\">ERROR   </span> Failed to insert event: App Development Training. Status code: <span style=\"color: #008080; text-decoration-color: #008080; font-weight: bold\">201</span>    <a href=\"file://C:\\Users\\Otaku\\AppData\\Local\\Temp\\ipykernel_23876\\3371054377.py\" target=\"_blank\"><span style=\"color: #7f7f7f; text-decoration-color: #7f7f7f\">3371054377.py</span></a><span style=\"color: #7f7f7f; text-decoration-color: #7f7f7f\">:</span><a href=\"file://C:\\Users\\Otaku\\AppData\\Local\\Temp\\ipykernel_23876\\3371054377.py#25\" target=\"_blank\"><span style=\"color: #7f7f7f; text-decoration-color: #7f7f7f\">25</span></a>\n",
       "</pre>\n"
      ],
      "text/plain": [
       "\u001b[2;36m                   \u001b[0m\u001b[2;36m \u001b[0m\u001b[1;31mERROR   \u001b[0m Failed to insert event: App Development Training. Status code: \u001b[1;36m201\u001b[0m    \u001b]8;id=161618;file://C:\\Users\\Otaku\\AppData\\Local\\Temp\\ipykernel_23876\\3371054377.py\u001b\\\u001b[2m3371054377.py\u001b[0m\u001b]8;;\u001b\\\u001b[2m:\u001b[0m\u001b]8;id=537868;file://C:\\Users\\Otaku\\AppData\\Local\\Temp\\ipykernel_23876\\3371054377.py#25\u001b\\\u001b[2m25\u001b[0m\u001b]8;;\u001b\\\n"
      ]
     },
     "metadata": {},
     "output_type": "display_data"
    },
    {
     "data": {
      "text/html": [
       "<pre style=\"white-space:pre;overflow-x:auto;line-height:normal;font-family:Menlo,'DejaVu Sans Mono',consolas,'Courier New',monospace\"><span style=\"color: #7fbfbf; text-decoration-color: #7fbfbf\">                    </span><span style=\"color: #008000; text-decoration-color: #008000\">DEBUG   </span> Starting new HTTP connection <span style=\"font-weight: bold\">(</span><span style=\"color: #008080; text-decoration-color: #008080; font-weight: bold\">1</span><span style=\"font-weight: bold\">)</span>: localhost:<span style=\"color: #008080; text-decoration-color: #008080; font-weight: bold\">5000</span>                 <a href=\"file://d:\\windowsConda\\Lib\\site-packages\\urllib3\\connectionpool.py\" target=\"_blank\"><span style=\"color: #7f7f7f; text-decoration-color: #7f7f7f\">connectionpool.py</span></a><span style=\"color: #7f7f7f; text-decoration-color: #7f7f7f\">:</span><a href=\"file://d:\\windowsConda\\Lib\\site-packages\\urllib3\\connectionpool.py#243\" target=\"_blank\"><span style=\"color: #7f7f7f; text-decoration-color: #7f7f7f\">243</span></a>\n",
       "</pre>\n"
      ],
      "text/plain": [
       "\u001b[2;36m                   \u001b[0m\u001b[2;36m \u001b[0m\u001b[32mDEBUG   \u001b[0m Starting new HTTP connection \u001b[1m(\u001b[0m\u001b[1;36m1\u001b[0m\u001b[1m)\u001b[0m: localhost:\u001b[1;36m5000\u001b[0m                 \u001b]8;id=634393;file://d:\\windowsConda\\Lib\\site-packages\\urllib3\\connectionpool.py\u001b\\\u001b[2mconnectionpool.py\u001b[0m\u001b]8;;\u001b\\\u001b[2m:\u001b[0m\u001b]8;id=945446;file://d:\\windowsConda\\Lib\\site-packages\\urllib3\\connectionpool.py#243\u001b\\\u001b[2m243\u001b[0m\u001b]8;;\u001b\\\n"
      ]
     },
     "metadata": {},
     "output_type": "display_data"
    },
    {
     "data": {
      "text/html": [
       "<pre style=\"white-space:pre;overflow-x:auto;line-height:normal;font-family:Menlo,'DejaVu Sans Mono',consolas,'Courier New',monospace\"><span style=\"color: #7fbfbf; text-decoration-color: #7fbfbf\">[05/14/25 01:40:26] </span><span style=\"color: #008000; text-decoration-color: #008000\">DEBUG   </span> <span style=\"color: #0000ff; text-decoration-color: #0000ff; text-decoration: underline\">http://localhost:5000</span> <span style=\"color: #008000; text-decoration-color: #008000\">\"</span><span style=\"color: #808000; text-decoration-color: #808000; font-weight: bold\">POST</span><span style=\"color: #008000; text-decoration-color: #008000\"> /api/event/insertEvent HTTP/11\"</span> <span style=\"color: #008080; text-decoration-color: #008080; font-weight: bold\">201</span>  <a href=\"file://d:\\windowsConda\\Lib\\site-packages\\urllib3\\connectionpool.py\" target=\"_blank\"><span style=\"color: #7f7f7f; text-decoration-color: #7f7f7f\">connectionpool.py</span></a><span style=\"color: #7f7f7f; text-decoration-color: #7f7f7f\">:</span><a href=\"file://d:\\windowsConda\\Lib\\site-packages\\urllib3\\connectionpool.py#546\" target=\"_blank\"><span style=\"color: #7f7f7f; text-decoration-color: #7f7f7f\">546</span></a>\n",
       "<span style=\"color: #7fbfbf; text-decoration-color: #7fbfbf\">                    </span>         <span style=\"color: #008080; text-decoration-color: #008080; font-weight: bold\">471</span>                                                              <span style=\"color: #7f7f7f; text-decoration-color: #7f7f7f\">                     </span>\n",
       "</pre>\n"
      ],
      "text/plain": [
       "\u001b[2;36m[05/14/25 01:40:26]\u001b[0m\u001b[2;36m \u001b[0m\u001b[32mDEBUG   \u001b[0m \u001b[4;94mhttp://localhost:5000\u001b[0m \u001b[32m\"\u001b[0m\u001b[1;33mPOST\u001b[0m\u001b[32m /api/event/insertEvent HTTP/11\"\u001b[0m \u001b[1;36m201\u001b[0m  \u001b]8;id=832464;file://d:\\windowsConda\\Lib\\site-packages\\urllib3\\connectionpool.py\u001b\\\u001b[2mconnectionpool.py\u001b[0m\u001b]8;;\u001b\\\u001b[2m:\u001b[0m\u001b]8;id=672202;file://d:\\windowsConda\\Lib\\site-packages\\urllib3\\connectionpool.py#546\u001b\\\u001b[2m546\u001b[0m\u001b]8;;\u001b\\\n",
       "\u001b[2;36m                    \u001b[0m         \u001b[1;36m471\u001b[0m                                                              \u001b[2m                     \u001b[0m\n"
      ]
     },
     "metadata": {},
     "output_type": "display_data"
    },
    {
     "data": {
      "text/html": [
       "<pre style=\"white-space:pre;overflow-x:auto;line-height:normal;font-family:Menlo,'DejaVu Sans Mono',consolas,'Courier New',monospace\"><span style=\"color: #7fbfbf; text-decoration-color: #7fbfbf\">                    </span><span style=\"color: #800000; text-decoration-color: #800000; font-weight: bold\">ERROR   </span> Failed to insert event: Design Thinking Crash Course. Status code:    <a href=\"file://C:\\Users\\Otaku\\AppData\\Local\\Temp\\ipykernel_23876\\3371054377.py\" target=\"_blank\"><span style=\"color: #7f7f7f; text-decoration-color: #7f7f7f\">3371054377.py</span></a><span style=\"color: #7f7f7f; text-decoration-color: #7f7f7f\">:</span><a href=\"file://C:\\Users\\Otaku\\AppData\\Local\\Temp\\ipykernel_23876\\3371054377.py#25\" target=\"_blank\"><span style=\"color: #7f7f7f; text-decoration-color: #7f7f7f\">25</span></a>\n",
       "<span style=\"color: #7fbfbf; text-decoration-color: #7fbfbf\">                    </span>         <span style=\"color: #008080; text-decoration-color: #008080; font-weight: bold\">201</span>                                                                   <span style=\"color: #7f7f7f; text-decoration-color: #7f7f7f\">                </span>\n",
       "</pre>\n"
      ],
      "text/plain": [
       "\u001b[2;36m                   \u001b[0m\u001b[2;36m \u001b[0m\u001b[1;31mERROR   \u001b[0m Failed to insert event: Design Thinking Crash Course. Status code:    \u001b]8;id=697332;file://C:\\Users\\Otaku\\AppData\\Local\\Temp\\ipykernel_23876\\3371054377.py\u001b\\\u001b[2m3371054377.py\u001b[0m\u001b]8;;\u001b\\\u001b[2m:\u001b[0m\u001b]8;id=670528;file://C:\\Users\\Otaku\\AppData\\Local\\Temp\\ipykernel_23876\\3371054377.py#25\u001b\\\u001b[2m25\u001b[0m\u001b]8;;\u001b\\\n",
       "\u001b[2;36m                    \u001b[0m         \u001b[1;36m201\u001b[0m                                                                   \u001b[2m                \u001b[0m\n"
      ]
     },
     "metadata": {},
     "output_type": "display_data"
    },
    {
     "data": {
      "text/html": [
       "<pre style=\"white-space:pre;overflow-x:auto;line-height:normal;font-family:Menlo,'DejaVu Sans Mono',consolas,'Courier New',monospace\"><span style=\"color: #7fbfbf; text-decoration-color: #7fbfbf\">                    </span><span style=\"color: #008000; text-decoration-color: #008000\">DEBUG   </span> Starting new HTTP connection <span style=\"font-weight: bold\">(</span><span style=\"color: #008080; text-decoration-color: #008080; font-weight: bold\">1</span><span style=\"font-weight: bold\">)</span>: localhost:<span style=\"color: #008080; text-decoration-color: #008080; font-weight: bold\">5000</span>                 <a href=\"file://d:\\windowsConda\\Lib\\site-packages\\urllib3\\connectionpool.py\" target=\"_blank\"><span style=\"color: #7f7f7f; text-decoration-color: #7f7f7f\">connectionpool.py</span></a><span style=\"color: #7f7f7f; text-decoration-color: #7f7f7f\">:</span><a href=\"file://d:\\windowsConda\\Lib\\site-packages\\urllib3\\connectionpool.py#243\" target=\"_blank\"><span style=\"color: #7f7f7f; text-decoration-color: #7f7f7f\">243</span></a>\n",
       "</pre>\n"
      ],
      "text/plain": [
       "\u001b[2;36m                   \u001b[0m\u001b[2;36m \u001b[0m\u001b[32mDEBUG   \u001b[0m Starting new HTTP connection \u001b[1m(\u001b[0m\u001b[1;36m1\u001b[0m\u001b[1m)\u001b[0m: localhost:\u001b[1;36m5000\u001b[0m                 \u001b]8;id=485569;file://d:\\windowsConda\\Lib\\site-packages\\urllib3\\connectionpool.py\u001b\\\u001b[2mconnectionpool.py\u001b[0m\u001b]8;;\u001b\\\u001b[2m:\u001b[0m\u001b]8;id=542076;file://d:\\windowsConda\\Lib\\site-packages\\urllib3\\connectionpool.py#243\u001b\\\u001b[2m243\u001b[0m\u001b]8;;\u001b\\\n"
      ]
     },
     "metadata": {},
     "output_type": "display_data"
    },
    {
     "data": {
      "text/html": [
       "<pre style=\"white-space:pre;overflow-x:auto;line-height:normal;font-family:Menlo,'DejaVu Sans Mono',consolas,'Courier New',monospace\"><span style=\"color: #7fbfbf; text-decoration-color: #7fbfbf\">[05/14/25 01:40:30] </span><span style=\"color: #008000; text-decoration-color: #008000\">DEBUG   </span> <span style=\"color: #0000ff; text-decoration-color: #0000ff; text-decoration: underline\">http://localhost:5000</span> <span style=\"color: #008000; text-decoration-color: #008000\">\"</span><span style=\"color: #808000; text-decoration-color: #808000; font-weight: bold\">POST</span><span style=\"color: #008000; text-decoration-color: #008000\"> /api/event/insertEvent HTTP/11\"</span> <span style=\"color: #008080; text-decoration-color: #008080; font-weight: bold\">201</span>  <a href=\"file://d:\\windowsConda\\Lib\\site-packages\\urllib3\\connectionpool.py\" target=\"_blank\"><span style=\"color: #7f7f7f; text-decoration-color: #7f7f7f\">connectionpool.py</span></a><span style=\"color: #7f7f7f; text-decoration-color: #7f7f7f\">:</span><a href=\"file://d:\\windowsConda\\Lib\\site-packages\\urllib3\\connectionpool.py#546\" target=\"_blank\"><span style=\"color: #7f7f7f; text-decoration-color: #7f7f7f\">546</span></a>\n",
       "<span style=\"color: #7fbfbf; text-decoration-color: #7fbfbf\">                    </span>         <span style=\"color: #008080; text-decoration-color: #008080; font-weight: bold\">496</span>                                                              <span style=\"color: #7f7f7f; text-decoration-color: #7f7f7f\">                     </span>\n",
       "</pre>\n"
      ],
      "text/plain": [
       "\u001b[2;36m[05/14/25 01:40:30]\u001b[0m\u001b[2;36m \u001b[0m\u001b[32mDEBUG   \u001b[0m \u001b[4;94mhttp://localhost:5000\u001b[0m \u001b[32m\"\u001b[0m\u001b[1;33mPOST\u001b[0m\u001b[32m /api/event/insertEvent HTTP/11\"\u001b[0m \u001b[1;36m201\u001b[0m  \u001b]8;id=980771;file://d:\\windowsConda\\Lib\\site-packages\\urllib3\\connectionpool.py\u001b\\\u001b[2mconnectionpool.py\u001b[0m\u001b]8;;\u001b\\\u001b[2m:\u001b[0m\u001b]8;id=804260;file://d:\\windowsConda\\Lib\\site-packages\\urllib3\\connectionpool.py#546\u001b\\\u001b[2m546\u001b[0m\u001b]8;;\u001b\\\n",
       "\u001b[2;36m                    \u001b[0m         \u001b[1;36m496\u001b[0m                                                              \u001b[2m                     \u001b[0m\n"
      ]
     },
     "metadata": {},
     "output_type": "display_data"
    },
    {
     "data": {
      "text/html": [
       "<pre style=\"white-space:pre;overflow-x:auto;line-height:normal;font-family:Menlo,'DejaVu Sans Mono',consolas,'Courier New',monospace\"><span style=\"color: #7fbfbf; text-decoration-color: #7fbfbf\">                    </span><span style=\"color: #800000; text-decoration-color: #800000; font-weight: bold\">ERROR   </span> Failed to insert event: Youth Career Counseling Fair. Status code:    <a href=\"file://C:\\Users\\Otaku\\AppData\\Local\\Temp\\ipykernel_23876\\3371054377.py\" target=\"_blank\"><span style=\"color: #7f7f7f; text-decoration-color: #7f7f7f\">3371054377.py</span></a><span style=\"color: #7f7f7f; text-decoration-color: #7f7f7f\">:</span><a href=\"file://C:\\Users\\Otaku\\AppData\\Local\\Temp\\ipykernel_23876\\3371054377.py#25\" target=\"_blank\"><span style=\"color: #7f7f7f; text-decoration-color: #7f7f7f\">25</span></a>\n",
       "<span style=\"color: #7fbfbf; text-decoration-color: #7fbfbf\">                    </span>         <span style=\"color: #008080; text-decoration-color: #008080; font-weight: bold\">201</span>                                                                   <span style=\"color: #7f7f7f; text-decoration-color: #7f7f7f\">                </span>\n",
       "</pre>\n"
      ],
      "text/plain": [
       "\u001b[2;36m                   \u001b[0m\u001b[2;36m \u001b[0m\u001b[1;31mERROR   \u001b[0m Failed to insert event: Youth Career Counseling Fair. Status code:    \u001b]8;id=625388;file://C:\\Users\\Otaku\\AppData\\Local\\Temp\\ipykernel_23876\\3371054377.py\u001b\\\u001b[2m3371054377.py\u001b[0m\u001b]8;;\u001b\\\u001b[2m:\u001b[0m\u001b]8;id=333217;file://C:\\Users\\Otaku\\AppData\\Local\\Temp\\ipykernel_23876\\3371054377.py#25\u001b\\\u001b[2m25\u001b[0m\u001b]8;;\u001b\\\n",
       "\u001b[2;36m                    \u001b[0m         \u001b[1;36m201\u001b[0m                                                                   \u001b[2m                \u001b[0m\n"
      ]
     },
     "metadata": {},
     "output_type": "display_data"
    },
    {
     "data": {
      "text/html": [
       "<pre style=\"white-space:pre;overflow-x:auto;line-height:normal;font-family:Menlo,'DejaVu Sans Mono',consolas,'Courier New',monospace\"><span style=\"color: #7fbfbf; text-decoration-color: #7fbfbf\">                    </span><span style=\"color: #000080; text-decoration-color: #000080\">INFO    </span>                                                                       <a href=\"file://C:\\Users\\Otaku\\AppData\\Local\\Temp\\ipykernel_23876\\3371054377.py\" target=\"_blank\"><span style=\"color: #7f7f7f; text-decoration-color: #7f7f7f\">3371054377.py</span></a><span style=\"color: #7f7f7f; text-decoration-color: #7f7f7f\">:</span><a href=\"file://C:\\Users\\Otaku\\AppData\\Local\\Temp\\ipykernel_23876\\3371054377.py#30\" target=\"_blank\"><span style=\"color: #7f7f7f; text-decoration-color: #7f7f7f\">30</span></a>\n",
       "<span style=\"color: #7fbfbf; text-decoration-color: #7fbfbf\">                    </span>         Insert Summary:                                                       <span style=\"color: #7f7f7f; text-decoration-color: #7f7f7f\">                </span>\n",
       "</pre>\n"
      ],
      "text/plain": [
       "\u001b[2;36m                   \u001b[0m\u001b[2;36m \u001b[0m\u001b[34mINFO    \u001b[0m                                                                       \u001b]8;id=906163;file://C:\\Users\\Otaku\\AppData\\Local\\Temp\\ipykernel_23876\\3371054377.py\u001b\\\u001b[2m3371054377.py\u001b[0m\u001b]8;;\u001b\\\u001b[2m:\u001b[0m\u001b]8;id=978788;file://C:\\Users\\Otaku\\AppData\\Local\\Temp\\ipykernel_23876\\3371054377.py#30\u001b\\\u001b[2m30\u001b[0m\u001b]8;;\u001b\\\n",
       "\u001b[2;36m                    \u001b[0m         Insert Summary:                                                       \u001b[2m                \u001b[0m\n"
      ]
     },
     "metadata": {},
     "output_type": "display_data"
    },
    {
     "data": {
      "text/html": [
       "<pre style=\"white-space:pre;overflow-x:auto;line-height:normal;font-family:Menlo,'DejaVu Sans Mono',consolas,'Courier New',monospace\"><span style=\"color: #7fbfbf; text-decoration-color: #7fbfbf\">                    </span><span style=\"color: #000080; text-decoration-color: #000080\">INFO    </span> Successfully inserted: <span style=\"color: #008080; text-decoration-color: #008080; font-weight: bold\">0</span> events                                       <a href=\"file://C:\\Users\\Otaku\\AppData\\Local\\Temp\\ipykernel_23876\\3371054377.py\" target=\"_blank\"><span style=\"color: #7f7f7f; text-decoration-color: #7f7f7f\">3371054377.py</span></a><span style=\"color: #7f7f7f; text-decoration-color: #7f7f7f\">:</span><a href=\"file://C:\\Users\\Otaku\\AppData\\Local\\Temp\\ipykernel_23876\\3371054377.py#31\" target=\"_blank\"><span style=\"color: #7f7f7f; text-decoration-color: #7f7f7f\">31</span></a>\n",
       "</pre>\n"
      ],
      "text/plain": [
       "\u001b[2;36m                   \u001b[0m\u001b[2;36m \u001b[0m\u001b[34mINFO    \u001b[0m Successfully inserted: \u001b[1;36m0\u001b[0m events                                       \u001b]8;id=767247;file://C:\\Users\\Otaku\\AppData\\Local\\Temp\\ipykernel_23876\\3371054377.py\u001b\\\u001b[2m3371054377.py\u001b[0m\u001b]8;;\u001b\\\u001b[2m:\u001b[0m\u001b]8;id=846755;file://C:\\Users\\Otaku\\AppData\\Local\\Temp\\ipykernel_23876\\3371054377.py#31\u001b\\\u001b[2m31\u001b[0m\u001b]8;;\u001b\\\n"
      ]
     },
     "metadata": {},
     "output_type": "display_data"
    },
    {
     "data": {
      "text/html": [
       "<pre style=\"white-space:pre;overflow-x:auto;line-height:normal;font-family:Menlo,'DejaVu Sans Mono',consolas,'Courier New',monospace\"><span style=\"color: #7fbfbf; text-decoration-color: #7fbfbf\">                    </span><span style=\"color: #000080; text-decoration-color: #000080\">INFO    </span> Failed to insert: <span style=\"color: #008080; text-decoration-color: #008080; font-weight: bold\">30</span> events                                           <a href=\"file://C:\\Users\\Otaku\\AppData\\Local\\Temp\\ipykernel_23876\\3371054377.py\" target=\"_blank\"><span style=\"color: #7f7f7f; text-decoration-color: #7f7f7f\">3371054377.py</span></a><span style=\"color: #7f7f7f; text-decoration-color: #7f7f7f\">:</span><a href=\"file://C:\\Users\\Otaku\\AppData\\Local\\Temp\\ipykernel_23876\\3371054377.py#32\" target=\"_blank\"><span style=\"color: #7f7f7f; text-decoration-color: #7f7f7f\">32</span></a>\n",
       "</pre>\n"
      ],
      "text/plain": [
       "\u001b[2;36m                   \u001b[0m\u001b[2;36m \u001b[0m\u001b[34mINFO    \u001b[0m Failed to insert: \u001b[1;36m30\u001b[0m events                                           \u001b]8;id=155682;file://C:\\Users\\Otaku\\AppData\\Local\\Temp\\ipykernel_23876\\3371054377.py\u001b\\\u001b[2m3371054377.py\u001b[0m\u001b]8;;\u001b\\\u001b[2m:\u001b[0m\u001b]8;id=737127;file://C:\\Users\\Otaku\\AppData\\Local\\Temp\\ipykernel_23876\\3371054377.py#32\u001b\\\u001b[2m32\u001b[0m\u001b]8;;\u001b\\\n"
      ]
     },
     "metadata": {},
     "output_type": "display_data"
    }
   ],
   "source": [
    "import requests\n",
    "import json\n",
    "import sys; sys.path.append('.')\n",
    "from logger import Logger\n",
    "# List of event data\n",
    "from data import events\n",
    "\n",
    "def insert_events():\n",
    "    url = \"http://localhost:5000/api/event/insertEvent\"\n",
    "    headers = {\n",
    "        \"Content-Type\": \"application/json\"\n",
    "    }\n",
    "    \n",
    "    success_count = 0\n",
    "    failed_count = 0\n",
    "    \n",
    "    for event in events:\n",
    "        try:\n",
    "            response = requests.post(url, json=event, headers=headers)\n",
    "            if response.status_code == 200:\n",
    "                success_count += 1\n",
    "                Logger.info(f\"Successfully inserted event: {event['title']}\")\n",
    "            else:\n",
    "                failed_count += 1\n",
    "                Logger.error(f\"Failed to insert event: {event['title']}. Status code: {response.status_code}\")\n",
    "        except Exception as e:\n",
    "            failed_count += 1\n",
    "            Logger.error(f\"Error inserting event {event['title']}: {str(e)}\")\n",
    "            \n",
    "    Logger.info(f\"\\nInsert Summary:\")\n",
    "    Logger.info(f\"Successfully inserted: {success_count} events\")\n",
    "    Logger.info(f\"Failed to insert: {failed_count} events\")\n",
    "\n",
    "if __name__ == \"__main__\":\n",
    "    insert_events()"
   ]
  },
  {
   "cell_type": "code",
   "execution_count": null,
   "metadata": {},
   "outputs": [],
   "source": []
  }
 ],
 "metadata": {
  "kernelspec": {
   "display_name": "base",
   "language": "python",
   "name": "python3"
  },
  "language_info": {
   "codemirror_mode": {
    "name": "ipython",
    "version": 3
   },
   "file_extension": ".py",
   "mimetype": "text/x-python",
   "name": "python",
   "nbconvert_exporter": "python",
   "pygments_lexer": "ipython3",
   "version": "3.12.7"
  }
 },
 "nbformat": 4,
 "nbformat_minor": 2
}

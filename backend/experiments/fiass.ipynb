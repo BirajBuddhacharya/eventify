{
 "cells": [
  {
   "cell_type": "code",
   "execution_count": 3,
   "id": "b26c6c62",
   "metadata": {},
   "outputs": [
    {
     "data": {
      "text/plain": [
       "Index(['event_id', 'branch_id', 'title', 'description', 'event_date',\n",
       "       'location', 'is_paid', 'price', 'max_capacity', 'imageUrl',\n",
       "       'created_at', 'updated_at'],\n",
       "      dtype='object')"
      ]
     },
     "execution_count": 3,
     "metadata": {},
     "output_type": "execute_result"
    }
   ],
   "source": [
    "import pandas as pd\n",
    "\n",
    "df = pd.read_csv('events.csv')\n",
    "df.columns"
   ]
  },
  {
   "cell_type": "code",
   "execution_count": 5,
   "id": "adb47bde",
   "metadata": {},
   "outputs": [],
   "source": [
    "from langchain_core.documents import Document\n",
    "\n",
    "documents = []\n",
    "for _, row in df.iterrows():\n",
    "    document = Document(\n",
    "        page_content=row['description'],\n",
    "        metadata={\n",
    "            'event_id': row['event_id'],\n",
    "            'event_name': row['title'],\n",
    "            'event_date': row['event_date'],\n",
    "            'location': row['location']\n",
    "        }\n",
    "    )\n",
    "    documents.append(document)"
   ]
  },
  {
   "cell_type": "code",
   "execution_count": null,
   "id": "94ce27e5",
   "metadata": {},
   "outputs": [
    {
     "name": "stderr",
     "output_type": "stream",
     "text": [
      "C:\\Users\\Otaku\\AppData\\Local\\Temp\\ipykernel_17720\\1199625342.py:3: LangChainDeprecationWarning: The class `HuggingFaceEmbeddings` was deprecated in LangChain 0.2.2 and will be removed in 1.0. An updated version of the class exists in the :class:`~langchain-huggingface package and should be used instead. To use it run `pip install -U :class:`~langchain-huggingface` and import as `from :class:`~langchain_huggingface import HuggingFaceEmbeddings``.\n",
      "  embeding_model = HuggingFaceEmbeddings(\n"
     ]
    }
   ],
   "source": [
    "from langchain.embeddings import HuggingFaceEmbeddings\n",
    "from langchain.vectorstores import FAISS\n",
    "embeding_model = HuggingFaceEmbeddings(\n",
    "    model_name=\"all-MiniLM-L6-v2\"\n",
    ")\n",
    "vectorstore = FAISS.from_documents(documents, embeding_model)"
   ]
  },
  {
   "cell_type": "code",
   "execution_count": 14,
   "id": "f6f9d054",
   "metadata": {},
   "outputs": [
    {
     "name": "stdout",
     "output_type": "stream",
     "text": [
      "{'event_id': 12, 'event_name': 'Cultural Dance Night', 'event_date': '2025-07-02 10:00:00', 'location': 'Gandaki Hall, Hotel Barahi, Lakeside, Pokhara 33700, Nepal'}\n",
      "{'event_id': 23, 'event_name': 'Street Art Festival', 'event_date': '2025-07-24 10:00:00', 'location': 'Basantapur Square, Kathmandu 44600, Nepal'}\n",
      "{'event_id': 38, 'event_name': 'Midnight Brew Fest', 'event_date': '2025-06-14 00:00:00', 'location': 'Sydney, Australia '}\n",
      "{'event_id': 15, 'event_name': 'Gaming Tournament: Pokhara Edition', 'event_date': '2025-07-08 10:00:00', 'location': 'LAN Arena, Opposite to Hallan Chowk, Pokhara 33700, Nepal'}\n",
      "{'event_id': 3, 'event_name': 'Art & Expression Workshop', 'event_date': '2025-06-13 00:00:00', 'location': 'Pokhara Art Gallery, Baidam Rd, Lakeside-6, Pokhara 33700, Nepal'}\n"
     ]
    }
   ],
   "source": [
    "query = vectorstore.similarity_search(\"Cultural Dance Night\", k=5)\n",
    "\n",
    "for doc in query:\n",
    "    # print(doc.page_content)\n",
    "    print(doc.metadata)"
   ]
  }
 ],
 "metadata": {
  "kernelspec": {
   "display_name": "base",
   "language": "python",
   "name": "python3"
  },
  "language_info": {
   "codemirror_mode": {
    "name": "ipython",
    "version": 3
   },
   "file_extension": ".py",
   "mimetype": "text/x-python",
   "name": "python",
   "nbconvert_exporter": "python",
   "pygments_lexer": "ipython3",
   "version": "3.12.3"
  }
 },
 "nbformat": 4,
 "nbformat_minor": 5
}

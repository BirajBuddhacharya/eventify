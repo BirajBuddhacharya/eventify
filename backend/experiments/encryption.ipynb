{
 "cells": [
  {
   "cell_type": "code",
   "execution_count": 5,
   "id": "f046e812",
   "metadata": {},
   "outputs": [
    {
     "name": "stdout",
     "output_type": "stream",
     "text": [
      "b'KYui_8BD4nLPIBAW4P3IrV2NH_EFnyuPBWhndD7dHoQ='\n",
      "JSON String: {\"username\": \"john_doe\", \"email\": \"john@example.com\", \"admin\": true}\n",
      "JSON Bytes: b'{\"username\": \"john_doe\", \"email\": \"john@example.com\", \"admin\": true}'\n",
      "Encrypted JSON: b'gAAAAABoSll9Aup1lnMK2R6vmbxVB7Tu1VkOzDsijxptmQo985EM0noyN4QvJSIiWJxTx2W45zlLXl8q4dGFKeM1GvcZeSM2M5hB7kw98W9sKOf4x_-G58liQFd3Ed0wwjIl4Gw8zTrU8gL4GxNMeB1iy9I4Wd1SFjgla1h5dNxGNKZNBtWvXUA='\n",
      "Decrypted JSON: {'username': 'john_doe', 'email': 'john@example.com', 'admin': True}\n"
     ]
    }
   ],
   "source": [
    "import json\n",
    "from cryptography.fernet import Fernet\n",
    "\n",
    "# Step 1: Generate a key (only once, save this securely)\n",
    "key = Fernet.generate_key()  # This generates a secure 32-byte key that is URL-safe base64-encoded\n",
    "cipher = Fernet(key)\n",
    "\n",
    "# Step 2: Sample JSON data\n",
    "data = {\n",
    "    \"username\": \"john_doe\",\n",
    "    \"email\": \"john@example.com\",\n",
    "    \"admin\": True\n",
    "}\n",
    "\n",
    "print(key)\n",
    "# Step 3: Serialize JSON to string, then to bytes\n",
    "json_str = json.dumps(data)\n",
    "json_bytes = json_str.encode()\n",
    "\n",
    "print(\"JSON String:\", json_str)\n",
    "print(\"JSON Bytes:\", json_bytes)\n",
    "# Step 4: Encrypt\n",
    "encrypted_data = cipher.encrypt(json_bytes)\n",
    "print(\"Encrypted JSON:\", encrypted_data)\n",
    "\n",
    "# Step 5: Decrypt\n",
    "decrypted_bytes = cipher.decrypt(encrypted_data)\n",
    "decrypted_json = json.loads(decrypted_bytes.decode())\n",
    "print(\"Decrypted JSON:\", decrypted_json)"
   ]
  },
  {
   "cell_type": "code",
   "execution_count": 15,
   "id": "584b3ffa",
   "metadata": {},
   "outputs": [
    {
     "name": "stdout",
     "output_type": "stream",
     "text": [
      "Successfully decrypted: {'username': 'john_doe', 'email': 'john@example.com', 'admin': True}\n"
     ]
    }
   ],
   "source": [
    "from cryptography.fernet import InvalidToken\n",
    "\n",
    "try: \n",
    "    \n",
    "    # The encrypted data should be in bytes format, not string\n",
    "    encrypted_text = b\"gAAAAABoSll9Aup1lnMK2R6vmbxVB7Tu1VkOzDsijxptmQo985EM0noyN4QvJSIiWJxTx2W45zlLXl8q4dGFKeM1GvcZeSM2M5hB7kw98W9sKOf4x_-G58liQFd3Ed0wwjIl4Gw8zTrU8gL4GxNMeB1iy9I4Wd1SFjgla1h5dNxGNKZNBtWvXUA=\"\n",
    "    \n",
    "    x = cipher.decrypt(encrypted_text)\n",
    "    decrypted_data = json.loads(x.decode())\n",
    "    print(\"Successfully decrypted:\", decrypted_data)\n",
    "except InvalidToken:\n",
    "    print(\"Invalid token: decryption failed.\")"
   ]
  },
  {
   "cell_type": "code",
   "execution_count": 16,
   "id": "e247d210",
   "metadata": {},
   "outputs": [
    {
     "data": {
      "text/plain": [
       "b'KYui_8BD4nLPIBAW4P3IrV2NH_EFnyuPBWhndD7dHoQ='"
      ]
     },
     "execution_count": 16,
     "metadata": {},
     "output_type": "execute_result"
    }
   ],
   "source": [
    "key"
   ]
  },
  {
   "cell_type": "code",
   "execution_count": null,
   "id": "b5cb74b4",
   "metadata": {},
   "outputs": [],
   "source": []
  }
 ],
 "metadata": {
  "kernelspec": {
   "display_name": ".venv",
   "language": "python",
   "name": "python3"
  },
  "language_info": {
   "codemirror_mode": {
    "name": "ipython",
    "version": 3
   },
   "file_extension": ".py",
   "mimetype": "text/x-python",
   "name": "python",
   "nbconvert_exporter": "python",
   "pygments_lexer": "ipython3",
   "version": "3.12.3"
  }
 },
 "nbformat": 4,
 "nbformat_minor": 5
}
